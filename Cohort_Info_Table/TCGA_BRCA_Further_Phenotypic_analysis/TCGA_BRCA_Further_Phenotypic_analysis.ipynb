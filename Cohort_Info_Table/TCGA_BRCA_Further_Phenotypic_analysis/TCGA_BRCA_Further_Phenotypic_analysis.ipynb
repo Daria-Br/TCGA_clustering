{
 "cells": [
  {
   "cell_type": "markdown",
   "metadata": {},
   "source": [
    "## BRCA Phenotypic analysis\n",
    "\n",
    "Counting of phenotypic features to create a tabular overview of the cohorts after clustering."
   ]
  },
  {
   "cell_type": "code",
   "execution_count": 2,
   "metadata": {},
   "outputs": [],
   "source": [
    "#import the necessary libraries\n",
    "import numpy as np\n",
    "import pandas as pd\n",
    "import matplotlib.pyplot as plt\n",
    "import openpyxl\n",
    "\n",
    "\n",
    "%matplotlib inline\n",
    "\n",
    "# import warnings filter\n",
    "from warnings import simplefilter\n",
    "# ignore all future warnings\n",
    "simplefilter(action='ignore', category=FutureWarning)"
   ]
  },
  {
   "cell_type": "markdown",
   "metadata": {},
   "source": [
    "Import the dataset containing phenotypic features and the results table from the cluster analysis. After filtering, join them to have cluster and phenotypic data in one dataset."
   ]
  },
  {
   "cell_type": "code",
   "execution_count": null,
   "metadata": {},
   "outputs": [],
   "source": [
    "df_pheno_all = pd.read_csv(\"BRCA_Pheno.tsv\", sep= \"\\t\", index_col= 0)\n",
    "X = df_pheno_all \n",
    "\n",
    "df_clusters = pd.read_excel(\"BRCA_HER2+_Main.xlsx\",  index_col = 0)\n",
    "df_clusters = df_clusters.drop([\"histological_type\", \"samples\"], axis = 1)\n",
    "cluster_pheno = df_clusters.join(X)\n",
    "\n",
    "pheno_means = cluster_pheno.groupby(\"Cluster\").mean()"
   ]
  },
  {
   "cell_type": "markdown",
   "metadata": {},
   "source": [
    "After having created a dataset, count the phenotypic daty by cluster and create a excel spreadsheet with the counted information."
   ]
  },
  {
   "cell_type": "code",
   "execution_count": 5,
   "metadata": {},
   "outputs": [],
   "source": [
    "\n",
    "gender_cluster = cluster_pheno.groupby(\"Cluster\")[\"gender\"].value_counts()\n",
    "\n",
    "pT_cluster = cluster_pheno.groupby(\"Cluster\")[\"pathologic_T\"].value_counts()\n",
    "pN_cluster = cluster_pheno.groupby(\"Cluster\")[\"pathologic_N\"].value_counts()\n",
    "pM_cluster = cluster_pheno.groupby(\"Cluster\")[\"pathologic_M\"].value_counts()\n",
    "\n",
    "pStage_cluster = cluster_pheno.groupby(\"Cluster\")['AJCC_Stage_nature2012'].value_counts()\n",
    "\n",
    "histo_cluster = cluster_pheno.groupby(\"Cluster\")[\"histological_type\"].value_counts()\n",
    "\n",
    "with pd.ExcelWriter('BRCA_pheno_analysis.xlsx') as writer:\n",
    "    cluster_pheno.to_excel(writer, sheet_name='Raw')\n",
    "    gender_cluster.to_excel(writer, sheet_name='Gender')\n",
    "    age_mean_cluster.to_excel(writer, sheet_name=\"age_mean\")\n",
    "    age_counts_cluster.to_excel(writer, sheet_name=\"age_counts\")\n",
    "    histo_cluster.to_excel(writer, sheet_name=\"Histo_Subtype\")\n",
    "    pT_cluster.to_excel(writer, sheet_name=\"pT\")\n",
    "    pN_cluster.to_excel(writer, sheet_name=\"pN\")\n",
    "    pM_cluster.to_excel(writer, sheet_name=\"pM\")"
   ]
  }
 ],
 "metadata": {
  "kernelspec": {
   "display_name": "Python 3",
   "language": "python",
   "name": "python3"
  },
  "language_info": {
   "codemirror_mode": {
    "name": "ipython",
    "version": 3
   },
   "file_extension": ".py",
   "mimetype": "text/x-python",
   "name": "python",
   "nbconvert_exporter": "python",
   "pygments_lexer": "ipython3",
   "version": "3.8.3"
  }
 },
 "nbformat": 4,
 "nbformat_minor": 4
}
