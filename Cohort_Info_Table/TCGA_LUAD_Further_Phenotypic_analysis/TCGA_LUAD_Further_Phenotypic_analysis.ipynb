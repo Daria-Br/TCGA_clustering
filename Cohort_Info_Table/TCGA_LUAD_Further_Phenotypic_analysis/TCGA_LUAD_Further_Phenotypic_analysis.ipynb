{
 "cells": [
  {
   "cell_type": "markdown",
   "metadata": {},
   "source": [
    "## LUAD Phenotypic analysis\n",
    "\n",
    "Counting of phenotypic features to create a tabular overview of the cohorts after clustering."
   ]
  },
  {
   "cell_type": "code",
   "execution_count": 6,
   "metadata": {},
   "outputs": [],
   "source": [
    "#import the necessary libraries\n",
    "import numpy as np\n",
    "import pandas as pd\n",
    "import matplotlib.pyplot as plt\n",
    "import openpyxl\n",
    "\n",
    "\n",
    "%matplotlib inline\n",
    "\n",
    "# import warnings filter\n",
    "from warnings import simplefilter\n",
    "# ignore all future warnings\n",
    "simplefilter(action='ignore', category=FutureWarning)"
   ]
  },
  {
   "cell_type": "markdown",
   "metadata": {},
   "source": [
    "Import the dataset containing phenotypic features and the results table from the cluster analysis. After filtering, join them to have cluster and phenotypic data in one dataset."
   ]
  },
  {
   "cell_type": "code",
   "execution_count": 7,
   "metadata": {},
   "outputs": [],
   "source": [
    "df_pheno_all = pd.read_csv(\"Phenotypic_data_LUAD.tsv\", sep= \"\\t\", index_col= 0)\n",
    "X = df_pheno_all \n",
    "X\n",
    "df_clusters = pd.read_excel(\"LUAD_Table_for_decon.xlsx\", sheet_name = 3, index_col = 0)\n",
    "df_clusters = df_clusters.drop([\"histological_type\"], axis = 1)\n",
    "cluster_pheno = df_clusters.join(X)\n",
    "pheno_means = cluster_pheno.groupby(\"Cluster\").mean()"
   ]
  },
  {
   "cell_type": "markdown",
   "metadata": {},
   "source": [
    "After having created a dataset, count the phenotypic daty by cluster and create a excel spreadsheet with the counted information."
   ]
  },
  {
   "cell_type": "code",
   "execution_count": 8,
   "metadata": {},
   "outputs": [],
   "source": [
    "gender_cluster = cluster_pheno.groupby(\"Cluster\")[\"gender\"].value_counts()\n",
    "KRAS_EGFR_ALK_per_Cluster = cluster_pheno.groupby(\"Cluster\")[\"Canonical_mut_in_KRAS_EGFR_ALK\"].value_counts()\n",
    "\n",
    "pT_cluster = cluster_pheno.groupby(\"Cluster\")[\"pathologic_T\"].value_counts()\n",
    "pN_cluster = cluster_pheno.groupby(\"Cluster\")[\"pathologic_N\"].value_counts()\n",
    "pM_cluster = cluster_pheno.groupby(\"Cluster\")[\"pathologic_M\"].value_counts()\n",
    "\n",
    "pStage_cluster = cluster_pheno.groupby(\"Cluster\")[\"pathologic_stage\"].value_counts()\n",
    "\n",
    "histo_cluster = cluster_pheno.groupby(\"Cluster\")[\"histological_type\"].value_counts()\n",
    "\n",
    "neoadj_cluster = cluster_pheno.groupby(\"Cluster\")['history_of_neoadjuvant_treatment'].value_counts()\n",
    "\n",
    "add_pharm_cluster = cluster_pheno.groupby(\"Cluster\")['additional_pharmaceutical_therapy'].value_counts()\n",
    "\n",
    "add_loc_surg_cluster = cluster_pheno.groupby(\"Cluster\")['additional_surgery_locoregional_procedure'].value_counts()\n",
    "add_met_surg_cluster = cluster_pheno.groupby(\"Cluster\")['additional_surgery_metastatic_procedure'].value_counts()\n",
    "add_rad_cluster = cluster_pheno.groupby(\"Cluster\")['additional_radiation_therapy'].value_counts()\n",
    "age_counts_cluster = cluster_pheno.groupby(\"Cluster\")['age_at_initial_pathologic_diagnosis'].value_counts()\n",
    "age_mean_cluster = cluster_pheno.groupby(\"Cluster\")['age_at_initial_pathologic_diagnosis'].mean()\n",
    "\n",
    "Cnncl_mt_n_KRAS_EGFR_ALK_RET_ROS1_BRAF_ERBB2_HRAS_NRAS_AKT1_MAP2_cluster = cluster_pheno.groupby(\"Cluster\")['Cnncl_mt_n_KRAS_EGFR_ALK_RET_ROS1_BRAF_ERBB2_HRAS_NRAS_AKT1_MAP2'].value_counts()\n",
    "\n",
    "\n",
    "with pd.ExcelWriter('LUAD_pheno_analysis.xlsx') as writer:\n",
    "    cluster_pheno.to_excel(writer, sheet_name='Raw')\n",
    "    gender_cluster.to_excel(writer, sheet_name='Gender')\n",
    "    age_mean_cluster.to_excel(writer, sheet_name=\"age_mean\")\n",
    "    age_counts_cluster.to_excel(writer, sheet_name=\"age_counts\")\n",
    "    histo_cluster.to_excel(writer, sheet_name=\"Histo_Subtype\")\n",
    "    pT_cluster.to_excel(writer, sheet_name=\"pT\")\n",
    "    pN_cluster.to_excel(writer, sheet_name=\"pN\")\n",
    "    pM_cluster.to_excel(writer, sheet_name=\"pM\")\n",
    "    KRAS_EGFR_ALK_per_Cluster.to_excel(writer, sheet_name=\"KRAS_EGFR_ALK_per_Cluster\")\n",
    "    Cnncl_mt_n_KRAS_EGFR_ALK_RET_ROS1_BRAF_ERBB2_HRAS_NRAS_AKT1_MAP2_cluster.to_excel(writer, sheet_name=\"More mutations included\")\n",
    "    neoadj_cluster.to_excel(writer, sheet_name=\"History_neoadj_treatment\")\n",
    "    add_pharm_cluster.to_excel(writer, sheet_name=\"add_pharmacologic_treatment\")\n",
    "    add_rad_cluster.to_excel(writer, sheet_name=\"add_radiation_treatment\")\n",
    "    add_loc_surg_cluster.to_excel(writer, sheet_name=\"add_locoregional_surgical_proc\")\n",
    "    add_met_surg_cluster.to_excel(writer, sheet_name=\"add_metastatic_surgical_proc\")\n",
    "    \n"
   ]
  },
  {
   "cell_type": "code",
   "execution_count": null,
   "metadata": {},
   "outputs": [],
   "source": []
  }
 ],
 "metadata": {
  "kernelspec": {
   "display_name": "Python 3",
   "language": "python",
   "name": "python3"
  },
  "language_info": {
   "codemirror_mode": {
    "name": "ipython",
    "version": 3
   },
   "file_extension": ".py",
   "mimetype": "text/x-python",
   "name": "python",
   "nbconvert_exporter": "python",
   "pygments_lexer": "ipython3",
   "version": "3.8.3"
  }
 },
 "nbformat": 4,
 "nbformat_minor": 4
}
