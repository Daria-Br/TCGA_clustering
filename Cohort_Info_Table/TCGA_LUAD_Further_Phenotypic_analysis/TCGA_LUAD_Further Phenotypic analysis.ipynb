{
 "cells": [
  {
   "cell_type": "code",
   "execution_count": 1,
   "metadata": {},
   "outputs": [],
   "source": [
    "import numpy as np\n",
    "import pandas as pd\n",
    "import matplotlib.pyplot as plt "
   ]
  },
  {
   "cell_type": "code",
   "execution_count": 2,
   "metadata": {},
   "outputs": [],
   "source": [
    "df_pheno_all = pd.read_csv(\"Phenotypic_data_LUAD.tsv\", sep= \"\\t\", index_col= 0)"
   ]
  },
  {
   "cell_type": "code",
   "execution_count": null,
   "metadata": {},
   "outputs": [],
   "source": []
  },
  {
   "cell_type": "code",
   "execution_count": 3,
   "metadata": {},
   "outputs": [
    {
     "data": {
      "text/html": [
       "<div>\n",
       "<style scoped>\n",
       "    .dataframe tbody tr th:only-of-type {\n",
       "        vertical-align: middle;\n",
       "    }\n",
       "\n",
       "    .dataframe tbody tr th {\n",
       "        vertical-align: top;\n",
       "    }\n",
       "\n",
       "    .dataframe thead th {\n",
       "        text-align: right;\n",
       "    }\n",
       "</style>\n",
       "<table border=\"1\" class=\"dataframe\">\n",
       "  <thead>\n",
       "    <tr style=\"text-align: right;\">\n",
       "      <th></th>\n",
       "      <th>samples</th>\n",
       "      <th>Canonical_mut_in_KRAS_EGFR_ALK</th>\n",
       "      <th>Cnncl_mt_n_KRAS_EGFR_ALK_RET_ROS1_BRAF_ERBB2_HRAS_NRAS_AKT1_MAP2</th>\n",
       "      <th>DFI</th>\n",
       "      <th>DFI.time</th>\n",
       "      <th>DSS</th>\n",
       "      <th>DSS.time</th>\n",
       "      <th>gender</th>\n",
       "      <th>PFI</th>\n",
       "      <th>PFI.time</th>\n",
       "      <th>...</th>\n",
       "      <th>MET</th>\n",
       "      <th>pathologic_M</th>\n",
       "      <th>pathologic_N</th>\n",
       "      <th>pathologic_T</th>\n",
       "      <th>additional_surgery_metastatic_procedure</th>\n",
       "      <th>additional_surgery_locoregional_procedure</th>\n",
       "      <th>additional_pharmaceutical_therapy</th>\n",
       "      <th>additional_radiation_therapy</th>\n",
       "      <th>histological_type</th>\n",
       "      <th>history_of_neoadjuvant_treatment</th>\n",
       "    </tr>\n",
       "    <tr>\n",
       "      <th>sample</th>\n",
       "      <th></th>\n",
       "      <th></th>\n",
       "      <th></th>\n",
       "      <th></th>\n",
       "      <th></th>\n",
       "      <th></th>\n",
       "      <th></th>\n",
       "      <th></th>\n",
       "      <th></th>\n",
       "      <th></th>\n",
       "      <th></th>\n",
       "      <th></th>\n",
       "      <th></th>\n",
       "      <th></th>\n",
       "      <th></th>\n",
       "      <th></th>\n",
       "      <th></th>\n",
       "      <th></th>\n",
       "      <th></th>\n",
       "      <th></th>\n",
       "      <th></th>\n",
       "    </tr>\n",
       "  </thead>\n",
       "  <tbody>\n",
       "    <tr>\n",
       "      <th>TCGA-49-4486-01</th>\n",
       "      <td>TCGA-49-4486-01</td>\n",
       "      <td>N</td>\n",
       "      <td>N</td>\n",
       "      <td>1.0</td>\n",
       "      <td>2045.0</td>\n",
       "      <td>1.0</td>\n",
       "      <td>2318.0</td>\n",
       "      <td>MALE</td>\n",
       "      <td>1.0</td>\n",
       "      <td>2045.0</td>\n",
       "      <td>...</td>\n",
       "      <td>none</td>\n",
       "      <td>M0</td>\n",
       "      <td>N0</td>\n",
       "      <td>T1</td>\n",
       "      <td>NO</td>\n",
       "      <td>NO</td>\n",
       "      <td>NO</td>\n",
       "      <td>NO</td>\n",
       "      <td>Lung Adenocarcinoma- Not Otherwise Specified (...</td>\n",
       "      <td>No</td>\n",
       "    </tr>\n",
       "    <tr>\n",
       "      <th>TCGA-49-4486-11</th>\n",
       "      <td>TCGA-49-4486-11</td>\n",
       "      <td>N</td>\n",
       "      <td>N</td>\n",
       "      <td>1.0</td>\n",
       "      <td>2045.0</td>\n",
       "      <td>1.0</td>\n",
       "      <td>2318.0</td>\n",
       "      <td>MALE</td>\n",
       "      <td>1.0</td>\n",
       "      <td>2045.0</td>\n",
       "      <td>...</td>\n",
       "      <td>none</td>\n",
       "      <td>M0</td>\n",
       "      <td>N0</td>\n",
       "      <td>T1</td>\n",
       "      <td>NO</td>\n",
       "      <td>NO</td>\n",
       "      <td>NO</td>\n",
       "      <td>NO</td>\n",
       "      <td>Lung Adenocarcinoma- Not Otherwise Specified (...</td>\n",
       "      <td>No</td>\n",
       "    </tr>\n",
       "    <tr>\n",
       "      <th>TCGA-73-7499-01</th>\n",
       "      <td>TCGA-73-7499-01</td>\n",
       "      <td>N</td>\n",
       "      <td>N</td>\n",
       "      <td>1.0</td>\n",
       "      <td>1447.0</td>\n",
       "      <td>0.0</td>\n",
       "      <td>1531.0</td>\n",
       "      <td>FEMALE</td>\n",
       "      <td>1.0</td>\n",
       "      <td>1447.0</td>\n",
       "      <td>...</td>\n",
       "      <td>none</td>\n",
       "      <td>M0</td>\n",
       "      <td>N0</td>\n",
       "      <td>T2a</td>\n",
       "      <td>YES</td>\n",
       "      <td>NaN</td>\n",
       "      <td>NO</td>\n",
       "      <td>NO</td>\n",
       "      <td>Lung Adenocarcinoma Mixed Subtype</td>\n",
       "      <td>No</td>\n",
       "    </tr>\n",
       "    <tr>\n",
       "      <th>TCGA-95-7039-01</th>\n",
       "      <td>TCGA-95-7039-01</td>\n",
       "      <td>N</td>\n",
       "      <td>N</td>\n",
       "      <td>1.0</td>\n",
       "      <td>1258.0</td>\n",
       "      <td>0.0</td>\n",
       "      <td>1272.0</td>\n",
       "      <td>FEMALE</td>\n",
       "      <td>1.0</td>\n",
       "      <td>1258.0</td>\n",
       "      <td>...</td>\n",
       "      <td>none</td>\n",
       "      <td>MX</td>\n",
       "      <td>N0</td>\n",
       "      <td>T3</td>\n",
       "      <td>NaN</td>\n",
       "      <td>NO</td>\n",
       "      <td>NO</td>\n",
       "      <td>NO</td>\n",
       "      <td>Lung Adenocarcinoma- Not Otherwise Specified (...</td>\n",
       "      <td>No</td>\n",
       "    </tr>\n",
       "    <tr>\n",
       "      <th>TCGA-78-7152-01</th>\n",
       "      <td>TCGA-78-7152-01</td>\n",
       "      <td>N</td>\n",
       "      <td>N</td>\n",
       "      <td>1.0</td>\n",
       "      <td>1202.0</td>\n",
       "      <td>1.0</td>\n",
       "      <td>1215.0</td>\n",
       "      <td>MALE</td>\n",
       "      <td>1.0</td>\n",
       "      <td>1202.0</td>\n",
       "      <td>...</td>\n",
       "      <td>none</td>\n",
       "      <td>M0</td>\n",
       "      <td>N0</td>\n",
       "      <td>T2</td>\n",
       "      <td>NO</td>\n",
       "      <td>NaN</td>\n",
       "      <td>NO</td>\n",
       "      <td>YES</td>\n",
       "      <td>Lung Adenocarcinoma Mixed Subtype</td>\n",
       "      <td>No</td>\n",
       "    </tr>\n",
       "    <tr>\n",
       "      <th>...</th>\n",
       "      <td>...</td>\n",
       "      <td>...</td>\n",
       "      <td>...</td>\n",
       "      <td>...</td>\n",
       "      <td>...</td>\n",
       "      <td>...</td>\n",
       "      <td>...</td>\n",
       "      <td>...</td>\n",
       "      <td>...</td>\n",
       "      <td>...</td>\n",
       "      <td>...</td>\n",
       "      <td>...</td>\n",
       "      <td>...</td>\n",
       "      <td>...</td>\n",
       "      <td>...</td>\n",
       "      <td>...</td>\n",
       "      <td>...</td>\n",
       "      <td>...</td>\n",
       "      <td>...</td>\n",
       "      <td>...</td>\n",
       "      <td>...</td>\n",
       "    </tr>\n",
       "    <tr>\n",
       "      <th>TCGA-17-Z059-01</th>\n",
       "      <td>TCGA-17-Z059-01</td>\n",
       "      <td>NaN</td>\n",
       "      <td>NaN</td>\n",
       "      <td>NaN</td>\n",
       "      <td>NaN</td>\n",
       "      <td>NaN</td>\n",
       "      <td>NaN</td>\n",
       "      <td>NaN</td>\n",
       "      <td>NaN</td>\n",
       "      <td>NaN</td>\n",
       "      <td>...</td>\n",
       "      <td>NaN</td>\n",
       "      <td>NaN</td>\n",
       "      <td>NaN</td>\n",
       "      <td>NaN</td>\n",
       "      <td>NaN</td>\n",
       "      <td>NaN</td>\n",
       "      <td>NaN</td>\n",
       "      <td>NaN</td>\n",
       "      <td>NaN</td>\n",
       "      <td>NaN</td>\n",
       "    </tr>\n",
       "    <tr>\n",
       "      <th>TCGA-17-Z060-01</th>\n",
       "      <td>TCGA-17-Z060-01</td>\n",
       "      <td>NaN</td>\n",
       "      <td>NaN</td>\n",
       "      <td>NaN</td>\n",
       "      <td>NaN</td>\n",
       "      <td>NaN</td>\n",
       "      <td>NaN</td>\n",
       "      <td>NaN</td>\n",
       "      <td>NaN</td>\n",
       "      <td>NaN</td>\n",
       "      <td>...</td>\n",
       "      <td>NaN</td>\n",
       "      <td>NaN</td>\n",
       "      <td>NaN</td>\n",
       "      <td>NaN</td>\n",
       "      <td>NaN</td>\n",
       "      <td>NaN</td>\n",
       "      <td>NaN</td>\n",
       "      <td>NaN</td>\n",
       "      <td>NaN</td>\n",
       "      <td>NaN</td>\n",
       "    </tr>\n",
       "    <tr>\n",
       "      <th>TCGA-17-Z061-01</th>\n",
       "      <td>TCGA-17-Z061-01</td>\n",
       "      <td>NaN</td>\n",
       "      <td>NaN</td>\n",
       "      <td>NaN</td>\n",
       "      <td>NaN</td>\n",
       "      <td>NaN</td>\n",
       "      <td>NaN</td>\n",
       "      <td>NaN</td>\n",
       "      <td>NaN</td>\n",
       "      <td>NaN</td>\n",
       "      <td>...</td>\n",
       "      <td>NaN</td>\n",
       "      <td>NaN</td>\n",
       "      <td>NaN</td>\n",
       "      <td>NaN</td>\n",
       "      <td>NaN</td>\n",
       "      <td>NaN</td>\n",
       "      <td>NaN</td>\n",
       "      <td>NaN</td>\n",
       "      <td>NaN</td>\n",
       "      <td>NaN</td>\n",
       "    </tr>\n",
       "    <tr>\n",
       "      <th>TCGA-17-Z062-01</th>\n",
       "      <td>TCGA-17-Z062-01</td>\n",
       "      <td>NaN</td>\n",
       "      <td>NaN</td>\n",
       "      <td>NaN</td>\n",
       "      <td>NaN</td>\n",
       "      <td>NaN</td>\n",
       "      <td>NaN</td>\n",
       "      <td>NaN</td>\n",
       "      <td>NaN</td>\n",
       "      <td>NaN</td>\n",
       "      <td>...</td>\n",
       "      <td>NaN</td>\n",
       "      <td>NaN</td>\n",
       "      <td>NaN</td>\n",
       "      <td>NaN</td>\n",
       "      <td>NaN</td>\n",
       "      <td>NaN</td>\n",
       "      <td>NaN</td>\n",
       "      <td>NaN</td>\n",
       "      <td>NaN</td>\n",
       "      <td>NaN</td>\n",
       "    </tr>\n",
       "    <tr>\n",
       "      <th>TCGA-35-3621-01</th>\n",
       "      <td>TCGA-35-3621-01</td>\n",
       "      <td>NaN</td>\n",
       "      <td>NaN</td>\n",
       "      <td>NaN</td>\n",
       "      <td>NaN</td>\n",
       "      <td>NaN</td>\n",
       "      <td>NaN</td>\n",
       "      <td>NaN</td>\n",
       "      <td>NaN</td>\n",
       "      <td>NaN</td>\n",
       "      <td>...</td>\n",
       "      <td>NaN</td>\n",
       "      <td>NaN</td>\n",
       "      <td>NaN</td>\n",
       "      <td>NaN</td>\n",
       "      <td>NaN</td>\n",
       "      <td>NaN</td>\n",
       "      <td>NaN</td>\n",
       "      <td>NaN</td>\n",
       "      <td>NaN</td>\n",
       "      <td>NaN</td>\n",
       "    </tr>\n",
       "  </tbody>\n",
       "</table>\n",
       "<p>706 rows × 30 columns</p>\n",
       "</div>"
      ],
      "text/plain": [
       "                         samples Canonical_mut_in_KRAS_EGFR_ALK  \\\n",
       "sample                                                            \n",
       "TCGA-49-4486-01  TCGA-49-4486-01                              N   \n",
       "TCGA-49-4486-11  TCGA-49-4486-11                              N   \n",
       "TCGA-73-7499-01  TCGA-73-7499-01                              N   \n",
       "TCGA-95-7039-01  TCGA-95-7039-01                              N   \n",
       "TCGA-78-7152-01  TCGA-78-7152-01                              N   \n",
       "...                          ...                            ...   \n",
       "TCGA-17-Z059-01  TCGA-17-Z059-01                            NaN   \n",
       "TCGA-17-Z060-01  TCGA-17-Z060-01                            NaN   \n",
       "TCGA-17-Z061-01  TCGA-17-Z061-01                            NaN   \n",
       "TCGA-17-Z062-01  TCGA-17-Z062-01                            NaN   \n",
       "TCGA-35-3621-01  TCGA-35-3621-01                            NaN   \n",
       "\n",
       "                Cnncl_mt_n_KRAS_EGFR_ALK_RET_ROS1_BRAF_ERBB2_HRAS_NRAS_AKT1_MAP2  \\\n",
       "sample                                                                             \n",
       "TCGA-49-4486-01                                                  N                 \n",
       "TCGA-49-4486-11                                                  N                 \n",
       "TCGA-73-7499-01                                                  N                 \n",
       "TCGA-95-7039-01                                                  N                 \n",
       "TCGA-78-7152-01                                                  N                 \n",
       "...                                                            ...                 \n",
       "TCGA-17-Z059-01                                                NaN                 \n",
       "TCGA-17-Z060-01                                                NaN                 \n",
       "TCGA-17-Z061-01                                                NaN                 \n",
       "TCGA-17-Z062-01                                                NaN                 \n",
       "TCGA-35-3621-01                                                NaN                 \n",
       "\n",
       "                 DFI  DFI.time  DSS  DSS.time  gender  PFI  PFI.time  ...  \\\n",
       "sample                                                                ...   \n",
       "TCGA-49-4486-01  1.0    2045.0  1.0    2318.0    MALE  1.0    2045.0  ...   \n",
       "TCGA-49-4486-11  1.0    2045.0  1.0    2318.0    MALE  1.0    2045.0  ...   \n",
       "TCGA-73-7499-01  1.0    1447.0  0.0    1531.0  FEMALE  1.0    1447.0  ...   \n",
       "TCGA-95-7039-01  1.0    1258.0  0.0    1272.0  FEMALE  1.0    1258.0  ...   \n",
       "TCGA-78-7152-01  1.0    1202.0  1.0    1215.0    MALE  1.0    1202.0  ...   \n",
       "...              ...       ...  ...       ...     ...  ...       ...  ...   \n",
       "TCGA-17-Z059-01  NaN       NaN  NaN       NaN     NaN  NaN       NaN  ...   \n",
       "TCGA-17-Z060-01  NaN       NaN  NaN       NaN     NaN  NaN       NaN  ...   \n",
       "TCGA-17-Z061-01  NaN       NaN  NaN       NaN     NaN  NaN       NaN  ...   \n",
       "TCGA-17-Z062-01  NaN       NaN  NaN       NaN     NaN  NaN       NaN  ...   \n",
       "TCGA-35-3621-01  NaN       NaN  NaN       NaN     NaN  NaN       NaN  ...   \n",
       "\n",
       "                  MET pathologic_M  pathologic_N pathologic_T  \\\n",
       "sample                                                          \n",
       "TCGA-49-4486-01  none           M0            N0           T1   \n",
       "TCGA-49-4486-11  none           M0            N0           T1   \n",
       "TCGA-73-7499-01  none           M0            N0          T2a   \n",
       "TCGA-95-7039-01  none           MX            N0           T3   \n",
       "TCGA-78-7152-01  none           M0            N0           T2   \n",
       "...               ...          ...           ...          ...   \n",
       "TCGA-17-Z059-01   NaN          NaN           NaN          NaN   \n",
       "TCGA-17-Z060-01   NaN          NaN           NaN          NaN   \n",
       "TCGA-17-Z061-01   NaN          NaN           NaN          NaN   \n",
       "TCGA-17-Z062-01   NaN          NaN           NaN          NaN   \n",
       "TCGA-35-3621-01   NaN          NaN           NaN          NaN   \n",
       "\n",
       "                additional_surgery_metastatic_procedure  \\\n",
       "sample                                                    \n",
       "TCGA-49-4486-01                                      NO   \n",
       "TCGA-49-4486-11                                      NO   \n",
       "TCGA-73-7499-01                                     YES   \n",
       "TCGA-95-7039-01                                     NaN   \n",
       "TCGA-78-7152-01                                      NO   \n",
       "...                                                 ...   \n",
       "TCGA-17-Z059-01                                     NaN   \n",
       "TCGA-17-Z060-01                                     NaN   \n",
       "TCGA-17-Z061-01                                     NaN   \n",
       "TCGA-17-Z062-01                                     NaN   \n",
       "TCGA-35-3621-01                                     NaN   \n",
       "\n",
       "                additional_surgery_locoregional_procedure  \\\n",
       "sample                                                      \n",
       "TCGA-49-4486-01                                        NO   \n",
       "TCGA-49-4486-11                                        NO   \n",
       "TCGA-73-7499-01                                       NaN   \n",
       "TCGA-95-7039-01                                        NO   \n",
       "TCGA-78-7152-01                                       NaN   \n",
       "...                                                   ...   \n",
       "TCGA-17-Z059-01                                       NaN   \n",
       "TCGA-17-Z060-01                                       NaN   \n",
       "TCGA-17-Z061-01                                       NaN   \n",
       "TCGA-17-Z062-01                                       NaN   \n",
       "TCGA-35-3621-01                                       NaN   \n",
       "\n",
       "                additional_pharmaceutical_therapy  \\\n",
       "sample                                              \n",
       "TCGA-49-4486-01                                NO   \n",
       "TCGA-49-4486-11                                NO   \n",
       "TCGA-73-7499-01                                NO   \n",
       "TCGA-95-7039-01                                NO   \n",
       "TCGA-78-7152-01                                NO   \n",
       "...                                           ...   \n",
       "TCGA-17-Z059-01                               NaN   \n",
       "TCGA-17-Z060-01                               NaN   \n",
       "TCGA-17-Z061-01                               NaN   \n",
       "TCGA-17-Z062-01                               NaN   \n",
       "TCGA-35-3621-01                               NaN   \n",
       "\n",
       "                additional_radiation_therapy  \\\n",
       "sample                                         \n",
       "TCGA-49-4486-01                           NO   \n",
       "TCGA-49-4486-11                           NO   \n",
       "TCGA-73-7499-01                           NO   \n",
       "TCGA-95-7039-01                           NO   \n",
       "TCGA-78-7152-01                          YES   \n",
       "...                                      ...   \n",
       "TCGA-17-Z059-01                          NaN   \n",
       "TCGA-17-Z060-01                          NaN   \n",
       "TCGA-17-Z061-01                          NaN   \n",
       "TCGA-17-Z062-01                          NaN   \n",
       "TCGA-35-3621-01                          NaN   \n",
       "\n",
       "                                                 histological_type  \\\n",
       "sample                                                               \n",
       "TCGA-49-4486-01  Lung Adenocarcinoma- Not Otherwise Specified (...   \n",
       "TCGA-49-4486-11  Lung Adenocarcinoma- Not Otherwise Specified (...   \n",
       "TCGA-73-7499-01                  Lung Adenocarcinoma Mixed Subtype   \n",
       "TCGA-95-7039-01  Lung Adenocarcinoma- Not Otherwise Specified (...   \n",
       "TCGA-78-7152-01                  Lung Adenocarcinoma Mixed Subtype   \n",
       "...                                                            ...   \n",
       "TCGA-17-Z059-01                                                NaN   \n",
       "TCGA-17-Z060-01                                                NaN   \n",
       "TCGA-17-Z061-01                                                NaN   \n",
       "TCGA-17-Z062-01                                                NaN   \n",
       "TCGA-35-3621-01                                                NaN   \n",
       "\n",
       "                history_of_neoadjuvant_treatment  \n",
       "sample                                            \n",
       "TCGA-49-4486-01                               No  \n",
       "TCGA-49-4486-11                               No  \n",
       "TCGA-73-7499-01                               No  \n",
       "TCGA-95-7039-01                               No  \n",
       "TCGA-78-7152-01                               No  \n",
       "...                                          ...  \n",
       "TCGA-17-Z059-01                              NaN  \n",
       "TCGA-17-Z060-01                              NaN  \n",
       "TCGA-17-Z061-01                              NaN  \n",
       "TCGA-17-Z062-01                              NaN  \n",
       "TCGA-35-3621-01                              NaN  \n",
       "\n",
       "[706 rows x 30 columns]"
      ]
     },
     "execution_count": 3,
     "metadata": {},
     "output_type": "execute_result"
    }
   ],
   "source": [
    "\n",
    "X = df_pheno_all \n",
    "\n",
    "X\n"
   ]
  },
  {
   "cell_type": "code",
   "execution_count": null,
   "metadata": {},
   "outputs": [],
   "source": []
  },
  {
   "cell_type": "code",
   "execution_count": 4,
   "metadata": {},
   "outputs": [],
   "source": [
    "pd.set_option(\"display.max_columns\", 16)\n"
   ]
  },
  {
   "cell_type": "code",
   "execution_count": 5,
   "metadata": {},
   "outputs": [],
   "source": [
    "df_clusters = pd.read_excel(\"LUAD_Table_for_decon.xlsx\", sheet_name = 3, index_col = 0)"
   ]
  },
  {
   "cell_type": "code",
   "execution_count": 6,
   "metadata": {},
   "outputs": [],
   "source": [
    "df_clusters = df_clusters.drop([\"histological_type\"], axis = 1)"
   ]
  },
  {
   "cell_type": "code",
   "execution_count": null,
   "metadata": {},
   "outputs": [],
   "source": []
  },
  {
   "cell_type": "code",
   "execution_count": 7,
   "metadata": {},
   "outputs": [],
   "source": [
    "\n",
    "cluster_pheno = df_clusters.join(X)"
   ]
  },
  {
   "cell_type": "code",
   "execution_count": 8,
   "metadata": {},
   "outputs": [
    {
     "data": {
      "text/plain": [
       "Index(['IL22RA1', 'IL22RA2', 'IL10RB', 'PVR', 'OS', 'OS.time',\n",
       "       'pathologic_stage', 'sample_type', 'Cluster', 'samples',\n",
       "       'Canonical_mut_in_KRAS_EGFR_ALK',\n",
       "       'Cnncl_mt_n_KRAS_EGFR_ALK_RET_ROS1_BRAF_ERBB2_HRAS_NRAS_AKT1_MAP2',\n",
       "       'DFI', 'DFI.time', 'DSS', 'DSS.time', 'gender', 'PFI', 'PFI.time',\n",
       "       'ALK_translocation', 'EGFR', 'age_at_initial_pathologic_diagnosis',\n",
       "       'egfr_mutation_result', 'egfr_mutation_performed',\n",
       "       'eml4_alk_translocation_method', 'eml4_alk_translocation_performed',\n",
       "       'kras_mutation_result', 'kras_mutation_found',\n",
       "       'kras_gene_analysis_performed', 'MET', 'pathologic_M', 'pathologic_N',\n",
       "       'pathologic_T', 'additional_surgery_metastatic_procedure',\n",
       "       'additional_surgery_locoregional_procedure',\n",
       "       'additional_pharmaceutical_therapy', 'additional_radiation_therapy',\n",
       "       'histological_type', 'history_of_neoadjuvant_treatment'],\n",
       "      dtype='object')"
      ]
     },
     "execution_count": 8,
     "metadata": {},
     "output_type": "execute_result"
    }
   ],
   "source": [
    "cluster_pheno.columns"
   ]
  },
  {
   "cell_type": "code",
   "execution_count": 9,
   "metadata": {},
   "outputs": [],
   "source": [
    "pheno_means = cluster_pheno.groupby(\"Cluster\").mean()"
   ]
  },
  {
   "cell_type": "code",
   "execution_count": 10,
   "metadata": {},
   "outputs": [
    {
     "data": {
      "text/plain": [
       "T2     162\n",
       "T2a     80\n",
       "T1      67\n",
       "T1b     55\n",
       "T1a     47\n",
       "T3      45\n",
       "T2b     26\n",
       "T4      19\n",
       "TX       3\n",
       "Name: pathologic_T, dtype: int64"
      ]
     },
     "execution_count": 10,
     "metadata": {},
     "output_type": "execute_result"
    }
   ],
   "source": [
    "cluster_pheno[\"pathologic_T\"].value_counts()"
   ]
  },
  {
   "cell_type": "code",
   "execution_count": 11,
   "metadata": {},
   "outputs": [
    {
     "data": {
      "text/plain": [
       "N0    325\n",
       "N1     95\n",
       "N2     71\n",
       "NX     11\n",
       "N3      2\n",
       "Name: pathologic_N, dtype: int64"
      ]
     },
     "execution_count": 11,
     "metadata": {},
     "output_type": "execute_result"
    }
   ],
   "source": [
    "cluster_pheno[\"pathologic_N\"].value_counts()"
   ]
  },
  {
   "cell_type": "code",
   "execution_count": 12,
   "metadata": {},
   "outputs": [
    {
     "data": {
      "text/plain": [
       "M0     337\n",
       "MX     139\n",
       "M1      18\n",
       "M1b      5\n",
       "M1a      2\n",
       "Name: pathologic_M, dtype: int64"
      ]
     },
     "execution_count": 12,
     "metadata": {},
     "output_type": "execute_result"
    }
   ],
   "source": [
    "cluster_pheno[\"pathologic_M\"].value_counts()"
   ]
  },
  {
   "cell_type": "code",
   "execution_count": null,
   "metadata": {},
   "outputs": [],
   "source": []
  },
  {
   "cell_type": "code",
   "execution_count": 13,
   "metadata": {},
   "outputs": [
    {
     "data": {
      "text/plain": [
       "Cluster  gender\n",
       "0        FEMALE     91\n",
       "         MALE       84\n",
       "1        FEMALE    103\n",
       "         MALE       53\n",
       "2        MALE       96\n",
       "         FEMALE     77\n",
       "Name: gender, dtype: int64"
      ]
     },
     "execution_count": 13,
     "metadata": {},
     "output_type": "execute_result"
    }
   ],
   "source": [
    "gender_cluster = cluster_pheno.groupby(\"Cluster\")[\"gender\"].value_counts()\n",
    "gender_cluster"
   ]
  },
  {
   "cell_type": "code",
   "execution_count": 14,
   "metadata": {},
   "outputs": [
    {
     "data": {
      "text/plain": [
       "Cluster  Canonical_mut_in_KRAS_EGFR_ALK\n",
       "0        N                                 40\n",
       "         Y                                 28\n",
       "1        N                                 50\n",
       "         Y                                 30\n",
       "2        N                                 38\n",
       "         Y                                 35\n",
       "Name: Canonical_mut_in_KRAS_EGFR_ALK, dtype: int64"
      ]
     },
     "execution_count": 14,
     "metadata": {},
     "output_type": "execute_result"
    }
   ],
   "source": [
    "KRAS_EGFR_ALK_per_Cluster = cluster_pheno.groupby(\"Cluster\")[\"Canonical_mut_in_KRAS_EGFR_ALK\"].value_counts()\n",
    "KRAS_EGFR_ALK_per_Cluster"
   ]
  },
  {
   "cell_type": "code",
   "execution_count": 15,
   "metadata": {},
   "outputs": [],
   "source": [
    "pT_cluster = cluster_pheno.groupby(\"Cluster\")[\"pathologic_T\"].value_counts()\n",
    "pN_cluster = cluster_pheno.groupby(\"Cluster\")[\"pathologic_N\"].value_counts()\n",
    "pM_cluster = cluster_pheno.groupby(\"Cluster\")[\"pathologic_M\"].value_counts()"
   ]
  },
  {
   "cell_type": "code",
   "execution_count": 16,
   "metadata": {},
   "outputs": [
    {
     "data": {
      "text/plain": [
       "Cluster  pathologic_T\n",
       "0        T2              59\n",
       "         T3              28\n",
       "         T2a             25\n",
       "         T1              17\n",
       "         T1a             14\n",
       "         T1b             14\n",
       "         T2b             10\n",
       "         T4               6\n",
       "         TX               2\n",
       "1        T2              51\n",
       "         T1              31\n",
       "         T2a             23\n",
       "         T1a             18\n",
       "         T1b             18\n",
       "         T3               6\n",
       "         T2b              5\n",
       "         T4               4\n",
       "2        T2              52\n",
       "         T2a             32\n",
       "         T1b             23\n",
       "         T1              19\n",
       "         T1a             15\n",
       "         T2b             11\n",
       "         T3              11\n",
       "         T4               9\n",
       "         TX               1\n",
       "Name: pathologic_T, dtype: int64"
      ]
     },
     "execution_count": 16,
     "metadata": {},
     "output_type": "execute_result"
    }
   ],
   "source": [
    "pT_cluster"
   ]
  },
  {
   "cell_type": "code",
   "execution_count": 17,
   "metadata": {},
   "outputs": [
    {
     "data": {
      "text/plain": [
       "Cluster  pathologic_N\n",
       "0        N0              104\n",
       "         N2               34\n",
       "         N1               32\n",
       "         NX                4\n",
       "         N3                1\n",
       "1        N0              103\n",
       "         N1               34\n",
       "         N2               15\n",
       "         NX                3\n",
       "         N3                1\n",
       "2        N0              118\n",
       "         N1               29\n",
       "         N2               22\n",
       "         NX                4\n",
       "Name: pathologic_N, dtype: int64"
      ]
     },
     "execution_count": 17,
     "metadata": {},
     "output_type": "execute_result"
    }
   ],
   "source": [
    "pN_cluster"
   ]
  },
  {
   "cell_type": "code",
   "execution_count": 18,
   "metadata": {},
   "outputs": [
    {
     "data": {
      "text/plain": [
       "Cluster  pathologic_M\n",
       "0        M0              110\n",
       "         MX               55\n",
       "         M1                4\n",
       "         M1b               3\n",
       "         M1a               1\n",
       "1        M0              109\n",
       "         MX               41\n",
       "         M1                5\n",
       "2        M0              118\n",
       "         MX               43\n",
       "         M1                9\n",
       "         M1b               2\n",
       "         M1a               1\n",
       "Name: pathologic_M, dtype: int64"
      ]
     },
     "execution_count": 18,
     "metadata": {},
     "output_type": "execute_result"
    }
   ],
   "source": [
    "pM_cluster"
   ]
  },
  {
   "cell_type": "code",
   "execution_count": 19,
   "metadata": {},
   "outputs": [
    {
     "data": {
      "text/plain": [
       "Cluster  pathologic_stage\n",
       "0        Stage I             76\n",
       "         Stage II            51\n",
       "         Stage III           39\n",
       "         Stage IV             9\n",
       "1        Stage I             95\n",
       "         Stage II            35\n",
       "         Stage III           17\n",
       "         Stage IV             5\n",
       "         [Discrepancy]        4\n",
       "2        Stage I             99\n",
       "         Stage II            34\n",
       "         Stage III           25\n",
       "         Stage IV            12\n",
       "         [Discrepancy]        3\n",
       "Name: pathologic_stage, dtype: int64"
      ]
     },
     "execution_count": 19,
     "metadata": {},
     "output_type": "execute_result"
    }
   ],
   "source": [
    "pStage_cluster = cluster_pheno.groupby(\"Cluster\")[\"pathologic_stage\"].value_counts()\n",
    "pStage_cluster"
   ]
  },
  {
   "cell_type": "code",
   "execution_count": 20,
   "metadata": {},
   "outputs": [
    {
     "data": {
      "text/plain": [
       "Index(['samples', 'Canonical_mut_in_KRAS_EGFR_ALK',\n",
       "       'Cnncl_mt_n_KRAS_EGFR_ALK_RET_ROS1_BRAF_ERBB2_HRAS_NRAS_AKT1_MAP2',\n",
       "       'DFI', 'DFI.time', 'DSS', 'DSS.time', 'gender', 'PFI', 'PFI.time',\n",
       "       'ALK_translocation', 'EGFR', 'age_at_initial_pathologic_diagnosis',\n",
       "       'egfr_mutation_result', 'egfr_mutation_performed',\n",
       "       'eml4_alk_translocation_method', 'eml4_alk_translocation_performed',\n",
       "       'kras_mutation_result', 'kras_mutation_found',\n",
       "       'kras_gene_analysis_performed', 'MET', 'pathologic_M', 'pathologic_N',\n",
       "       'pathologic_T', 'additional_surgery_metastatic_procedure',\n",
       "       'additional_surgery_locoregional_procedure',\n",
       "       'additional_pharmaceutical_therapy', 'additional_radiation_therapy',\n",
       "       'histological_type', 'history_of_neoadjuvant_treatment'],\n",
       "      dtype='object')"
      ]
     },
     "execution_count": 20,
     "metadata": {},
     "output_type": "execute_result"
    }
   ],
   "source": [
    "X.columns"
   ]
  },
  {
   "cell_type": "code",
   "execution_count": 21,
   "metadata": {},
   "outputs": [
    {
     "data": {
      "text/plain": [
       "Cluster  histological_type                                 \n",
       "0        Lung Adenocarcinoma- Not Otherwise Specified (NOS)    110\n",
       "         Lung Adenocarcinoma Mixed Subtype                      34\n",
       "         Lung Papillary Adenocarcinoma                           8\n",
       "         Mucinous (Colloid) Carcinoma                            7\n",
       "         Lung Acinar Adenocarcinoma                              6\n",
       "         Lung Bronchioloalveolar Carcinoma Nonmucinous           5\n",
       "         Lung Mucinous Adenocarcinoma                            2\n",
       "         Lung Bronchioloalveolar Carcinoma Mucinous              1\n",
       "         Lung Clear Cell Adenocarcinoma                          1\n",
       "         Lung Solid Pattern Predominant Adenocarcinoma           1\n",
       "1        Lung Adenocarcinoma- Not Otherwise Specified (NOS)     98\n",
       "         Lung Adenocarcinoma Mixed Subtype                      39\n",
       "         Lung Bronchioloalveolar Carcinoma Nonmucinous           7\n",
       "         Lung Papillary Adenocarcinoma                           3\n",
       "         Lung Acinar Adenocarcinoma                              2\n",
       "         Lung Solid Pattern Predominant Adenocarcinoma           2\n",
       "         Mucinous (Colloid) Carcinoma                            2\n",
       "         Lung Bronchioloalveolar Carcinoma Mucinous              1\n",
       "         Lung Micropapillary Adenocarcinoma                      1\n",
       "         Lung Signet Ring Adenocarcinoma                         1\n",
       "2        Lung Adenocarcinoma- Not Otherwise Specified (NOS)    103\n",
       "         Lung Adenocarcinoma Mixed Subtype                      33\n",
       "         Lung Papillary Adenocarcinoma                          11\n",
       "         Lung Acinar Adenocarcinoma                             10\n",
       "         Lung Bronchioloalveolar Carcinoma Nonmucinous           7\n",
       "         Lung Bronchioloalveolar Carcinoma Mucinous              3\n",
       "         Lung Micropapillary Adenocarcinoma                      2\n",
       "         Lung Solid Pattern Predominant Adenocarcinoma           2\n",
       "         Lung Clear Cell Adenocarcinoma                          1\n",
       "         Mucinous (Colloid) Carcinoma                            1\n",
       "Name: histological_type, dtype: int64"
      ]
     },
     "execution_count": 21,
     "metadata": {},
     "output_type": "execute_result"
    }
   ],
   "source": [
    "histo_cluster = cluster_pheno.groupby(\"Cluster\")[\"histological_type\"].value_counts()\n",
    "histo_cluster"
   ]
  },
  {
   "cell_type": "code",
   "execution_count": 22,
   "metadata": {},
   "outputs": [
    {
     "data": {
      "text/plain": [
       "Cluster  history_of_neoadjuvant_treatment\n",
       "0        No                                  173\n",
       "         Yes                                   2\n",
       "1        No                                  156\n",
       "2        No                                  172\n",
       "         Yes                                   1\n",
       "Name: history_of_neoadjuvant_treatment, dtype: int64"
      ]
     },
     "execution_count": 22,
     "metadata": {},
     "output_type": "execute_result"
    }
   ],
   "source": [
    "neoadj_cluster = cluster_pheno.groupby(\"Cluster\")['history_of_neoadjuvant_treatment'].value_counts()\n",
    "neoadj_cluster"
   ]
  },
  {
   "cell_type": "code",
   "execution_count": 23,
   "metadata": {},
   "outputs": [
    {
     "data": {
      "text/plain": [
       "Cluster  additional_pharmaceutical_therapy\n",
       "0        NO                                   37\n",
       "         YES                                  19\n",
       "1        YES                                  26\n",
       "         NO                                   23\n",
       "2        NO                                   21\n",
       "         YES                                  16\n",
       "Name: additional_pharmaceutical_therapy, dtype: int64"
      ]
     },
     "execution_count": 23,
     "metadata": {},
     "output_type": "execute_result"
    }
   ],
   "source": [
    "add_pharm_cluster = cluster_pheno.groupby(\"Cluster\")['additional_pharmaceutical_therapy'].value_counts()\n",
    "add_pharm_cluster"
   ]
  },
  {
   "cell_type": "code",
   "execution_count": 24,
   "metadata": {},
   "outputs": [
    {
     "data": {
      "text/plain": [
       "Cluster  additional_surgery_locoregional_procedure\n",
       "0        NO                                           42\n",
       "         YES                                           5\n",
       "1        NO                                           33\n",
       "         YES                                           7\n",
       "2        NO                                           34\n",
       "Name: additional_surgery_locoregional_procedure, dtype: int64"
      ]
     },
     "execution_count": 24,
     "metadata": {},
     "output_type": "execute_result"
    }
   ],
   "source": [
    "add_loc_surg_cluster = cluster_pheno.groupby(\"Cluster\")['additional_surgery_locoregional_procedure'].value_counts()\n",
    "add_loc_surg_cluster"
   ]
  },
  {
   "cell_type": "code",
   "execution_count": 25,
   "metadata": {},
   "outputs": [
    {
     "data": {
      "text/plain": [
       "Cluster  additional_surgery_metastatic_procedure\n",
       "0        NO                                         30\n",
       "         YES                                        11\n",
       "1        NO                                         23\n",
       "         YES                                         7\n",
       "2        NO                                         26\n",
       "         YES                                         3\n",
       "Name: additional_surgery_metastatic_procedure, dtype: int64"
      ]
     },
     "execution_count": 25,
     "metadata": {},
     "output_type": "execute_result"
    }
   ],
   "source": [
    "add_met_surg_cluster = cluster_pheno.groupby(\"Cluster\")['additional_surgery_metastatic_procedure'].value_counts()\n",
    "add_met_surg_cluster"
   ]
  },
  {
   "cell_type": "code",
   "execution_count": 26,
   "metadata": {},
   "outputs": [
    {
     "data": {
      "text/plain": [
       "Cluster  additional_radiation_therapy\n",
       "0        NO                              31\n",
       "         YES                             28\n",
       "1        NO                              27\n",
       "         YES                             23\n",
       "2        YES                             22\n",
       "         NO                              15\n",
       "Name: additional_radiation_therapy, dtype: int64"
      ]
     },
     "execution_count": 26,
     "metadata": {},
     "output_type": "execute_result"
    }
   ],
   "source": [
    "add_rad_cluster = cluster_pheno.groupby(\"Cluster\")['additional_radiation_therapy'].value_counts()\n",
    "add_rad_cluster"
   ]
  },
  {
   "cell_type": "code",
   "execution_count": 27,
   "metadata": {},
   "outputs": [],
   "source": [
    "age_counts_cluster = cluster_pheno.groupby(\"Cluster\")['age_at_initial_pathologic_diagnosis'].value_counts()\n",
    "age_mean_cluster = cluster_pheno.groupby(\"Cluster\")['age_at_initial_pathologic_diagnosis'].mean()"
   ]
  },
  {
   "cell_type": "code",
   "execution_count": 28,
   "metadata": {},
   "outputs": [
    {
     "data": {
      "text/plain": [
       "Cluster\n",
       "0    64.641618\n",
       "1    66.657895\n",
       "2    64.763314\n",
       "Name: age_at_initial_pathologic_diagnosis, dtype: float64"
      ]
     },
     "execution_count": 28,
     "metadata": {},
     "output_type": "execute_result"
    }
   ],
   "source": [
    "age_mean_cluster"
   ]
  },
  {
   "cell_type": "code",
   "execution_count": 29,
   "metadata": {},
   "outputs": [
    {
     "data": {
      "text/plain": [
       "Cluster  age_at_initial_pathologic_diagnosis\n",
       "0        59.0                                   10\n",
       "         61.0                                    9\n",
       "         71.0                                    8\n",
       "         68.0                                    7\n",
       "         69.0                                    7\n",
       "                                                ..\n",
       "2        49.0                                    1\n",
       "         81.0                                    1\n",
       "         83.0                                    1\n",
       "         84.0                                    1\n",
       "         87.0                                    1\n",
       "Name: age_at_initial_pathologic_diagnosis, Length: 125, dtype: int64"
      ]
     },
     "execution_count": 29,
     "metadata": {},
     "output_type": "execute_result"
    }
   ],
   "source": [
    "age_counts_cluster"
   ]
  },
  {
   "cell_type": "code",
   "execution_count": 30,
   "metadata": {},
   "outputs": [
    {
     "data": {
      "text/plain": [
       "Cluster  Cnncl_mt_n_KRAS_EGFR_ALK_RET_ROS1_BRAF_ERBB2_HRAS_NRAS_AKT1_MAP2\n",
       "0        Y                                                                   35\n",
       "         N                                                                   33\n",
       "1        Y                                                                   42\n",
       "         N                                                                   38\n",
       "2        Y                                                                   42\n",
       "         N                                                                   31\n",
       "Name: Cnncl_mt_n_KRAS_EGFR_ALK_RET_ROS1_BRAF_ERBB2_HRAS_NRAS_AKT1_MAP2, dtype: int64"
      ]
     },
     "execution_count": 30,
     "metadata": {},
     "output_type": "execute_result"
    }
   ],
   "source": [
    "Cnncl_mt_n_KRAS_EGFR_ALK_RET_ROS1_BRAF_ERBB2_HRAS_NRAS_AKT1_MAP2_cluster = cluster_pheno.groupby(\"Cluster\")['Cnncl_mt_n_KRAS_EGFR_ALK_RET_ROS1_BRAF_ERBB2_HRAS_NRAS_AKT1_MAP2'].value_counts()\n",
    "Cnncl_mt_n_KRAS_EGFR_ALK_RET_ROS1_BRAF_ERBB2_HRAS_NRAS_AKT1_MAP2_cluster"
   ]
  },
  {
   "cell_type": "code",
   "execution_count": null,
   "metadata": {},
   "outputs": [],
   "source": []
  },
  {
   "cell_type": "code",
   "execution_count": 31,
   "metadata": {},
   "outputs": [],
   "source": [
    "#PFS\n",
    "\n",
    "from lifelines import KaplanMeierFitter\n",
    "T = cluster_pheno[\"PFI.time\"]\n",
    "E = cluster_pheno[\"PFI\"]\n",
    "kmf = KaplanMeierFitter()\n",
    "clusters = cluster_pheno[\"Cluster\"]\n",
    "cl0 = (clusters == 0)\n",
    "cl1 = (clusters == 1) \n",
    "cl2 = (clusters == 2)"
   ]
  },
  {
   "cell_type": "code",
   "execution_count": 32,
   "metadata": {},
   "outputs": [
    {
     "data": {
      "image/png": "[encoded data removed]",
      "text/plain": [
       "<Figure size 864x864 with 1 Axes>"
      ]
     },
     "metadata": {
      "needs_background": "light"
     },
     "output_type": "display_data"
    }
   ],
   "source": [
    "#plotting all cluster PFI times w/o confidence intervals for visibility\n",
    "\n",
    "fig, (ax) = plt.subplots(nrows = 1, ncols = 1, sharex = True, figsize = (12, 12))\n",
    "\n",
    "kmf0= KaplanMeierFitter()\n",
    "ax = kmf0.fit(T[cl0], E[cl0], label=\"Cluster 0\").plot(ax=ax, figsize = (12, 12), ci_show = False, color = \"#66b3ff\")\n",
    "\n",
    "kmf1= KaplanMeierFitter()\n",
    "ax = kmf1.fit(T[cl1], E[cl1], label=\"Cluster 1\").plot(ax=ax, figsize = (12, 12), ci_show = False, color = \"#99ff99\")\n",
    "\n",
    "kmf2= KaplanMeierFitter()\n",
    "ax = kmf2.fit(T[cl2], E[cl2], label=\"Cluster 2\").plot(ax=ax, figsize = (12, 12), ci_show = False, color = \"#ffcc99\")\n",
    "fig.suptitle(\"LUAD PFI by Cluster\")\n",
    "plt.savefig(fname = \"LUAD_PFI_clusters.svg\", format = \"svg\")\n",
    "plt.tight_layout()"
   ]
  },
  {
   "cell_type": "code",
   "execution_count": 33,
   "metadata": {},
   "outputs": [
    {
     "name": "stderr",
     "output_type": "stream",
     "text": [
      "/home/oleg/repos/whatever/TCGA_clustering/.venv/lib/python3.10/site-packages/lifelines/statistics.py:143: FutureWarning: In future versions `DataFrame.to_latex` is expected to utilise the base implementation of `Styler.to_latex` for formatting and rendering. The arguments signature may therefore change. It is recommended instead to use `DataFrame.style.to_latex` which also contains additional functionality.\n",
      "  return self.summary.to_latex()\n"
     ]
    },
    {
     "data": {
      "text/html": [
       "<div>\n",
       "<style scoped>\n",
       "    .dataframe tbody tr th:only-of-type {\n",
       "        vertical-align: middle;\n",
       "    }\n",
       "\n",
       "    .dataframe tbody tr th {\n",
       "        vertical-align: top;\n",
       "    }\n",
       "\n",
       "    .dataframe thead th {\n",
       "        text-align: right;\n",
       "    }\n",
       "</style>\n",
       "<table border=\"1\" class=\"dataframe\">\n",
       "  <tbody>\n",
       "    <tr>\n",
       "      <th>t_0</th>\n",
       "      <td>-1</td>\n",
       "    </tr>\n",
       "    <tr>\n",
       "      <th>null_distribution</th>\n",
       "      <td>chi squared</td>\n",
       "    </tr>\n",
       "    <tr>\n",
       "      <th>degrees_of_freedom</th>\n",
       "      <td>1</td>\n",
       "    </tr>\n",
       "    <tr>\n",
       "      <th>alpha</th>\n",
       "      <td>0.95</td>\n",
       "    </tr>\n",
       "    <tr>\n",
       "      <th>test_name</th>\n",
       "      <td>logrank_test</td>\n",
       "    </tr>\n",
       "  </tbody>\n",
       "</table>\n",
       "</div><table border=\"1\" class=\"dataframe\">\n",
       "  <thead>\n",
       "    <tr style=\"text-align: right;\">\n",
       "      <th></th>\n",
       "      <th>test_statistic</th>\n",
       "      <th>p</th>\n",
       "      <th>-log2(p)</th>\n",
       "    </tr>\n",
       "  </thead>\n",
       "  <tbody>\n",
       "    <tr>\n",
       "      <th>0</th>\n",
       "      <td>0.04</td>\n",
       "      <td>0.84</td>\n",
       "      <td>0.25</td>\n",
       "    </tr>\n",
       "  </tbody>\n",
       "</table>"
      ],
      "text/latex": [
       "\\begin{tabular}{lrrr}\n",
       "\\toprule\n",
       "{} &  test\\_statistic &         p &  -log2(p) \\\\\n",
       "\\midrule\n",
       "0 &        0.040037 &  0.841408 &  0.249122 \\\\\n",
       "\\bottomrule\n",
       "\\end{tabular}\n"
      ],
      "text/plain": [
       "<lifelines.StatisticalResult: logrank_test>\n",
       "               t_0 = -1\n",
       " null_distribution = chi squared\n",
       "degrees_of_freedom = 1\n",
       "             alpha = 0.95\n",
       "         test_name = logrank_test\n",
       "\n",
       "---\n",
       " test_statistic    p  -log2(p)\n",
       "           0.04 0.84      0.25"
      ]
     },
     "metadata": {},
     "output_type": "display_data"
    },
    {
     "name": "stderr",
     "output_type": "stream",
     "text": [
      "/home/oleg/repos/whatever/TCGA_clustering/.venv/lib/python3.10/site-packages/lifelines/statistics.py:143: FutureWarning: In future versions `DataFrame.to_latex` is expected to utilise the base implementation of `Styler.to_latex` for formatting and rendering. The arguments signature may therefore change. It is recommended instead to use `DataFrame.style.to_latex` which also contains additional functionality.\n",
      "  return self.summary.to_latex()\n"
     ]
    },
    {
     "data": {
      "text/html": [
       "<div>\n",
       "<style scoped>\n",
       "    .dataframe tbody tr th:only-of-type {\n",
       "        vertical-align: middle;\n",
       "    }\n",
       "\n",
       "    .dataframe tbody tr th {\n",
       "        vertical-align: top;\n",
       "    }\n",
       "\n",
       "    .dataframe thead th {\n",
       "        text-align: right;\n",
       "    }\n",
       "</style>\n",
       "<table border=\"1\" class=\"dataframe\">\n",
       "  <tbody>\n",
       "    <tr>\n",
       "      <th>t_0</th>\n",
       "      <td>-1</td>\n",
       "    </tr>\n",
       "    <tr>\n",
       "      <th>null_distribution</th>\n",
       "      <td>chi squared</td>\n",
       "    </tr>\n",
       "    <tr>\n",
       "      <th>degrees_of_freedom</th>\n",
       "      <td>1</td>\n",
       "    </tr>\n",
       "    <tr>\n",
       "      <th>alpha</th>\n",
       "      <td>0.95</td>\n",
       "    </tr>\n",
       "    <tr>\n",
       "      <th>test_name</th>\n",
       "      <td>logrank_test</td>\n",
       "    </tr>\n",
       "  </tbody>\n",
       "</table>\n",
       "</div><table border=\"1\" class=\"dataframe\">\n",
       "  <thead>\n",
       "    <tr style=\"text-align: right;\">\n",
       "      <th></th>\n",
       "      <th>test_statistic</th>\n",
       "      <th>p</th>\n",
       "      <th>-log2(p)</th>\n",
       "    </tr>\n",
       "  </thead>\n",
       "  <tbody>\n",
       "    <tr>\n",
       "      <th>0</th>\n",
       "      <td>0.04</td>\n",
       "      <td>0.84</td>\n",
       "      <td>0.25</td>\n",
       "    </tr>\n",
       "  </tbody>\n",
       "</table>"
      ],
      "text/latex": [
       "\\begin{tabular}{lrrr}\n",
       "\\toprule\n",
       "{} &  test\\_statistic &         p &  -log2(p) \\\\\n",
       "\\midrule\n",
       "0 &        0.040037 &  0.841408 &  0.249122 \\\\\n",
       "\\bottomrule\n",
       "\\end{tabular}\n"
      ],
      "text/plain": [
       "<lifelines.StatisticalResult: logrank_test>\n",
       "               t_0 = -1\n",
       " null_distribution = chi squared\n",
       "degrees_of_freedom = 1\n",
       "             alpha = 0.95\n",
       "         test_name = logrank_test\n",
       "\n",
       "---\n",
       " test_statistic    p  -log2(p)\n",
       "           0.04 0.84      0.25"
      ]
     },
     "metadata": {},
     "output_type": "display_data"
    }
   ],
   "source": [
    "# logrank test of cluster 1 vs cluster 2\n",
    "from lifelines.statistics import logrank_test\n",
    "\n",
    "results = logrank_test(T[cl1], T[cl2], E[cl1], E[cl2], alpha=.95)# logrank test of cluster 1 vs cluster 2\n",
    "from lifelines.statistics import logrank_test\n",
    "\n",
    "results = logrank_test(T[cl1], T[cl2], E[cl1], E[cl2], alpha=.95)\n",
    "\n",
    "results.print_summary()\n",
    "\n",
    "results.print_summary()"
   ]
  },
  {
   "cell_type": "code",
   "execution_count": 34,
   "metadata": {},
   "outputs": [
    {
     "data": {
      "text/html": [
       "<div>\n",
       "<style scoped>\n",
       "    .dataframe tbody tr th:only-of-type {\n",
       "        vertical-align: middle;\n",
       "    }\n",
       "\n",
       "    .dataframe tbody tr th {\n",
       "        vertical-align: top;\n",
       "    }\n",
       "\n",
       "    .dataframe thead th {\n",
       "        text-align: right;\n",
       "    }\n",
       "</style>\n",
       "<table border=\"1\" class=\"dataframe\">\n",
       "  <tbody>\n",
       "    <tr>\n",
       "      <th>t_0</th>\n",
       "      <td>-1</td>\n",
       "    </tr>\n",
       "    <tr>\n",
       "      <th>null_distribution</th>\n",
       "      <td>chi squared</td>\n",
       "    </tr>\n",
       "    <tr>\n",
       "      <th>degrees_of_freedom</th>\n",
       "      <td>1</td>\n",
       "    </tr>\n",
       "    <tr>\n",
       "      <th>alpha</th>\n",
       "      <td>0.95</td>\n",
       "    </tr>\n",
       "    <tr>\n",
       "      <th>test_name</th>\n",
       "      <td>logrank_test</td>\n",
       "    </tr>\n",
       "  </tbody>\n",
       "</table>\n",
       "</div><table border=\"1\" class=\"dataframe\">\n",
       "  <thead>\n",
       "    <tr style=\"text-align: right;\">\n",
       "      <th></th>\n",
       "      <th>test_statistic</th>\n",
       "      <th>p</th>\n",
       "      <th>-log2(p)</th>\n",
       "    </tr>\n",
       "  </thead>\n",
       "  <tbody>\n",
       "    <tr>\n",
       "      <th>0</th>\n",
       "      <td>9.73</td>\n",
       "      <td>&lt;0.005</td>\n",
       "      <td>9.11</td>\n",
       "    </tr>\n",
       "  </tbody>\n",
       "</table>"
      ],
      "text/latex": [
       "\\begin{tabular}{lrrr}\n",
       "\\toprule\n",
       "{} &  test\\_statistic &         p &  -log2(p) \\\\\n",
       "\\midrule\n",
       "0 &        9.730141 &  0.001813 &   9.10764 \\\\\n",
       "\\bottomrule\n",
       "\\end{tabular}\n"
      ],
      "text/plain": [
       "<lifelines.StatisticalResult: logrank_test>\n",
       "               t_0 = -1\n",
       " null_distribution = chi squared\n",
       "degrees_of_freedom = 1\n",
       "             alpha = 0.95\n",
       "         test_name = logrank_test\n",
       "\n",
       "---\n",
       " test_statistic      p  -log2(p)\n",
       "           9.73 <0.005      9.11"
      ]
     },
     "metadata": {},
     "output_type": "display_data"
    }
   ],
   "source": [
    "# logrank test of cluster 0 vs cluster 1\n",
    "from lifelines.statistics import logrank_test\n",
    "\n",
    "results = logrank_test(T[cl0], T[cl1], E[cl0], E[cl1], alpha=.95)\n",
    "\n",
    "results.print_summary()"
   ]
  },
  {
   "cell_type": "code",
   "execution_count": 35,
   "metadata": {},
   "outputs": [
    {
     "data": {
      "text/html": [
       "<div>\n",
       "<style scoped>\n",
       "    .dataframe tbody tr th:only-of-type {\n",
       "        vertical-align: middle;\n",
       "    }\n",
       "\n",
       "    .dataframe tbody tr th {\n",
       "        vertical-align: top;\n",
       "    }\n",
       "\n",
       "    .dataframe thead th {\n",
       "        text-align: right;\n",
       "    }\n",
       "</style>\n",
       "<table border=\"1\" class=\"dataframe\">\n",
       "  <tbody>\n",
       "    <tr>\n",
       "      <th>t_0</th>\n",
       "      <td>-1</td>\n",
       "    </tr>\n",
       "    <tr>\n",
       "      <th>null_distribution</th>\n",
       "      <td>chi squared</td>\n",
       "    </tr>\n",
       "    <tr>\n",
       "      <th>degrees_of_freedom</th>\n",
       "      <td>1</td>\n",
       "    </tr>\n",
       "    <tr>\n",
       "      <th>alpha</th>\n",
       "      <td>0.95</td>\n",
       "    </tr>\n",
       "    <tr>\n",
       "      <th>test_name</th>\n",
       "      <td>logrank_test</td>\n",
       "    </tr>\n",
       "  </tbody>\n",
       "</table>\n",
       "</div><table border=\"1\" class=\"dataframe\">\n",
       "  <thead>\n",
       "    <tr style=\"text-align: right;\">\n",
       "      <th></th>\n",
       "      <th>test_statistic</th>\n",
       "      <th>p</th>\n",
       "      <th>-log2(p)</th>\n",
       "    </tr>\n",
       "  </thead>\n",
       "  <tbody>\n",
       "    <tr>\n",
       "      <th>0</th>\n",
       "      <td>9.16</td>\n",
       "      <td>&lt;0.005</td>\n",
       "      <td>8.66</td>\n",
       "    </tr>\n",
       "  </tbody>\n",
       "</table>"
      ],
      "text/latex": [
       "\\begin{tabular}{lrrr}\n",
       "\\toprule\n",
       "{} &  test\\_statistic &         p &  -log2(p) \\\\\n",
       "\\midrule\n",
       "0 &        9.160418 &  0.002473 &  8.659486 \\\\\n",
       "\\bottomrule\n",
       "\\end{tabular}\n"
      ],
      "text/plain": [
       "<lifelines.StatisticalResult: logrank_test>\n",
       "               t_0 = -1\n",
       " null_distribution = chi squared\n",
       "degrees_of_freedom = 1\n",
       "             alpha = 0.95\n",
       "         test_name = logrank_test\n",
       "\n",
       "---\n",
       " test_statistic      p  -log2(p)\n",
       "           9.16 <0.005      8.66"
      ]
     },
     "metadata": {},
     "output_type": "display_data"
    }
   ],
   "source": [
    "# logrank test of cluster 0 vs cluster 2\n",
    "from lifelines.statistics import logrank_test\n",
    "\n",
    "results = logrank_test(T[cl0], T[cl2], E[cl0], E[cl2], alpha=.95)\n",
    "\n",
    "results.print_summary()"
   ]
  },
  {
   "cell_type": "code",
   "execution_count": 36,
   "metadata": {},
   "outputs": [
    {
     "data": {
      "text/plain": [
       "0    165\n",
       "2    159\n",
       "1    145\n",
       "Name: Cluster, dtype: int64"
      ]
     },
     "execution_count": 36,
     "metadata": {},
     "output_type": "execute_result"
    }
   ],
   "source": [
    "df_DSS = cluster_pheno[[\"Cluster\", \"DSS\", \"DSS.time\"]]\n",
    "df_DSS = df_DSS.dropna()\n",
    "df_DSS[\"Cluster\"].value_counts()"
   ]
  },
  {
   "cell_type": "code",
   "execution_count": 37,
   "metadata": {},
   "outputs": [
    {
     "data": {
      "text/plain": [
       "0    175\n",
       "2    173\n",
       "1    156\n",
       "Name: Cluster, dtype: int64"
      ]
     },
     "execution_count": 37,
     "metadata": {},
     "output_type": "execute_result"
    }
   ],
   "source": [
    "cluster_pheno[\"Cluster\"].value_counts()"
   ]
  },
  {
   "cell_type": "code",
   "execution_count": 38,
   "metadata": {},
   "outputs": [],
   "source": [
    "#DSS\n",
    "\n",
    "from lifelines import KaplanMeierFitter\n",
    "T = df_DSS[\"DSS.time\"]\n",
    "E = df_DSS[\"DSS\"]\n",
    "kmf = KaplanMeierFitter()\n",
    "clusters = df_DSS[\"Cluster\"]\n",
    "cl0 = (clusters == 0)\n",
    "cl1 = (clusters == 1) \n",
    "cl2 = (clusters == 2)"
   ]
  },
  {
   "cell_type": "code",
   "execution_count": 39,
   "metadata": {},
   "outputs": [
    {
     "data": {
      "image/png": "[encoded data removed]",
      "text/plain": [
       "<Figure size 864x864 with 1 Axes>"
      ]
     },
     "metadata": {
      "needs_background": "light"
     },
     "output_type": "display_data"
    }
   ],
   "source": [
    "#plotting all cluster DSS times w/o confidence intervals for visibility\n",
    "\n",
    "fig, (ax) = plt.subplots(nrows = 1, ncols = 1, sharex = True, figsize = (12, 12))\n",
    "\n",
    "kmf0= KaplanMeierFitter()\n",
    "ax = kmf0.fit(T[cl0], E[cl0], label=\"Cluster 0\").plot(ax=ax, figsize = (12, 12), ci_show = False, color = \"#66b3ff\")\n",
    "\n",
    "kmf1= KaplanMeierFitter()\n",
    "ax = kmf1.fit(T[cl1], E[cl1], label=\"Cluster 1\").plot(ax=ax, figsize = (12, 12), ci_show = False, color = \"#99ff99\")\n",
    "\n",
    "kmf2= KaplanMeierFitter()\n",
    "ax = kmf2.fit(T[cl2], E[cl2], label=\"Cluster 2\").plot(ax=ax, figsize = (12, 12), ci_show = False, color = \"#ffcc99\")\n",
    "fig.suptitle(\"LUAD DSS by Cluster\")\n",
    "plt.savefig(fname = \"LUAD_DSS_clusters.svg\", format = \"svg\")\n",
    "plt.tight_layout()"
   ]
  },
  {
   "cell_type": "code",
   "execution_count": 40,
   "metadata": {},
   "outputs": [
    {
     "data": {
      "text/html": [
       "<div>\n",
       "<style scoped>\n",
       "    .dataframe tbody tr th:only-of-type {\n",
       "        vertical-align: middle;\n",
       "    }\n",
       "\n",
       "    .dataframe tbody tr th {\n",
       "        vertical-align: top;\n",
       "    }\n",
       "\n",
       "    .dataframe thead th {\n",
       "        text-align: right;\n",
       "    }\n",
       "</style>\n",
       "<table border=\"1\" class=\"dataframe\">\n",
       "  <tbody>\n",
       "    <tr>\n",
       "      <th>t_0</th>\n",
       "      <td>-1</td>\n",
       "    </tr>\n",
       "    <tr>\n",
       "      <th>null_distribution</th>\n",
       "      <td>chi squared</td>\n",
       "    </tr>\n",
       "    <tr>\n",
       "      <th>degrees_of_freedom</th>\n",
       "      <td>1</td>\n",
       "    </tr>\n",
       "    <tr>\n",
       "      <th>alpha</th>\n",
       "      <td>0.95</td>\n",
       "    </tr>\n",
       "    <tr>\n",
       "      <th>test_name</th>\n",
       "      <td>logrank_test</td>\n",
       "    </tr>\n",
       "  </tbody>\n",
       "</table>\n",
       "</div><table border=\"1\" class=\"dataframe\">\n",
       "  <thead>\n",
       "    <tr style=\"text-align: right;\">\n",
       "      <th></th>\n",
       "      <th>test_statistic</th>\n",
       "      <th>p</th>\n",
       "      <th>-log2(p)</th>\n",
       "    </tr>\n",
       "  </thead>\n",
       "  <tbody>\n",
       "    <tr>\n",
       "      <th>0</th>\n",
       "      <td>1.10</td>\n",
       "      <td>0.29</td>\n",
       "      <td>1.77</td>\n",
       "    </tr>\n",
       "  </tbody>\n",
       "</table>"
      ],
      "text/latex": [
       "\\begin{tabular}{lrrr}\n",
       "\\toprule\n",
       "{} &  test\\_statistic &         p &  -log2(p) \\\\\n",
       "\\midrule\n",
       "0 &        1.101877 &  0.293855 &  1.766826 \\\\\n",
       "\\bottomrule\n",
       "\\end{tabular}\n"
      ],
      "text/plain": [
       "<lifelines.StatisticalResult: logrank_test>\n",
       "               t_0 = -1\n",
       " null_distribution = chi squared\n",
       "degrees_of_freedom = 1\n",
       "             alpha = 0.95\n",
       "         test_name = logrank_test\n",
       "\n",
       "---\n",
       " test_statistic    p  -log2(p)\n",
       "           1.10 0.29      1.77"
      ]
     },
     "metadata": {},
     "output_type": "display_data"
    }
   ],
   "source": [
    "# logrank test of cluster 1 vs cluster 2\n",
    "from lifelines.statistics import logrank_test\n",
    "\n",
    "results = logrank_test(T[cl1], T[cl2], E[cl1], E[cl2], alpha=.95)\n",
    "\n",
    "results.print_summary()"
   ]
  },
  {
   "cell_type": "code",
   "execution_count": 41,
   "metadata": {},
   "outputs": [
    {
     "data": {
      "text/html": [
       "<div>\n",
       "<style scoped>\n",
       "    .dataframe tbody tr th:only-of-type {\n",
       "        vertical-align: middle;\n",
       "    }\n",
       "\n",
       "    .dataframe tbody tr th {\n",
       "        vertical-align: top;\n",
       "    }\n",
       "\n",
       "    .dataframe thead th {\n",
       "        text-align: right;\n",
       "    }\n",
       "</style>\n",
       "<table border=\"1\" class=\"dataframe\">\n",
       "  <tbody>\n",
       "    <tr>\n",
       "      <th>t_0</th>\n",
       "      <td>-1</td>\n",
       "    </tr>\n",
       "    <tr>\n",
       "      <th>null_distribution</th>\n",
       "      <td>chi squared</td>\n",
       "    </tr>\n",
       "    <tr>\n",
       "      <th>degrees_of_freedom</th>\n",
       "      <td>1</td>\n",
       "    </tr>\n",
       "    <tr>\n",
       "      <th>alpha</th>\n",
       "      <td>0.95</td>\n",
       "    </tr>\n",
       "    <tr>\n",
       "      <th>test_name</th>\n",
       "      <td>logrank_test</td>\n",
       "    </tr>\n",
       "  </tbody>\n",
       "</table>\n",
       "</div><table border=\"1\" class=\"dataframe\">\n",
       "  <thead>\n",
       "    <tr style=\"text-align: right;\">\n",
       "      <th></th>\n",
       "      <th>test_statistic</th>\n",
       "      <th>p</th>\n",
       "      <th>-log2(p)</th>\n",
       "    </tr>\n",
       "  </thead>\n",
       "  <tbody>\n",
       "    <tr>\n",
       "      <th>0</th>\n",
       "      <td>15.88</td>\n",
       "      <td>&lt;0.005</td>\n",
       "      <td>13.86</td>\n",
       "    </tr>\n",
       "  </tbody>\n",
       "</table>"
      ],
      "text/latex": [
       "\\begin{tabular}{lrrr}\n",
       "\\toprule\n",
       "{} &  test\\_statistic &         p &   -log2(p) \\\\\n",
       "\\midrule\n",
       "0 &       15.883688 &  0.000067 &  13.857817 \\\\\n",
       "\\bottomrule\n",
       "\\end{tabular}\n"
      ],
      "text/plain": [
       "<lifelines.StatisticalResult: logrank_test>\n",
       "               t_0 = -1\n",
       " null_distribution = chi squared\n",
       "degrees_of_freedom = 1\n",
       "             alpha = 0.95\n",
       "         test_name = logrank_test\n",
       "\n",
       "---\n",
       " test_statistic      p  -log2(p)\n",
       "          15.88 <0.005     13.86"
      ]
     },
     "metadata": {},
     "output_type": "display_data"
    }
   ],
   "source": [
    "# logrank test of cluster 0 vs cluster 1\n",
    "from lifelines.statistics import logrank_test\n",
    "\n",
    "results = logrank_test(T[cl0], T[cl1], E[cl0], E[cl1], alpha=.95)\n",
    "\n",
    "results.print_summary()"
   ]
  },
  {
   "cell_type": "code",
   "execution_count": 42,
   "metadata": {},
   "outputs": [
    {
     "data": {
      "text/html": [
       "<div>\n",
       "<style scoped>\n",
       "    .dataframe tbody tr th:only-of-type {\n",
       "        vertical-align: middle;\n",
       "    }\n",
       "\n",
       "    .dataframe tbody tr th {\n",
       "        vertical-align: top;\n",
       "    }\n",
       "\n",
       "    .dataframe thead th {\n",
       "        text-align: right;\n",
       "    }\n",
       "</style>\n",
       "<table border=\"1\" class=\"dataframe\">\n",
       "  <tbody>\n",
       "    <tr>\n",
       "      <th>t_0</th>\n",
       "      <td>-1</td>\n",
       "    </tr>\n",
       "    <tr>\n",
       "      <th>null_distribution</th>\n",
       "      <td>chi squared</td>\n",
       "    </tr>\n",
       "    <tr>\n",
       "      <th>degrees_of_freedom</th>\n",
       "      <td>1</td>\n",
       "    </tr>\n",
       "    <tr>\n",
       "      <th>alpha</th>\n",
       "      <td>0.95</td>\n",
       "    </tr>\n",
       "    <tr>\n",
       "      <th>test_name</th>\n",
       "      <td>logrank_test</td>\n",
       "    </tr>\n",
       "  </tbody>\n",
       "</table>\n",
       "</div><table border=\"1\" class=\"dataframe\">\n",
       "  <thead>\n",
       "    <tr style=\"text-align: right;\">\n",
       "      <th></th>\n",
       "      <th>test_statistic</th>\n",
       "      <th>p</th>\n",
       "      <th>-log2(p)</th>\n",
       "    </tr>\n",
       "  </thead>\n",
       "  <tbody>\n",
       "    <tr>\n",
       "      <th>0</th>\n",
       "      <td>7.72</td>\n",
       "      <td>0.01</td>\n",
       "      <td>7.52</td>\n",
       "    </tr>\n",
       "  </tbody>\n",
       "</table>"
      ],
      "text/latex": [
       "\\begin{tabular}{lrrr}\n",
       "\\toprule\n",
       "{} &  test\\_statistic &         p &  -log2(p) \\\\\n",
       "\\midrule\n",
       "0 &        7.719928 &  0.005461 &  7.516499 \\\\\n",
       "\\bottomrule\n",
       "\\end{tabular}\n"
      ],
      "text/plain": [
       "<lifelines.StatisticalResult: logrank_test>\n",
       "               t_0 = -1\n",
       " null_distribution = chi squared\n",
       "degrees_of_freedom = 1\n",
       "             alpha = 0.95\n",
       "         test_name = logrank_test\n",
       "\n",
       "---\n",
       " test_statistic    p  -log2(p)\n",
       "           7.72 0.01      7.52"
      ]
     },
     "metadata": {},
     "output_type": "display_data"
    }
   ],
   "source": [
    "# logrank test of cluster 0 vs cluster 2\n",
    "from lifelines.statistics import logrank_test\n",
    "\n",
    "results = logrank_test(T[cl0], T[cl2], E[cl0], E[cl2], alpha=.95)\n",
    "\n",
    "results.print_summary()"
   ]
  },
  {
   "cell_type": "code",
   "execution_count": 79,
   "metadata": {},
   "outputs": [],
   "source": [
    "with pd.ExcelWriter('LUAD_pheno_analysis.xlsx') as writer:\n",
    "    cluster_pheno.to_excel(writer, sheet_name='Raw')\n",
    "    gender_cluster.to_excel(writer, sheet_name='Gender')\n",
    "    age_mean_cluster.to_excel(writer, sheet_name=\"age_mean\")\n",
    "    age_counts_cluster.to_excel(writer, sheet_name=\"age_counts\")\n",
    "    histo_cluster.to_excel(writer, sheet_name=\"Histo_Subtype\")\n",
    "    pT_cluster.to_excel(writer, sheet_name=\"pT\")\n",
    "    pN_cluster.to_excel(writer, sheet_name=\"pN\")\n",
    "    pM_cluster.to_excel(writer, sheet_name=\"pM\")\n",
    "    KRAS_EGFR_ALK_per_Cluster.to_excel(writer, sheet_name=\"KRAS_EGFR_ALK_per_Cluster\")\n",
    "    Cnncl_mt_n_KRAS_EGFR_ALK_RET_ROS1_BRAF_ERBB2_HRAS_NRAS_AKT1_MAP2_cluster.to_excel(writer, sheet_name=\"More mutations included\")\n",
    "    neoadj_cluster.to_excel(writer, sheet_name=\"History_neoadj_treatment\")\n",
    "    add_pharm_cluster.to_excel(writer, sheet_name=\"add_pharmacologic_treatment\")\n",
    "    add_rad_cluster.to_excel(writer, sheet_name=\"add_radiation_treatment\")\n",
    "    add_loc_surg_cluster.to_excel(writer, sheet_name=\"add_locoregional_surgical_proc\")\n",
    "    add_met_surg_cluster.to_excel(writer, sheet_name=\"add_metastatic_surgical_proc\")\n",
    "    "
   ]
  },
  {
   "cell_type": "code",
   "execution_count": null,
   "metadata": {},
   "outputs": [],
   "source": []
  },
  {
   "cell_type": "code",
   "execution_count": null,
   "metadata": {},
   "outputs": [],
   "source": []
  },
  {
   "cell_type": "code",
   "execution_count": null,
   "metadata": {},
   "outputs": [],
   "source": []
  },
  {
   "cell_type": "code",
   "execution_count": null,
   "metadata": {},
   "outputs": [],
   "source": []
  },
  {
   "cell_type": "code",
   "execution_count": null,
   "metadata": {},
   "outputs": [],
   "source": []
  },
  {
   "cell_type": "code",
   "execution_count": null,
   "metadata": {},
   "outputs": [],
   "source": []
  },
  {
   "cell_type": "code",
   "execution_count": null,
   "metadata": {},
   "outputs": [],
   "source": []
  },
  {
   "cell_type": "code",
   "execution_count": null,
   "metadata": {},
   "outputs": [],
   "source": []
  },
  {
   "cell_type": "code",
   "execution_count": null,
   "metadata": {},
   "outputs": [],
   "source": []
  },
  {
   "cell_type": "code",
   "execution_count": null,
   "metadata": {},
   "outputs": [],
   "source": []
  },
  {
   "cell_type": "code",
   "execution_count": null,
   "metadata": {},
   "outputs": [],
   "source": []
  }
 ],
 "metadata": {
  "kernelspec": {
   "display_name": "Python 3 (ipykernel)",
   "language": "python",
   "name": "python3"
  },
  "language_info": {
   "codemirror_mode": {
    "name": "ipython",
    "version": 3
   },
   "file_extension": ".py",
   "mimetype": "text/x-python",
   "name": "python",
   "nbconvert_exporter": "python",
   "pygments_lexer": "ipython3",
   "version": "3.10.2"
  }
 },
 "nbformat": 4,
 "nbformat_minor": 4
}
