{
 "cells": [
  {
   "cell_type": "code",
   "execution_count": 1,
   "metadata": {},
   "outputs": [],
   "source": [
    "import numpy as np\n",
    "import pandas as pd\n",
    "import matplotlib.pyplot as plt "
   ]
  },
  {
   "cell_type": "code",
   "execution_count": 2,
   "metadata": {},
   "outputs": [],
   "source": [
    "df_pheno_all = pd.read_csv(r\"C:\\Users\\jjjjo\\Desktop\\BRCA_Pheno.tsv\", sep= \"\\t\", index_col= 0)"
   ]
  },
  {
   "cell_type": "code",
   "execution_count": null,
   "metadata": {},
   "outputs": [],
   "source": []
  },
  {
   "cell_type": "code",
   "execution_count": 3,
   "metadata": {},
   "outputs": [
    {
     "data": {
      "text/html": [
       "<div>\n",
       "<style scoped>\n",
       "    .dataframe tbody tr th:only-of-type {\n",
       "        vertical-align: middle;\n",
       "    }\n",
       "\n",
       "    .dataframe tbody tr th {\n",
       "        vertical-align: top;\n",
       "    }\n",
       "\n",
       "    .dataframe thead th {\n",
       "        text-align: right;\n",
       "    }\n",
       "</style>\n",
       "<table border=\"1\" class=\"dataframe\">\n",
       "  <thead>\n",
       "    <tr style=\"text-align: right;\">\n",
       "      <th></th>\n",
       "      <th>samples</th>\n",
       "      <th>age_at_initial_pathologic_diagnosis</th>\n",
       "      <th>DFI</th>\n",
       "      <th>DFI.time</th>\n",
       "      <th>DSS</th>\n",
       "      <th>DSS.time</th>\n",
       "      <th>gender</th>\n",
       "      <th>histological_type</th>\n",
       "      <th>pathologic_M</th>\n",
       "      <th>pathologic_N</th>\n",
       "      <th>pathologic_T</th>\n",
       "      <th>PFI</th>\n",
       "      <th>PFI.time</th>\n",
       "    </tr>\n",
       "    <tr>\n",
       "      <th>sample</th>\n",
       "      <th></th>\n",
       "      <th></th>\n",
       "      <th></th>\n",
       "      <th></th>\n",
       "      <th></th>\n",
       "      <th></th>\n",
       "      <th></th>\n",
       "      <th></th>\n",
       "      <th></th>\n",
       "      <th></th>\n",
       "      <th></th>\n",
       "      <th></th>\n",
       "      <th></th>\n",
       "    </tr>\n",
       "  </thead>\n",
       "  <tbody>\n",
       "    <tr>\n",
       "      <th>TCGA-B6-A0IC-01</th>\n",
       "      <td>TCGA-B6-A0IC-01</td>\n",
       "      <td>90.0</td>\n",
       "      <td>0.0</td>\n",
       "      <td>1542.0</td>\n",
       "      <td>0.0</td>\n",
       "      <td>1542.0</td>\n",
       "      <td>FEMALE</td>\n",
       "      <td>Other, specify</td>\n",
       "      <td>MX</td>\n",
       "      <td>NX</td>\n",
       "      <td>T2</td>\n",
       "      <td>0.0</td>\n",
       "      <td>1542.0</td>\n",
       "    </tr>\n",
       "    <tr>\n",
       "      <th>TCGA-LL-A6FP-01</th>\n",
       "      <td>TCGA-LL-A6FP-01</td>\n",
       "      <td>90.0</td>\n",
       "      <td>0.0</td>\n",
       "      <td>677.0</td>\n",
       "      <td>0.0</td>\n",
       "      <td>677.0</td>\n",
       "      <td>FEMALE</td>\n",
       "      <td>Infiltrating Lobular Carcinoma</td>\n",
       "      <td>MX</td>\n",
       "      <td>NX</td>\n",
       "      <td>T2</td>\n",
       "      <td>0.0</td>\n",
       "      <td>677.0</td>\n",
       "    </tr>\n",
       "    <tr>\n",
       "      <th>TCGA-D8-A1JK-01</th>\n",
       "      <td>TCGA-D8-A1JK-01</td>\n",
       "      <td>90.0</td>\n",
       "      <td>0.0</td>\n",
       "      <td>612.0</td>\n",
       "      <td>0.0</td>\n",
       "      <td>612.0</td>\n",
       "      <td>FEMALE</td>\n",
       "      <td>Infiltrating Ductal Carcinoma</td>\n",
       "      <td>M0</td>\n",
       "      <td>N0</td>\n",
       "      <td>T2</td>\n",
       "      <td>0.0</td>\n",
       "      <td>612.0</td>\n",
       "    </tr>\n",
       "    <tr>\n",
       "      <th>TCGA-AC-A3W6-01</th>\n",
       "      <td>TCGA-AC-A3W6-01</td>\n",
       "      <td>90.0</td>\n",
       "      <td>0.0</td>\n",
       "      <td>602.0</td>\n",
       "      <td>0.0</td>\n",
       "      <td>602.0</td>\n",
       "      <td>FEMALE</td>\n",
       "      <td>Infiltrating Lobular Carcinoma</td>\n",
       "      <td>MX</td>\n",
       "      <td>N1</td>\n",
       "      <td>T3</td>\n",
       "      <td>0.0</td>\n",
       "      <td>602.0</td>\n",
       "    </tr>\n",
       "    <tr>\n",
       "      <th>TCGA-E2-A9RU-01</th>\n",
       "      <td>TCGA-E2-A9RU-01</td>\n",
       "      <td>90.0</td>\n",
       "      <td>0.0</td>\n",
       "      <td>538.0</td>\n",
       "      <td>0.0</td>\n",
       "      <td>538.0</td>\n",
       "      <td>FEMALE</td>\n",
       "      <td>Infiltrating Ductal Carcinoma</td>\n",
       "      <td>MX</td>\n",
       "      <td>N3a</td>\n",
       "      <td>T2</td>\n",
       "      <td>0.0</td>\n",
       "      <td>538.0</td>\n",
       "    </tr>\n",
       "    <tr>\n",
       "      <th>...</th>\n",
       "      <td>...</td>\n",
       "      <td>...</td>\n",
       "      <td>...</td>\n",
       "      <td>...</td>\n",
       "      <td>...</td>\n",
       "      <td>...</td>\n",
       "      <td>...</td>\n",
       "      <td>...</td>\n",
       "      <td>...</td>\n",
       "      <td>...</td>\n",
       "      <td>...</td>\n",
       "      <td>...</td>\n",
       "      <td>...</td>\n",
       "    </tr>\n",
       "    <tr>\n",
       "      <th>TCGA-AN-A0FE-01</th>\n",
       "      <td>TCGA-AN-A0FE-01</td>\n",
       "      <td>NaN</td>\n",
       "      <td>NaN</td>\n",
       "      <td>NaN</td>\n",
       "      <td>NaN</td>\n",
       "      <td>NaN</td>\n",
       "      <td>NaN</td>\n",
       "      <td>NaN</td>\n",
       "      <td>NaN</td>\n",
       "      <td>NaN</td>\n",
       "      <td>NaN</td>\n",
       "      <td>NaN</td>\n",
       "      <td>NaN</td>\n",
       "    </tr>\n",
       "    <tr>\n",
       "      <th>TCGA-AN-A0FG-01</th>\n",
       "      <td>TCGA-AN-A0FG-01</td>\n",
       "      <td>NaN</td>\n",
       "      <td>NaN</td>\n",
       "      <td>NaN</td>\n",
       "      <td>NaN</td>\n",
       "      <td>NaN</td>\n",
       "      <td>NaN</td>\n",
       "      <td>NaN</td>\n",
       "      <td>NaN</td>\n",
       "      <td>NaN</td>\n",
       "      <td>NaN</td>\n",
       "      <td>NaN</td>\n",
       "      <td>NaN</td>\n",
       "    </tr>\n",
       "    <tr>\n",
       "      <th>TCGA-BH-A0B2-01</th>\n",
       "      <td>TCGA-BH-A0B2-01</td>\n",
       "      <td>NaN</td>\n",
       "      <td>NaN</td>\n",
       "      <td>NaN</td>\n",
       "      <td>NaN</td>\n",
       "      <td>NaN</td>\n",
       "      <td>NaN</td>\n",
       "      <td>NaN</td>\n",
       "      <td>NaN</td>\n",
       "      <td>NaN</td>\n",
       "      <td>NaN</td>\n",
       "      <td>NaN</td>\n",
       "      <td>NaN</td>\n",
       "    </tr>\n",
       "    <tr>\n",
       "      <th>TCGA-BH-A0B2-11</th>\n",
       "      <td>TCGA-BH-A0B2-11</td>\n",
       "      <td>NaN</td>\n",
       "      <td>NaN</td>\n",
       "      <td>NaN</td>\n",
       "      <td>NaN</td>\n",
       "      <td>NaN</td>\n",
       "      <td>NaN</td>\n",
       "      <td>NaN</td>\n",
       "      <td>NaN</td>\n",
       "      <td>NaN</td>\n",
       "      <td>NaN</td>\n",
       "      <td>NaN</td>\n",
       "      <td>NaN</td>\n",
       "    </tr>\n",
       "    <tr>\n",
       "      <th>TCGA-E2-A1IP-01</th>\n",
       "      <td>TCGA-E2-A1IP-01</td>\n",
       "      <td>NaN</td>\n",
       "      <td>NaN</td>\n",
       "      <td>NaN</td>\n",
       "      <td>NaN</td>\n",
       "      <td>NaN</td>\n",
       "      <td>NaN</td>\n",
       "      <td>NaN</td>\n",
       "      <td>NaN</td>\n",
       "      <td>NaN</td>\n",
       "      <td>NaN</td>\n",
       "      <td>NaN</td>\n",
       "      <td>NaN</td>\n",
       "    </tr>\n",
       "  </tbody>\n",
       "</table>\n",
       "<p>1247 rows × 13 columns</p>\n",
       "</div>"
      ],
      "text/plain": [
       "                         samples  age_at_initial_pathologic_diagnosis  DFI  \\\n",
       "sample                                                                       \n",
       "TCGA-B6-A0IC-01  TCGA-B6-A0IC-01                                 90.0  0.0   \n",
       "TCGA-LL-A6FP-01  TCGA-LL-A6FP-01                                 90.0  0.0   \n",
       "TCGA-D8-A1JK-01  TCGA-D8-A1JK-01                                 90.0  0.0   \n",
       "TCGA-AC-A3W6-01  TCGA-AC-A3W6-01                                 90.0  0.0   \n",
       "TCGA-E2-A9RU-01  TCGA-E2-A9RU-01                                 90.0  0.0   \n",
       "...                          ...                                  ...  ...   \n",
       "TCGA-AN-A0FE-01  TCGA-AN-A0FE-01                                  NaN  NaN   \n",
       "TCGA-AN-A0FG-01  TCGA-AN-A0FG-01                                  NaN  NaN   \n",
       "TCGA-BH-A0B2-01  TCGA-BH-A0B2-01                                  NaN  NaN   \n",
       "TCGA-BH-A0B2-11  TCGA-BH-A0B2-11                                  NaN  NaN   \n",
       "TCGA-E2-A1IP-01  TCGA-E2-A1IP-01                                  NaN  NaN   \n",
       "\n",
       "                 DFI.time  DSS  DSS.time  gender  \\\n",
       "sample                                             \n",
       "TCGA-B6-A0IC-01    1542.0  0.0    1542.0  FEMALE   \n",
       "TCGA-LL-A6FP-01     677.0  0.0     677.0  FEMALE   \n",
       "TCGA-D8-A1JK-01     612.0  0.0     612.0  FEMALE   \n",
       "TCGA-AC-A3W6-01     602.0  0.0     602.0  FEMALE   \n",
       "TCGA-E2-A9RU-01     538.0  0.0     538.0  FEMALE   \n",
       "...                   ...  ...       ...     ...   \n",
       "TCGA-AN-A0FE-01       NaN  NaN       NaN     NaN   \n",
       "TCGA-AN-A0FG-01       NaN  NaN       NaN     NaN   \n",
       "TCGA-BH-A0B2-01       NaN  NaN       NaN     NaN   \n",
       "TCGA-BH-A0B2-11       NaN  NaN       NaN     NaN   \n",
       "TCGA-E2-A1IP-01       NaN  NaN       NaN     NaN   \n",
       "\n",
       "                              histological_type pathologic_M pathologic_N  \\\n",
       "sample                                                                      \n",
       "TCGA-B6-A0IC-01                  Other, specify           MX           NX   \n",
       "TCGA-LL-A6FP-01  Infiltrating Lobular Carcinoma           MX           NX   \n",
       "TCGA-D8-A1JK-01   Infiltrating Ductal Carcinoma           M0           N0   \n",
       "TCGA-AC-A3W6-01  Infiltrating Lobular Carcinoma           MX           N1   \n",
       "TCGA-E2-A9RU-01   Infiltrating Ductal Carcinoma           MX          N3a   \n",
       "...                                         ...          ...          ...   \n",
       "TCGA-AN-A0FE-01                             NaN          NaN          NaN   \n",
       "TCGA-AN-A0FG-01                             NaN          NaN          NaN   \n",
       "TCGA-BH-A0B2-01                             NaN          NaN          NaN   \n",
       "TCGA-BH-A0B2-11                             NaN          NaN          NaN   \n",
       "TCGA-E2-A1IP-01                             NaN          NaN          NaN   \n",
       "\n",
       "                pathologic_T  PFI  PFI.time  \n",
       "sample                                       \n",
       "TCGA-B6-A0IC-01           T2  0.0    1542.0  \n",
       "TCGA-LL-A6FP-01           T2  0.0     677.0  \n",
       "TCGA-D8-A1JK-01           T2  0.0     612.0  \n",
       "TCGA-AC-A3W6-01           T3  0.0     602.0  \n",
       "TCGA-E2-A9RU-01           T2  0.0     538.0  \n",
       "...                      ...  ...       ...  \n",
       "TCGA-AN-A0FE-01          NaN  NaN       NaN  \n",
       "TCGA-AN-A0FG-01          NaN  NaN       NaN  \n",
       "TCGA-BH-A0B2-01          NaN  NaN       NaN  \n",
       "TCGA-BH-A0B2-11          NaN  NaN       NaN  \n",
       "TCGA-E2-A1IP-01          NaN  NaN       NaN  \n",
       "\n",
       "[1247 rows x 13 columns]"
      ]
     },
     "execution_count": 3,
     "metadata": {},
     "output_type": "execute_result"
    }
   ],
   "source": [
    "\n",
    "X = df_pheno_all \n",
    "\n",
    "X\n"
   ]
  },
  {
   "cell_type": "code",
   "execution_count": null,
   "metadata": {},
   "outputs": [],
   "source": []
  },
  {
   "cell_type": "code",
   "execution_count": 4,
   "metadata": {},
   "outputs": [],
   "source": [
    "pd.set_option(\"display.max_columns\", 16)\n"
   ]
  },
  {
   "cell_type": "code",
   "execution_count": 5,
   "metadata": {},
   "outputs": [],
   "source": [
    "df_clusters = pd.read_excel(r\"C:\\Users\\jjjjo\\Desktop\\Doktorarbeit\\DataSciIntro\\DataSci\\Notebooks\\BRCA_HER2+_Main.xlsx\",  index_col = 0)"
   ]
  },
  {
   "cell_type": "code",
   "execution_count": 6,
   "metadata": {},
   "outputs": [],
   "source": [
    "df_clusters = df_clusters.drop([\"histological_type\", \"samples\"], axis = 1)"
   ]
  },
  {
   "cell_type": "code",
   "execution_count": null,
   "metadata": {},
   "outputs": [],
   "source": []
  },
  {
   "cell_type": "code",
   "execution_count": 7,
   "metadata": {},
   "outputs": [],
   "source": [
    "\n",
    "cluster_pheno = df_clusters.join(X)"
   ]
  },
  {
   "cell_type": "code",
   "execution_count": 8,
   "metadata": {},
   "outputs": [
    {
     "data": {
      "text/plain": [
       "Index(['IL22RA1', 'IL22RA2', 'IL10RB', 'PVR', 'ER_Status_nature2012',\n",
       "       'PR_Status_nature2012', 'HER2_Final_Status_nature2012',\n",
       "       'AJCC_Stage_nature2012', 'OS_event_nature2012', 'OS_Time_nature2012',\n",
       "       'sample_type', 'Cluster', 'samples',\n",
       "       'age_at_initial_pathologic_diagnosis', 'DFI', 'DFI.time', 'DSS',\n",
       "       'DSS.time', 'gender', 'histological_type', 'pathologic_M',\n",
       "       'pathologic_N', 'pathologic_T', 'PFI', 'PFI.time'],\n",
       "      dtype='object')"
      ]
     },
     "execution_count": 8,
     "metadata": {},
     "output_type": "execute_result"
    }
   ],
   "source": [
    "cluster_pheno.columns"
   ]
  },
  {
   "cell_type": "code",
   "execution_count": 9,
   "metadata": {},
   "outputs": [],
   "source": [
    "pheno_means = cluster_pheno.groupby(\"Cluster\").mean()"
   ]
  },
  {
   "cell_type": "code",
   "execution_count": 10,
   "metadata": {},
   "outputs": [
    {
     "data": {
      "text/plain": [
       "T2     73\n",
       "T1c    13\n",
       "T3     11\n",
       "T1      6\n",
       "T4b     5\n",
       "T4d     1\n",
       "T2b     1\n",
       "Name: pathologic_T, dtype: int64"
      ]
     },
     "execution_count": 10,
     "metadata": {},
     "output_type": "execute_result"
    }
   ],
   "source": [
    "cluster_pheno[\"pathologic_T\"].value_counts()"
   ]
  },
  {
   "cell_type": "code",
   "execution_count": 11,
   "metadata": {},
   "outputs": [
    {
     "data": {
      "text/plain": [
       "N1         28\n",
       "N0         25\n",
       "N1a        17\n",
       "N0 (i-)    10\n",
       "N2a         8\n",
       "N3a         7\n",
       "N2          6\n",
       "NX          3\n",
       "N1mi        3\n",
       "N3          2\n",
       "N1b         1\n",
       "Name: pathologic_N, dtype: int64"
      ]
     },
     "execution_count": 11,
     "metadata": {},
     "output_type": "execute_result"
    }
   ],
   "source": [
    "cluster_pheno[\"pathologic_N\"].value_counts()"
   ]
  },
  {
   "cell_type": "code",
   "execution_count": 12,
   "metadata": {},
   "outputs": [
    {
     "data": {
      "text/plain": [
       "M0    99\n",
       "MX    10\n",
       "M1     1\n",
       "Name: pathologic_M, dtype: int64"
      ]
     },
     "execution_count": 12,
     "metadata": {},
     "output_type": "execute_result"
    }
   ],
   "source": [
    "cluster_pheno[\"pathologic_M\"].value_counts()"
   ]
  },
  {
   "cell_type": "code",
   "execution_count": null,
   "metadata": {},
   "outputs": [],
   "source": []
  },
  {
   "cell_type": "code",
   "execution_count": 13,
   "metadata": {},
   "outputs": [
    {
     "data": {
      "text/plain": [
       "Cluster  gender\n",
       "0        FEMALE    51\n",
       "         MALE       4\n",
       "1        FEMALE    29\n",
       "2        FEMALE    24\n",
       "         MALE       2\n",
       "Name: gender, dtype: int64"
      ]
     },
     "execution_count": 13,
     "metadata": {},
     "output_type": "execute_result"
    }
   ],
   "source": [
    "gender_cluster = cluster_pheno.groupby(\"Cluster\")[\"gender\"].value_counts()\n",
    "gender_cluster"
   ]
  },
  {
   "cell_type": "code",
   "execution_count": null,
   "metadata": {},
   "outputs": [],
   "source": []
  },
  {
   "cell_type": "code",
   "execution_count": 14,
   "metadata": {},
   "outputs": [],
   "source": [
    "pT_cluster = cluster_pheno.groupby(\"Cluster\")[\"pathologic_T\"].value_counts()\n",
    "pN_cluster = cluster_pheno.groupby(\"Cluster\")[\"pathologic_N\"].value_counts()\n",
    "pM_cluster = cluster_pheno.groupby(\"Cluster\")[\"pathologic_M\"].value_counts()"
   ]
  },
  {
   "cell_type": "code",
   "execution_count": 15,
   "metadata": {},
   "outputs": [
    {
     "data": {
      "text/plain": [
       "Cluster  pathologic_T\n",
       "0        T2              35\n",
       "         T3               6\n",
       "         T1               5\n",
       "         T4b              4\n",
       "         T1c              3\n",
       "         T2b              1\n",
       "         T4d              1\n",
       "1        T2              22\n",
       "         T1c              4\n",
       "         T3               2\n",
       "         T1               1\n",
       "2        T2              16\n",
       "         T1c              6\n",
       "         T3               3\n",
       "         T4b              1\n",
       "Name: pathologic_T, dtype: int64"
      ]
     },
     "execution_count": 15,
     "metadata": {},
     "output_type": "execute_result"
    }
   ],
   "source": [
    "pT_cluster"
   ]
  },
  {
   "cell_type": "code",
   "execution_count": 16,
   "metadata": {},
   "outputs": [
    {
     "data": {
      "text/plain": [
       "Cluster  pathologic_N\n",
       "0        N0              16\n",
       "         N1              13\n",
       "         N1a              6\n",
       "         N2               4\n",
       "         N2a              4\n",
       "         N0 (i-)          3\n",
       "         N1mi             3\n",
       "         N3a              3\n",
       "         NX               3\n",
       "1        N1               8\n",
       "         N1a              8\n",
       "         N0 (i-)          5\n",
       "         N2a              3\n",
       "         N2               2\n",
       "         N3               2\n",
       "         N0               1\n",
       "2        N0               8\n",
       "         N1               7\n",
       "         N3a              4\n",
       "         N1a              3\n",
       "         N0 (i-)          2\n",
       "         N1b              1\n",
       "         N2a              1\n",
       "Name: pathologic_N, dtype: int64"
      ]
     },
     "execution_count": 16,
     "metadata": {},
     "output_type": "execute_result"
    }
   ],
   "source": [
    "pN_cluster"
   ]
  },
  {
   "cell_type": "code",
   "execution_count": 17,
   "metadata": {},
   "outputs": [
    {
     "data": {
      "text/plain": [
       "Cluster  pathologic_M\n",
       "0        M0              48\n",
       "         MX               6\n",
       "         M1               1\n",
       "1        M0              27\n",
       "         MX               2\n",
       "2        M0              24\n",
       "         MX               2\n",
       "Name: pathologic_M, dtype: int64"
      ]
     },
     "execution_count": 17,
     "metadata": {},
     "output_type": "execute_result"
    }
   ],
   "source": [
    "pM_cluster"
   ]
  },
  {
   "cell_type": "code",
   "execution_count": 18,
   "metadata": {},
   "outputs": [
    {
     "data": {
      "text/plain": [
       "Cluster  AJCC_Stage_nature2012\n",
       "0        Stage II                 33\n",
       "         Stage III                15\n",
       "         Stage I                   4\n",
       "         Stage X                   2\n",
       "         Stage IV                  1\n",
       "1        Stage II                 22\n",
       "         Stage III                 7\n",
       "2        Stage II                 15\n",
       "         Stage III                 8\n",
       "         Stage I                   3\n",
       "Name: AJCC_Stage_nature2012, dtype: int64"
      ]
     },
     "execution_count": 18,
     "metadata": {},
     "output_type": "execute_result"
    }
   ],
   "source": [
    "pStage_cluster = cluster_pheno.groupby(\"Cluster\")['AJCC_Stage_nature2012'].value_counts()\n",
    "pStage_cluster"
   ]
  },
  {
   "cell_type": "code",
   "execution_count": 19,
   "metadata": {},
   "outputs": [
    {
     "data": {
      "text/plain": [
       "Index(['samples', 'age_at_initial_pathologic_diagnosis', 'DFI', 'DFI.time',\n",
       "       'DSS', 'DSS.time', 'gender', 'histological_type', 'pathologic_M',\n",
       "       'pathologic_N', 'pathologic_T', 'PFI', 'PFI.time'],\n",
       "      dtype='object')"
      ]
     },
     "execution_count": 19,
     "metadata": {},
     "output_type": "execute_result"
    }
   ],
   "source": [
    "X.columns"
   ]
  },
  {
   "cell_type": "code",
   "execution_count": 20,
   "metadata": {},
   "outputs": [
    {
     "data": {
      "text/plain": [
       "Cluster  histological_type             \n",
       "0        Infiltrating Ductal Carcinoma     49\n",
       "         Other, specify                     3\n",
       "         Infiltrating Lobular Carcinoma     2\n",
       "         Mucinous Carcinoma                 1\n",
       "1        Infiltrating Ductal Carcinoma     28\n",
       "         Infiltrating Lobular Carcinoma     1\n",
       "2        Infiltrating Ductal Carcinoma     23\n",
       "         Infiltrating Lobular Carcinoma     2\n",
       "         Other, specify                     1\n",
       "Name: histological_type, dtype: int64"
      ]
     },
     "execution_count": 20,
     "metadata": {},
     "output_type": "execute_result"
    }
   ],
   "source": [
    "histo_cluster = cluster_pheno.groupby(\"Cluster\")[\"histological_type\"].value_counts()\n",
    "histo_cluster"
   ]
  },
  {
   "cell_type": "code",
   "execution_count": null,
   "metadata": {},
   "outputs": [],
   "source": []
  },
  {
   "cell_type": "code",
   "execution_count": null,
   "metadata": {},
   "outputs": [],
   "source": []
  },
  {
   "cell_type": "code",
   "execution_count": null,
   "metadata": {},
   "outputs": [],
   "source": []
  },
  {
   "cell_type": "code",
   "execution_count": null,
   "metadata": {},
   "outputs": [],
   "source": []
  },
  {
   "cell_type": "code",
   "execution_count": null,
   "metadata": {},
   "outputs": [],
   "source": []
  },
  {
   "cell_type": "code",
   "execution_count": 21,
   "metadata": {},
   "outputs": [],
   "source": [
    "age_counts_cluster = cluster_pheno.groupby(\"Cluster\")['age_at_initial_pathologic_diagnosis'].value_counts()\n",
    "age_mean_cluster = cluster_pheno.groupby(\"Cluster\")['age_at_initial_pathologic_diagnosis'].mean()"
   ]
  },
  {
   "cell_type": "code",
   "execution_count": 22,
   "metadata": {},
   "outputs": [
    {
     "data": {
      "text/plain": [
       "Cluster\n",
       "0    58.636364\n",
       "1    57.689655\n",
       "2    57.653846\n",
       "Name: age_at_initial_pathologic_diagnosis, dtype: float64"
      ]
     },
     "execution_count": 22,
     "metadata": {},
     "output_type": "execute_result"
    }
   ],
   "source": [
    "age_mean_cluster"
   ]
  },
  {
   "cell_type": "code",
   "execution_count": 23,
   "metadata": {},
   "outputs": [
    {
     "data": {
      "text/plain": [
       "Cluster  age_at_initial_pathologic_diagnosis\n",
       "0        50.0                                   4\n",
       "         62.0                                   4\n",
       "         38.0                                   3\n",
       "         58.0                                   3\n",
       "         78.0                                   3\n",
       "                                               ..\n",
       "2        66.0                                   1\n",
       "         68.0                                   1\n",
       "         69.0                                   1\n",
       "         71.0                                   1\n",
       "         76.0                                   1\n",
       "Name: age_at_initial_pathologic_diagnosis, Length: 74, dtype: int64"
      ]
     },
     "execution_count": 23,
     "metadata": {},
     "output_type": "execute_result"
    }
   ],
   "source": [
    "age_counts_cluster"
   ]
  },
  {
   "cell_type": "code",
   "execution_count": null,
   "metadata": {},
   "outputs": [],
   "source": []
  },
  {
   "cell_type": "code",
   "execution_count": null,
   "metadata": {},
   "outputs": [],
   "source": []
  },
  {
   "cell_type": "code",
   "execution_count": 24,
   "metadata": {},
   "outputs": [],
   "source": [
    "#PFS\n",
    "\n",
    "from lifelines import KaplanMeierFitter\n",
    "T = cluster_pheno[\"PFI.time\"]\n",
    "E = cluster_pheno[\"PFI\"]\n",
    "kmf = KaplanMeierFitter()\n",
    "clusters = cluster_pheno[\"Cluster\"]\n",
    "cl0 = (clusters == 0)\n",
    "cl1 = (clusters == 1) \n",
    "cl2 = (clusters == 2)"
   ]
  },
  {
   "cell_type": "code",
   "execution_count": 25,
   "metadata": {},
   "outputs": [
    {
     "data": {
      "image/png": "[encoded data removed]",
      "text/plain": [
       "<Figure size 864x864 with 1 Axes>"
      ]
     },
     "metadata": {
      "needs_background": "light"
     },
     "output_type": "display_data"
    }
   ],
   "source": [
    "#plotting all cluster PFI times w/o confidence intervals for visibility\n",
    "\n",
    "fig, (ax) = plt.subplots(nrows = 1, ncols = 1, sharex = True, figsize = (12, 12))\n",
    "\n",
    "kmf0= KaplanMeierFitter()\n",
    "ax = kmf0.fit(T[cl0], E[cl0], label=\"Cluster 0\").plot(ax=ax, figsize = (12, 12), ci_show = False, color = \"#66b3ff\")\n",
    "\n",
    "kmf1= KaplanMeierFitter()\n",
    "ax = kmf1.fit(T[cl1], E[cl1], label=\"Cluster 1\").plot(ax=ax, figsize = (12, 12), ci_show = False, color = \"#99ff99\")\n",
    "\n",
    "kmf2= KaplanMeierFitter()\n",
    "ax = kmf2.fit(T[cl2], E[cl2], label=\"Cluster 2\").plot(ax=ax, figsize = (12, 12), ci_show = False, color = \"#ffcc99\")\n",
    "fig.suptitle(\"BRCA PFI by Cluster\")\n",
    "plt.savefig(fname = \"BRCA_PFI_clusters.svg\", format = \"svg\")\n",
    "plt.tight_layout()"
   ]
  },
  {
   "cell_type": "code",
   "execution_count": 26,
   "metadata": {},
   "outputs": [
    {
     "data": {
      "text/html": [
       "<div>\n",
       "<style scoped>\n",
       "    .dataframe tbody tr th:only-of-type {\n",
       "        vertical-align: middle;\n",
       "    }\n",
       "\n",
       "    .dataframe tbody tr th {\n",
       "        vertical-align: top;\n",
       "    }\n",
       "\n",
       "    .dataframe thead th {\n",
       "        text-align: right;\n",
       "    }\n",
       "</style>\n",
       "<table border=\"1\" class=\"dataframe\">\n",
       "  <tbody>\n",
       "    <tr>\n",
       "      <th>t_0</th>\n",
       "      <td>-1</td>\n",
       "    </tr>\n",
       "    <tr>\n",
       "      <th>null_distribution</th>\n",
       "      <td>chi squared</td>\n",
       "    </tr>\n",
       "    <tr>\n",
       "      <th>degrees_of_freedom</th>\n",
       "      <td>1</td>\n",
       "    </tr>\n",
       "    <tr>\n",
       "      <th>alpha</th>\n",
       "      <td>0.95</td>\n",
       "    </tr>\n",
       "    <tr>\n",
       "      <th>test_name</th>\n",
       "      <td>logrank_test</td>\n",
       "    </tr>\n",
       "  </tbody>\n",
       "</table>\n",
       "</div><table border=\"1\" class=\"dataframe\">\n",
       "  <thead>\n",
       "    <tr style=\"text-align: right;\">\n",
       "      <th></th>\n",
       "      <th>test_statistic</th>\n",
       "      <th>p</th>\n",
       "      <th>-log2(p)</th>\n",
       "    </tr>\n",
       "  </thead>\n",
       "  <tbody>\n",
       "    <tr>\n",
       "      <th>0</th>\n",
       "      <td>2.95</td>\n",
       "      <td>0.09</td>\n",
       "      <td>3.54</td>\n",
       "    </tr>\n",
       "  </tbody>\n",
       "</table>"
      ],
      "text/latex": [
       "\\begin{tabular}{lrrr}\n",
       "\\toprule\n",
       "{} &  test\\_statistic &         p &  -log2(p) \\\\\n",
       "\\midrule\n",
       "0 &        2.946039 &  0.086088 &  3.538039 \\\\\n",
       "\\bottomrule\n",
       "\\end{tabular}\n"
      ],
      "text/plain": [
       "<lifelines.StatisticalResult: logrank_test>\n",
       "               t_0 = -1\n",
       " null_distribution = chi squared\n",
       "degrees_of_freedom = 1\n",
       "             alpha = 0.95\n",
       "         test_name = logrank_test\n",
       "\n",
       "---\n",
       " test_statistic    p  -log2(p)\n",
       "           2.95 0.09      3.54"
      ]
     },
     "metadata": {},
     "output_type": "display_data"
    },
    {
     "data": {
      "text/html": [
       "<div>\n",
       "<style scoped>\n",
       "    .dataframe tbody tr th:only-of-type {\n",
       "        vertical-align: middle;\n",
       "    }\n",
       "\n",
       "    .dataframe tbody tr th {\n",
       "        vertical-align: top;\n",
       "    }\n",
       "\n",
       "    .dataframe thead th {\n",
       "        text-align: right;\n",
       "    }\n",
       "</style>\n",
       "<table border=\"1\" class=\"dataframe\">\n",
       "  <tbody>\n",
       "    <tr>\n",
       "      <th>t_0</th>\n",
       "      <td>-1</td>\n",
       "    </tr>\n",
       "    <tr>\n",
       "      <th>null_distribution</th>\n",
       "      <td>chi squared</td>\n",
       "    </tr>\n",
       "    <tr>\n",
       "      <th>degrees_of_freedom</th>\n",
       "      <td>1</td>\n",
       "    </tr>\n",
       "    <tr>\n",
       "      <th>alpha</th>\n",
       "      <td>0.95</td>\n",
       "    </tr>\n",
       "    <tr>\n",
       "      <th>test_name</th>\n",
       "      <td>logrank_test</td>\n",
       "    </tr>\n",
       "  </tbody>\n",
       "</table>\n",
       "</div><table border=\"1\" class=\"dataframe\">\n",
       "  <thead>\n",
       "    <tr style=\"text-align: right;\">\n",
       "      <th></th>\n",
       "      <th>test_statistic</th>\n",
       "      <th>p</th>\n",
       "      <th>-log2(p)</th>\n",
       "    </tr>\n",
       "  </thead>\n",
       "  <tbody>\n",
       "    <tr>\n",
       "      <th>0</th>\n",
       "      <td>2.95</td>\n",
       "      <td>0.09</td>\n",
       "      <td>3.54</td>\n",
       "    </tr>\n",
       "  </tbody>\n",
       "</table>"
      ],
      "text/latex": [
       "\\begin{tabular}{lrrr}\n",
       "\\toprule\n",
       "{} &  test\\_statistic &         p &  -log2(p) \\\\\n",
       "\\midrule\n",
       "0 &        2.946039 &  0.086088 &  3.538039 \\\\\n",
       "\\bottomrule\n",
       "\\end{tabular}\n"
      ],
      "text/plain": [
       "<lifelines.StatisticalResult: logrank_test>\n",
       "               t_0 = -1\n",
       " null_distribution = chi squared\n",
       "degrees_of_freedom = 1\n",
       "             alpha = 0.95\n",
       "         test_name = logrank_test\n",
       "\n",
       "---\n",
       " test_statistic    p  -log2(p)\n",
       "           2.95 0.09      3.54"
      ]
     },
     "metadata": {},
     "output_type": "display_data"
    }
   ],
   "source": [
    "# logrank test of cluster 1 vs cluster 2\n",
    "from lifelines.statistics import logrank_test\n",
    "\n",
    "results = logrank_test(T[cl1], T[cl2], E[cl1], E[cl2], alpha=.95)# logrank test of cluster 1 vs cluster 2\n",
    "from lifelines.statistics import logrank_test\n",
    "\n",
    "results = logrank_test(T[cl1], T[cl2], E[cl1], E[cl2], alpha=.95)\n",
    "\n",
    "results.print_summary()\n",
    "\n"
   ]
  },
  {
   "cell_type": "code",
   "execution_count": 27,
   "metadata": {},
   "outputs": [
    {
     "data": {
      "text/html": [
       "<div>\n",
       "<style scoped>\n",
       "    .dataframe tbody tr th:only-of-type {\n",
       "        vertical-align: middle;\n",
       "    }\n",
       "\n",
       "    .dataframe tbody tr th {\n",
       "        vertical-align: top;\n",
       "    }\n",
       "\n",
       "    .dataframe thead th {\n",
       "        text-align: right;\n",
       "    }\n",
       "</style>\n",
       "<table border=\"1\" class=\"dataframe\">\n",
       "  <tbody>\n",
       "    <tr>\n",
       "      <th>t_0</th>\n",
       "      <td>-1</td>\n",
       "    </tr>\n",
       "    <tr>\n",
       "      <th>null_distribution</th>\n",
       "      <td>chi squared</td>\n",
       "    </tr>\n",
       "    <tr>\n",
       "      <th>degrees_of_freedom</th>\n",
       "      <td>1</td>\n",
       "    </tr>\n",
       "    <tr>\n",
       "      <th>alpha</th>\n",
       "      <td>0.95</td>\n",
       "    </tr>\n",
       "    <tr>\n",
       "      <th>test_name</th>\n",
       "      <td>logrank_test</td>\n",
       "    </tr>\n",
       "  </tbody>\n",
       "</table>\n",
       "</div><table border=\"1\" class=\"dataframe\">\n",
       "  <thead>\n",
       "    <tr style=\"text-align: right;\">\n",
       "      <th></th>\n",
       "      <th>test_statistic</th>\n",
       "      <th>p</th>\n",
       "      <th>-log2(p)</th>\n",
       "    </tr>\n",
       "  </thead>\n",
       "  <tbody>\n",
       "    <tr>\n",
       "      <th>0</th>\n",
       "      <td>1.62</td>\n",
       "      <td>0.20</td>\n",
       "      <td>2.30</td>\n",
       "    </tr>\n",
       "  </tbody>\n",
       "</table>"
      ],
      "text/latex": [
       "\\begin{tabular}{lrrr}\n",
       "\\toprule\n",
       "{} &  test\\_statistic &         p &  -log2(p) \\\\\n",
       "\\midrule\n",
       "0 &        1.619361 &  0.203181 &  2.299164 \\\\\n",
       "\\bottomrule\n",
       "\\end{tabular}\n"
      ],
      "text/plain": [
       "<lifelines.StatisticalResult: logrank_test>\n",
       "               t_0 = -1\n",
       " null_distribution = chi squared\n",
       "degrees_of_freedom = 1\n",
       "             alpha = 0.95\n",
       "         test_name = logrank_test\n",
       "\n",
       "---\n",
       " test_statistic    p  -log2(p)\n",
       "           1.62 0.20      2.30"
      ]
     },
     "metadata": {},
     "output_type": "display_data"
    }
   ],
   "source": [
    "# logrank test of cluster 0 vs cluster 1\n",
    "from lifelines.statistics import logrank_test\n",
    "\n",
    "results = logrank_test(T[cl0], T[cl1], E[cl0], E[cl1], alpha=.95)\n",
    "\n",
    "results.print_summary()"
   ]
  },
  {
   "cell_type": "code",
   "execution_count": 28,
   "metadata": {},
   "outputs": [
    {
     "data": {
      "text/html": [
       "<div>\n",
       "<style scoped>\n",
       "    .dataframe tbody tr th:only-of-type {\n",
       "        vertical-align: middle;\n",
       "    }\n",
       "\n",
       "    .dataframe tbody tr th {\n",
       "        vertical-align: top;\n",
       "    }\n",
       "\n",
       "    .dataframe thead th {\n",
       "        text-align: right;\n",
       "    }\n",
       "</style>\n",
       "<table border=\"1\" class=\"dataframe\">\n",
       "  <tbody>\n",
       "    <tr>\n",
       "      <th>t_0</th>\n",
       "      <td>-1</td>\n",
       "    </tr>\n",
       "    <tr>\n",
       "      <th>null_distribution</th>\n",
       "      <td>chi squared</td>\n",
       "    </tr>\n",
       "    <tr>\n",
       "      <th>degrees_of_freedom</th>\n",
       "      <td>1</td>\n",
       "    </tr>\n",
       "    <tr>\n",
       "      <th>alpha</th>\n",
       "      <td>0.95</td>\n",
       "    </tr>\n",
       "    <tr>\n",
       "      <th>test_name</th>\n",
       "      <td>logrank_test</td>\n",
       "    </tr>\n",
       "  </tbody>\n",
       "</table>\n",
       "</div><table border=\"1\" class=\"dataframe\">\n",
       "  <thead>\n",
       "    <tr style=\"text-align: right;\">\n",
       "      <th></th>\n",
       "      <th>test_statistic</th>\n",
       "      <th>p</th>\n",
       "      <th>-log2(p)</th>\n",
       "    </tr>\n",
       "  </thead>\n",
       "  <tbody>\n",
       "    <tr>\n",
       "      <th>0</th>\n",
       "      <td>0.18</td>\n",
       "      <td>0.67</td>\n",
       "      <td>0.58</td>\n",
       "    </tr>\n",
       "  </tbody>\n",
       "</table>"
      ],
      "text/latex": [
       "\\begin{tabular}{lrrr}\n",
       "\\toprule\n",
       "{} &  test\\_statistic &         p &  -log2(p) \\\\\n",
       "\\midrule\n",
       "0 &        0.184287 &  0.667715 &  0.582696 \\\\\n",
       "\\bottomrule\n",
       "\\end{tabular}\n"
      ],
      "text/plain": [
       "<lifelines.StatisticalResult: logrank_test>\n",
       "               t_0 = -1\n",
       " null_distribution = chi squared\n",
       "degrees_of_freedom = 1\n",
       "             alpha = 0.95\n",
       "         test_name = logrank_test\n",
       "\n",
       "---\n",
       " test_statistic    p  -log2(p)\n",
       "           0.18 0.67      0.58"
      ]
     },
     "metadata": {},
     "output_type": "display_data"
    }
   ],
   "source": [
    "# logrank test of cluster 0 vs cluster 2\n",
    "from lifelines.statistics import logrank_test\n",
    "\n",
    "results = logrank_test(T[cl0], T[cl2], E[cl0], E[cl2], alpha=.95)\n",
    "\n",
    "results.print_summary()"
   ]
  },
  {
   "cell_type": "code",
   "execution_count": 29,
   "metadata": {},
   "outputs": [
    {
     "data": {
      "text/plain": [
       "0    53\n",
       "1    29\n",
       "2    26\n",
       "Name: Cluster, dtype: int64"
      ]
     },
     "execution_count": 29,
     "metadata": {},
     "output_type": "execute_result"
    }
   ],
   "source": [
    "df_DSS = cluster_pheno[[\"Cluster\", \"DSS\", \"DSS.time\"]]\n",
    "df_DSS = df_DSS.dropna()\n",
    "df_DSS[\"Cluster\"].value_counts()"
   ]
  },
  {
   "cell_type": "code",
   "execution_count": 30,
   "metadata": {},
   "outputs": [
    {
     "data": {
      "text/plain": [
       "0    55\n",
       "1    29\n",
       "2    26\n",
       "Name: Cluster, dtype: int64"
      ]
     },
     "execution_count": 30,
     "metadata": {},
     "output_type": "execute_result"
    }
   ],
   "source": [
    "cluster_pheno[\"Cluster\"].value_counts()"
   ]
  },
  {
   "cell_type": "code",
   "execution_count": 31,
   "metadata": {},
   "outputs": [],
   "source": [
    "#DSS\n",
    "\n",
    "from lifelines import KaplanMeierFitter\n",
    "T = df_DSS[\"DSS.time\"]\n",
    "E = df_DSS[\"DSS\"]\n",
    "kmf = KaplanMeierFitter()\n",
    "clusters = df_DSS[\"Cluster\"]\n",
    "cl0 = (clusters == 0)\n",
    "cl1 = (clusters == 1) \n",
    "cl2 = (clusters == 2)"
   ]
  },
  {
   "cell_type": "code",
   "execution_count": 32,
   "metadata": {},
   "outputs": [
    {
     "data": {
      "image/png": "[encoded data removed]",
      "text/plain": [
       "<Figure size 864x864 with 1 Axes>"
      ]
     },
     "metadata": {
      "needs_background": "light"
     },
     "output_type": "display_data"
    }
   ],
   "source": [
    "#plotting all cluster DSS times w/o confidence intervals for visibility\n",
    "\n",
    "fig, (ax) = plt.subplots(nrows = 1, ncols = 1, sharex = True, figsize = (12, 12))\n",
    "\n",
    "kmf0= KaplanMeierFitter()\n",
    "ax = kmf0.fit(T[cl0], E[cl0], label=\"Cluster 0\").plot(ax=ax, figsize = (12, 12), ci_show = False, color = \"#66b3ff\")\n",
    "\n",
    "kmf1= KaplanMeierFitter()\n",
    "ax = kmf1.fit(T[cl1], E[cl1], label=\"Cluster 1\").plot(ax=ax, figsize = (12, 12), ci_show = False, color = \"#99ff99\")\n",
    "\n",
    "kmf2= KaplanMeierFitter()\n",
    "ax = kmf2.fit(T[cl2], E[cl2], label=\"Cluster 2\").plot(ax=ax, figsize = (12, 12), ci_show = False, color = \"#ffcc99\")\n",
    "fig.suptitle(\"BRCA DSS by Cluster\")\n",
    "plt.savefig(fname = \"BRCA_DSS_clusters.svg\", format = \"svg\")\n",
    "plt.tight_layout()"
   ]
  },
  {
   "cell_type": "code",
   "execution_count": 33,
   "metadata": {},
   "outputs": [
    {
     "data": {
      "text/html": [
       "<div>\n",
       "<style scoped>\n",
       "    .dataframe tbody tr th:only-of-type {\n",
       "        vertical-align: middle;\n",
       "    }\n",
       "\n",
       "    .dataframe tbody tr th {\n",
       "        vertical-align: top;\n",
       "    }\n",
       "\n",
       "    .dataframe thead th {\n",
       "        text-align: right;\n",
       "    }\n",
       "</style>\n",
       "<table border=\"1\" class=\"dataframe\">\n",
       "  <tbody>\n",
       "    <tr>\n",
       "      <th>t_0</th>\n",
       "      <td>-1</td>\n",
       "    </tr>\n",
       "    <tr>\n",
       "      <th>null_distribution</th>\n",
       "      <td>chi squared</td>\n",
       "    </tr>\n",
       "    <tr>\n",
       "      <th>degrees_of_freedom</th>\n",
       "      <td>1</td>\n",
       "    </tr>\n",
       "    <tr>\n",
       "      <th>alpha</th>\n",
       "      <td>0.95</td>\n",
       "    </tr>\n",
       "    <tr>\n",
       "      <th>test_name</th>\n",
       "      <td>logrank_test</td>\n",
       "    </tr>\n",
       "  </tbody>\n",
       "</table>\n",
       "</div><table border=\"1\" class=\"dataframe\">\n",
       "  <thead>\n",
       "    <tr style=\"text-align: right;\">\n",
       "      <th></th>\n",
       "      <th>test_statistic</th>\n",
       "      <th>p</th>\n",
       "      <th>-log2(p)</th>\n",
       "    </tr>\n",
       "  </thead>\n",
       "  <tbody>\n",
       "    <tr>\n",
       "      <th>0</th>\n",
       "      <td>1.42</td>\n",
       "      <td>0.23</td>\n",
       "      <td>2.10</td>\n",
       "    </tr>\n",
       "  </tbody>\n",
       "</table>"
      ],
      "text/latex": [
       "\\begin{tabular}{lrrr}\n",
       "\\toprule\n",
       "{} &  test\\_statistic &         p &  -log2(p) \\\\\n",
       "\\midrule\n",
       "0 &        1.416667 &  0.233953 &   2.09571 \\\\\n",
       "\\bottomrule\n",
       "\\end{tabular}\n"
      ],
      "text/plain": [
       "<lifelines.StatisticalResult: logrank_test>\n",
       "               t_0 = -1\n",
       " null_distribution = chi squared\n",
       "degrees_of_freedom = 1\n",
       "             alpha = 0.95\n",
       "         test_name = logrank_test\n",
       "\n",
       "---\n",
       " test_statistic    p  -log2(p)\n",
       "           1.42 0.23      2.10"
      ]
     },
     "metadata": {},
     "output_type": "display_data"
    }
   ],
   "source": [
    "# logrank test of cluster 1 vs cluster 2\n",
    "from lifelines.statistics import logrank_test\n",
    "\n",
    "results = logrank_test(T[cl1], T[cl2], E[cl1], E[cl2], alpha=.95)\n",
    "\n",
    "results.print_summary()"
   ]
  },
  {
   "cell_type": "code",
   "execution_count": 34,
   "metadata": {},
   "outputs": [
    {
     "data": {
      "text/html": [
       "<div>\n",
       "<style scoped>\n",
       "    .dataframe tbody tr th:only-of-type {\n",
       "        vertical-align: middle;\n",
       "    }\n",
       "\n",
       "    .dataframe tbody tr th {\n",
       "        vertical-align: top;\n",
       "    }\n",
       "\n",
       "    .dataframe thead th {\n",
       "        text-align: right;\n",
       "    }\n",
       "</style>\n",
       "<table border=\"1\" class=\"dataframe\">\n",
       "  <tbody>\n",
       "    <tr>\n",
       "      <th>t_0</th>\n",
       "      <td>-1</td>\n",
       "    </tr>\n",
       "    <tr>\n",
       "      <th>null_distribution</th>\n",
       "      <td>chi squared</td>\n",
       "    </tr>\n",
       "    <tr>\n",
       "      <th>degrees_of_freedom</th>\n",
       "      <td>1</td>\n",
       "    </tr>\n",
       "    <tr>\n",
       "      <th>alpha</th>\n",
       "      <td>0.95</td>\n",
       "    </tr>\n",
       "    <tr>\n",
       "      <th>test_name</th>\n",
       "      <td>logrank_test</td>\n",
       "    </tr>\n",
       "  </tbody>\n",
       "</table>\n",
       "</div><table border=\"1\" class=\"dataframe\">\n",
       "  <thead>\n",
       "    <tr style=\"text-align: right;\">\n",
       "      <th></th>\n",
       "      <th>test_statistic</th>\n",
       "      <th>p</th>\n",
       "      <th>-log2(p)</th>\n",
       "    </tr>\n",
       "  </thead>\n",
       "  <tbody>\n",
       "    <tr>\n",
       "      <th>0</th>\n",
       "      <td>1.91</td>\n",
       "      <td>0.17</td>\n",
       "      <td>2.58</td>\n",
       "    </tr>\n",
       "  </tbody>\n",
       "</table>"
      ],
      "text/latex": [
       "\\begin{tabular}{lrrr}\n",
       "\\toprule\n",
       "{} &  test\\_statistic &         p &  -log2(p) \\\\\n",
       "\\midrule\n",
       "0 &        1.909272 &  0.167044 &  2.581699 \\\\\n",
       "\\bottomrule\n",
       "\\end{tabular}\n"
      ],
      "text/plain": [
       "<lifelines.StatisticalResult: logrank_test>\n",
       "               t_0 = -1\n",
       " null_distribution = chi squared\n",
       "degrees_of_freedom = 1\n",
       "             alpha = 0.95\n",
       "         test_name = logrank_test\n",
       "\n",
       "---\n",
       " test_statistic    p  -log2(p)\n",
       "           1.91 0.17      2.58"
      ]
     },
     "metadata": {},
     "output_type": "display_data"
    }
   ],
   "source": [
    "# logrank test of cluster 0 vs cluster 1\n",
    "from lifelines.statistics import logrank_test\n",
    "\n",
    "results = logrank_test(T[cl0], T[cl1], E[cl0], E[cl1], alpha=.95)\n",
    "\n",
    "results.print_summary()"
   ]
  },
  {
   "cell_type": "code",
   "execution_count": 35,
   "metadata": {},
   "outputs": [
    {
     "data": {
      "text/html": [
       "<div>\n",
       "<style scoped>\n",
       "    .dataframe tbody tr th:only-of-type {\n",
       "        vertical-align: middle;\n",
       "    }\n",
       "\n",
       "    .dataframe tbody tr th {\n",
       "        vertical-align: top;\n",
       "    }\n",
       "\n",
       "    .dataframe thead th {\n",
       "        text-align: right;\n",
       "    }\n",
       "</style>\n",
       "<table border=\"1\" class=\"dataframe\">\n",
       "  <tbody>\n",
       "    <tr>\n",
       "      <th>t_0</th>\n",
       "      <td>-1</td>\n",
       "    </tr>\n",
       "    <tr>\n",
       "      <th>null_distribution</th>\n",
       "      <td>chi squared</td>\n",
       "    </tr>\n",
       "    <tr>\n",
       "      <th>degrees_of_freedom</th>\n",
       "      <td>1</td>\n",
       "    </tr>\n",
       "    <tr>\n",
       "      <th>alpha</th>\n",
       "      <td>0.95</td>\n",
       "    </tr>\n",
       "    <tr>\n",
       "      <th>test_name</th>\n",
       "      <td>logrank_test</td>\n",
       "    </tr>\n",
       "  </tbody>\n",
       "</table>\n",
       "</div><table border=\"1\" class=\"dataframe\">\n",
       "  <thead>\n",
       "    <tr style=\"text-align: right;\">\n",
       "      <th></th>\n",
       "      <th>test_statistic</th>\n",
       "      <th>p</th>\n",
       "      <th>-log2(p)</th>\n",
       "    </tr>\n",
       "  </thead>\n",
       "  <tbody>\n",
       "    <tr>\n",
       "      <th>0</th>\n",
       "      <td>0.00</td>\n",
       "      <td>0.96</td>\n",
       "      <td>0.06</td>\n",
       "    </tr>\n",
       "  </tbody>\n",
       "</table>"
      ],
      "text/latex": [
       "\\begin{tabular}{lrrr}\n",
       "\\toprule\n",
       "{} &  test\\_statistic &         p &  -log2(p) \\\\\n",
       "\\midrule\n",
       "0 &        0.002233 &  0.962307 &  0.055431 \\\\\n",
       "\\bottomrule\n",
       "\\end{tabular}\n"
      ],
      "text/plain": [
       "<lifelines.StatisticalResult: logrank_test>\n",
       "               t_0 = -1\n",
       " null_distribution = chi squared\n",
       "degrees_of_freedom = 1\n",
       "             alpha = 0.95\n",
       "         test_name = logrank_test\n",
       "\n",
       "---\n",
       " test_statistic    p  -log2(p)\n",
       "           0.00 0.96      0.06"
      ]
     },
     "metadata": {},
     "output_type": "display_data"
    }
   ],
   "source": [
    "# logrank test of cluster 0 vs cluster 2\n",
    "from lifelines.statistics import logrank_test\n",
    "\n",
    "results = logrank_test(T[cl0], T[cl2], E[cl0], E[cl2], alpha=.95)\n",
    "\n",
    "results.print_summary()"
   ]
  },
  {
   "cell_type": "code",
   "execution_count": 36,
   "metadata": {},
   "outputs": [],
   "source": [
    "#with pd.ExcelWriter('BRCA_pheno_analysis.xlsx') as writer:\n",
    "    #cluster_pheno.to_excel(writer, sheet_name='Raw')\n",
    "    #gender_cluster.to_excel(writer, sheet_name='Gender')\n",
    "    #age_mean_cluster.to_excel(writer, sheet_name=\"age_mean\")\n",
    "    #age_counts_cluster.to_excel(writer, sheet_name=\"age_counts\")\n",
    "    #histo_cluster.to_excel(writer, sheet_name=\"Histo_Subtype\")\n",
    "    #pT_cluster.to_excel(writer, sheet_name=\"pT\")\n",
    "    #pN_cluster.to_excel(writer, sheet_name=\"pN\")\n",
    "    #pM_cluster.to_excel(writer, sheet_name=\"pM\")\n",
    " \n",
    "    "
   ]
  },
  {
   "cell_type": "code",
   "execution_count": 37,
   "metadata": {},
   "outputs": [
    {
     "data": {
      "text/plain": [
       "Index(['samples', 'age_at_initial_pathologic_diagnosis', 'DFI', 'DFI.time',\n",
       "       'DSS', 'DSS.time', 'gender', 'histological_type', 'pathologic_M',\n",
       "       'pathologic_N', 'pathologic_T', 'PFI', 'PFI.time'],\n",
       "      dtype='object')"
      ]
     },
     "execution_count": 37,
     "metadata": {},
     "output_type": "execute_result"
    }
   ],
   "source": [
    "X.columns"
   ]
  },
  {
   "cell_type": "code",
   "execution_count": 41,
   "metadata": {},
   "outputs": [
    {
     "data": {
      "text/plain": [
       "0    49\n",
       "1    28\n",
       "2    25\n",
       "Name: Cluster, dtype: int64"
      ]
     },
     "execution_count": 41,
     "metadata": {},
     "output_type": "execute_result"
    }
   ],
   "source": [
    "df_DFI = cluster_pheno[[\"Cluster\", \"DFI\", \"DFI.time\"]]\n",
    "df_DFI = df_DFI.dropna()\n",
    "df_DFI[\"Cluster\"].value_counts()"
   ]
  },
  {
   "cell_type": "code",
   "execution_count": 44,
   "metadata": {},
   "outputs": [],
   "source": [
    "#DFI\n",
    "\n",
    "from lifelines import KaplanMeierFitter\n",
    "T = df_DFI[\"DFI.time\"]\n",
    "E = df_DFI[\"DFI\"]\n",
    "kmf = KaplanMeierFitter()\n",
    "clusters = df_DFI[\"Cluster\"]\n",
    "cl0 = (clusters == 0)\n",
    "cl1 = (clusters == 1) \n",
    "cl2 = (clusters == 2)"
   ]
  },
  {
   "cell_type": "code",
   "execution_count": 49,
   "metadata": {},
   "outputs": [
    {
     "data": {
      "image/png": "[encoded data removed]",
      "text/plain": [
       "<Figure size 864x864 with 1 Axes>"
      ]
     },
     "metadata": {
      "needs_background": "light"
     },
     "output_type": "display_data"
    }
   ],
   "source": [
    "#plotting all cluster DFI times w/o confidence intervals for visibility\n",
    "\n",
    "fig, (ax) = plt.subplots(nrows = 1, ncols = 1, sharex = True, figsize = (12, 12))\n",
    "\n",
    "kmf0= KaplanMeierFitter()\n",
    "ax = kmf0.fit(T[cl0], E[cl0], label=\"Cluster 0\").plot(ax=ax, figsize = (12, 12), ci_show = False, color = \"#66b3ff\")\n",
    "\n",
    "kmf1= KaplanMeierFitter()\n",
    "ax = kmf1.fit(T[cl1], E[cl1], label=\"Cluster 1\").plot(ax=ax, figsize = (12, 12), ci_show = False, color = \"#99ff99\")\n",
    "\n",
    "kmf2= KaplanMeierFitter()\n",
    "ax = kmf2.fit(T[cl2], E[cl2], label=\"Cluster 2\").plot(ax=ax, figsize = (12, 12), ci_show = False, color = \"#ffcc99\")\n",
    "fig.suptitle(\"BRCA DFI by Cluster\")\n",
    "plt.savefig(fname = \"BRCA_DFI_clusters.svg\", format = \"svg\")\n",
    "plt.tight_layout()"
   ]
  },
  {
   "cell_type": "code",
   "execution_count": 50,
   "metadata": {},
   "outputs": [
    {
     "data": {
      "text/html": [
       "<div>\n",
       "<style scoped>\n",
       "    .dataframe tbody tr th:only-of-type {\n",
       "        vertical-align: middle;\n",
       "    }\n",
       "\n",
       "    .dataframe tbody tr th {\n",
       "        vertical-align: top;\n",
       "    }\n",
       "\n",
       "    .dataframe thead th {\n",
       "        text-align: right;\n",
       "    }\n",
       "</style>\n",
       "<table border=\"1\" class=\"dataframe\">\n",
       "  <tbody>\n",
       "    <tr>\n",
       "      <th>t_0</th>\n",
       "      <td>-1</td>\n",
       "    </tr>\n",
       "    <tr>\n",
       "      <th>null_distribution</th>\n",
       "      <td>chi squared</td>\n",
       "    </tr>\n",
       "    <tr>\n",
       "      <th>degrees_of_freedom</th>\n",
       "      <td>1</td>\n",
       "    </tr>\n",
       "    <tr>\n",
       "      <th>alpha</th>\n",
       "      <td>0.95</td>\n",
       "    </tr>\n",
       "    <tr>\n",
       "      <th>test_name</th>\n",
       "      <td>logrank_test</td>\n",
       "    </tr>\n",
       "  </tbody>\n",
       "</table>\n",
       "</div><table border=\"1\" class=\"dataframe\">\n",
       "  <thead>\n",
       "    <tr style=\"text-align: right;\">\n",
       "      <th></th>\n",
       "      <th>test_statistic</th>\n",
       "      <th>p</th>\n",
       "      <th>-log2(p)</th>\n",
       "    </tr>\n",
       "  </thead>\n",
       "  <tbody>\n",
       "    <tr>\n",
       "      <th>0</th>\n",
       "      <td>2.91</td>\n",
       "      <td>0.09</td>\n",
       "      <td>3.50</td>\n",
       "    </tr>\n",
       "  </tbody>\n",
       "</table>"
      ],
      "text/latex": [
       "\\begin{tabular}{lrrr}\n",
       "\\toprule\n",
       "{} &  test\\_statistic &         p &  -log2(p) \\\\\n",
       "\\midrule\n",
       "0 &        2.905889 &  0.088257 &  3.502153 \\\\\n",
       "\\bottomrule\n",
       "\\end{tabular}\n"
      ],
      "text/plain": [
       "<lifelines.StatisticalResult: logrank_test>\n",
       "               t_0 = -1\n",
       " null_distribution = chi squared\n",
       "degrees_of_freedom = 1\n",
       "             alpha = 0.95\n",
       "         test_name = logrank_test\n",
       "\n",
       "---\n",
       " test_statistic    p  -log2(p)\n",
       "           2.91 0.09      3.50"
      ]
     },
     "metadata": {},
     "output_type": "display_data"
    }
   ],
   "source": [
    "# logrank test of cluster 1 vs cluster 2\n",
    "from lifelines.statistics import logrank_test\n",
    "\n",
    "results = logrank_test(T[cl1], T[cl2], E[cl1], E[cl2], alpha=.95)\n",
    "\n",
    "results.print_summary()"
   ]
  },
  {
   "cell_type": "code",
   "execution_count": 51,
   "metadata": {},
   "outputs": [
    {
     "data": {
      "text/html": [
       "<div>\n",
       "<style scoped>\n",
       "    .dataframe tbody tr th:only-of-type {\n",
       "        vertical-align: middle;\n",
       "    }\n",
       "\n",
       "    .dataframe tbody tr th {\n",
       "        vertical-align: top;\n",
       "    }\n",
       "\n",
       "    .dataframe thead th {\n",
       "        text-align: right;\n",
       "    }\n",
       "</style>\n",
       "<table border=\"1\" class=\"dataframe\">\n",
       "  <tbody>\n",
       "    <tr>\n",
       "      <th>t_0</th>\n",
       "      <td>-1</td>\n",
       "    </tr>\n",
       "    <tr>\n",
       "      <th>null_distribution</th>\n",
       "      <td>chi squared</td>\n",
       "    </tr>\n",
       "    <tr>\n",
       "      <th>degrees_of_freedom</th>\n",
       "      <td>1</td>\n",
       "    </tr>\n",
       "    <tr>\n",
       "      <th>alpha</th>\n",
       "      <td>0.95</td>\n",
       "    </tr>\n",
       "    <tr>\n",
       "      <th>test_name</th>\n",
       "      <td>logrank_test</td>\n",
       "    </tr>\n",
       "  </tbody>\n",
       "</table>\n",
       "</div><table border=\"1\" class=\"dataframe\">\n",
       "  <thead>\n",
       "    <tr style=\"text-align: right;\">\n",
       "      <th></th>\n",
       "      <th>test_statistic</th>\n",
       "      <th>p</th>\n",
       "      <th>-log2(p)</th>\n",
       "    </tr>\n",
       "  </thead>\n",
       "  <tbody>\n",
       "    <tr>\n",
       "      <th>0</th>\n",
       "      <td>0.25</td>\n",
       "      <td>0.62</td>\n",
       "      <td>0.70</td>\n",
       "    </tr>\n",
       "  </tbody>\n",
       "</table>"
      ],
      "text/latex": [
       "\\begin{tabular}{lrrr}\n",
       "\\toprule\n",
       "{} &  test\\_statistic &         p &  -log2(p) \\\\\n",
       "\\midrule\n",
       "0 &        0.249773 &  0.617235 &  0.696109 \\\\\n",
       "\\bottomrule\n",
       "\\end{tabular}\n"
      ],
      "text/plain": [
       "<lifelines.StatisticalResult: logrank_test>\n",
       "               t_0 = -1\n",
       " null_distribution = chi squared\n",
       "degrees_of_freedom = 1\n",
       "             alpha = 0.95\n",
       "         test_name = logrank_test\n",
       "\n",
       "---\n",
       " test_statistic    p  -log2(p)\n",
       "           0.25 0.62      0.70"
      ]
     },
     "metadata": {},
     "output_type": "display_data"
    }
   ],
   "source": [
    "# logrank test of cluster 0 vs cluster 1\n",
    "from lifelines.statistics import logrank_test\n",
    "\n",
    "results = logrank_test(T[cl0], T[cl1], E[cl0], E[cl1], alpha=.95)\n",
    "\n",
    "results.print_summary()"
   ]
  },
  {
   "cell_type": "code",
   "execution_count": 52,
   "metadata": {},
   "outputs": [
    {
     "data": {
      "text/html": [
       "<div>\n",
       "<style scoped>\n",
       "    .dataframe tbody tr th:only-of-type {\n",
       "        vertical-align: middle;\n",
       "    }\n",
       "\n",
       "    .dataframe tbody tr th {\n",
       "        vertical-align: top;\n",
       "    }\n",
       "\n",
       "    .dataframe thead th {\n",
       "        text-align: right;\n",
       "    }\n",
       "</style>\n",
       "<table border=\"1\" class=\"dataframe\">\n",
       "  <tbody>\n",
       "    <tr>\n",
       "      <th>t_0</th>\n",
       "      <td>-1</td>\n",
       "    </tr>\n",
       "    <tr>\n",
       "      <th>null_distribution</th>\n",
       "      <td>chi squared</td>\n",
       "    </tr>\n",
       "    <tr>\n",
       "      <th>degrees_of_freedom</th>\n",
       "      <td>1</td>\n",
       "    </tr>\n",
       "    <tr>\n",
       "      <th>alpha</th>\n",
       "      <td>0.95</td>\n",
       "    </tr>\n",
       "    <tr>\n",
       "      <th>test_name</th>\n",
       "      <td>logrank_test</td>\n",
       "    </tr>\n",
       "  </tbody>\n",
       "</table>\n",
       "</div><table border=\"1\" class=\"dataframe\">\n",
       "  <thead>\n",
       "    <tr style=\"text-align: right;\">\n",
       "      <th></th>\n",
       "      <th>test_statistic</th>\n",
       "      <th>p</th>\n",
       "      <th>-log2(p)</th>\n",
       "    </tr>\n",
       "  </thead>\n",
       "  <tbody>\n",
       "    <tr>\n",
       "      <th>0</th>\n",
       "      <td>1.05</td>\n",
       "      <td>0.31</td>\n",
       "      <td>1.71</td>\n",
       "    </tr>\n",
       "  </tbody>\n",
       "</table>"
      ],
      "text/latex": [
       "\\begin{tabular}{lrrr}\n",
       "\\toprule\n",
       "{} &  test\\_statistic &         p &  -log2(p) \\\\\n",
       "\\midrule\n",
       "0 &        1.049915 &  0.305527 &   1.71063 \\\\\n",
       "\\bottomrule\n",
       "\\end{tabular}\n"
      ],
      "text/plain": [
       "<lifelines.StatisticalResult: logrank_test>\n",
       "               t_0 = -1\n",
       " null_distribution = chi squared\n",
       "degrees_of_freedom = 1\n",
       "             alpha = 0.95\n",
       "         test_name = logrank_test\n",
       "\n",
       "---\n",
       " test_statistic    p  -log2(p)\n",
       "           1.05 0.31      1.71"
      ]
     },
     "metadata": {},
     "output_type": "display_data"
    }
   ],
   "source": [
    "# logrank test of cluster 0 vs cluster 2\n",
    "from lifelines.statistics import logrank_test\n",
    "\n",
    "results = logrank_test(T[cl0], T[cl2], E[cl0], E[cl2], alpha=.95)\n",
    "\n",
    "results.print_summary()"
   ]
  },
  {
   "cell_type": "code",
   "execution_count": null,
   "metadata": {},
   "outputs": [],
   "source": []
  },
  {
   "cell_type": "code",
   "execution_count": null,
   "metadata": {},
   "outputs": [],
   "source": []
  },
  {
   "cell_type": "code",
   "execution_count": null,
   "metadata": {},
   "outputs": [],
   "source": []
  },
  {
   "cell_type": "code",
   "execution_count": null,
   "metadata": {},
   "outputs": [],
   "source": []
  },
  {
   "cell_type": "code",
   "execution_count": null,
   "metadata": {},
   "outputs": [],
   "source": []
  },
  {
   "cell_type": "code",
   "execution_count": null,
   "metadata": {},
   "outputs": [],
   "source": []
  },
  {
   "cell_type": "code",
   "execution_count": null,
   "metadata": {},
   "outputs": [],
   "source": []
  },
  {
   "cell_type": "code",
   "execution_count": null,
   "metadata": {},
   "outputs": [],
   "source": []
  },
  {
   "cell_type": "code",
   "execution_count": null,
   "metadata": {},
   "outputs": [],
   "source": []
  },
  {
   "cell_type": "code",
   "execution_count": null,
   "metadata": {},
   "outputs": [],
   "source": []
  }
 ],
 "metadata": {
  "kernelspec": {
   "display_name": "Python 3",
   "language": "python",
   "name": "python3"
  },
  "language_info": {
   "codemirror_mode": {
    "name": "ipython",
    "version": 3
   },
   "file_extension": ".py",
   "mimetype": "text/x-python",
   "name": "python",
   "nbconvert_exporter": "python",
   "pygments_lexer": "ipython3",
   "version": "3.8.3"
  }
 },
 "nbformat": 4,
 "nbformat_minor": 4
}
