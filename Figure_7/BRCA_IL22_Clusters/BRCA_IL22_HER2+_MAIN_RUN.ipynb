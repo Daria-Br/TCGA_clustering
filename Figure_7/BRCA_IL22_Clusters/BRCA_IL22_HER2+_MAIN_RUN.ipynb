{
 "cells": [
  {
   "cell_type": "markdown",
   "metadata": {},
   "source": [
    "# BRCA Cluster Analysis\n",
    "\n",
    "In this Notebook, you will find our Cluster-Analysis of the HER2 positive Patients among the Breast Cancer (BRCA) Cohort from The Cancer Genome Atlas (TCGA).\n",
    "These analyses are featured in Figure 7 (Fig. 7) and supplementary Figure 1 (Fig. S1) of our manuscript. "
   ]
  },
  {
   "cell_type": "code",
   "execution_count": null,
   "metadata": {},
   "outputs": [],
   "source": [
    "# import the necessary libraries for the analysis\n",
    "\n",
    "import pandas as pd \n",
    "import numpy as np \n",
    "import matplotlib.pyplot as plt \n",
    "import seaborn as sns\n",
    "from sklearn.manifold import TSNE\n",
    "from sklearn.preprocessing import StandardScaler\n",
    "from sklearn.cluster import AgglomerativeClustering \n",
    "import scipy.cluster.hierarchy as shc \n",
    "import lifelines\n",
    "import openpyxl\n",
    "\n",
    "\n",
    "%matplotlib inline\n",
    "\n",
    "# import warnings filter\n",
    "from warnings import simplefilter\n",
    "# ignore all future warnings\n",
    "simplefilter(action='ignore', category=FutureWarning)"
   ]
  },
  {
   "cell_type": "markdown",
   "metadata": {},
   "source": [
    "The .tsv containing gene expression and phenotypic data was downloaded from [UCSC Xenabrowser](https://xenabrowser.net/)."
   ]
  },
  {
   "cell_type": "code",
   "execution_count": 2,
   "metadata": {},
   "outputs": [],
   "source": [
    "# read the file containing gene expression counts and phenotypic information\n",
    "\n",
    "df = pd.read_csv(\"BRCA_IL22.tsv\", sep= \"\\t\", index_col= 0)\n",
    "df"
   ]
  },
  {
   "cell_type": "markdown",
   "metadata": {},
   "source": [
    "Sample Filtering and Scaling\n",
    "\n",
    "In this following section of the Notebook we first filter for primary tumor samples, to make sure we do not include cell line samples etc. Next, we create a dataframe, containing only the gene expression counts for the genes we selected as features for our \"IL-22 Signature\":\n",
    "\n",
    "    IL22RA1\n",
    "    IL22RA2\n",
    "    IL10RB\n",
    "    PVR\n",
    "\n",
    "Looking at the density of the gene expression counts, we noticed that PVR and IL10RB have a generally higher gene expression count than IL22RA1 and IL22RA2. This is why we decided to scale the dataset with a z-Score (here StandardScaler).\n"
   ]
  },
  {
   "cell_type": "code",
   "execution_count": 4,
   "metadata": {},
   "outputs": [],
   "source": [
    "# filtering out non primary tumor samples (e.g. Cellines, healthy tissue, metastases)\n",
    "df_clean = df.loc[df[\"sample_type\"]== \"Primary Tumor\"] \n",
    "\n",
    "# filtering for HER2 positive samples\n",
    "df_her2 =df_clean.loc[df_clean[\"HER2_Final_Status_nature2012\"]==\"Positive\"].copy()\n",
    "\n",
    "#create a dataframe with only the gene expression data for further processing\n",
    "X = df_her2.loc[:, df_her2.dtypes==np.float64].copy() "
   ]
  },
  {
   "cell_type": "code",
   "execution_count": 9,
   "metadata": {},
   "outputs": [
    {
     "data": {
      "image/png": "[encoded data removed]",
      "text/plain": [
       "<Figure size 432x288 with 1 Axes>"
      ]
     },
     "metadata": {
      "needs_background": "light"
     },
     "output_type": "display_data"
    }
   ],
   "source": [
    "#plotting the densities of the log2+1 gene expression counts\n",
    "\n",
    "fig = sns.kdeplot(X[\"IL22RA1\"], color=\"r\")\n",
    "fig = sns.kdeplot(X[\"IL22RA2\"], color=\"g\")\n",
    "fig = sns.kdeplot(X[\"IL10RB\"], color=\"b\")\n",
    "fig = sns.kdeplot(X[\"PVR\"], color=\"y\")\n",
    "plt.show()"
   ]
  },
  {
   "cell_type": "code",
   "execution_count": 10,
   "metadata": {},
   "outputs": [
    {
     "data": {
      "text/html": [
       "<div>\n",
       "<style scoped>\n",
       "    .dataframe tbody tr th:only-of-type {\n",
       "        vertical-align: middle;\n",
       "    }\n",
       "\n",
       "    .dataframe tbody tr th {\n",
       "        vertical-align: top;\n",
       "    }\n",
       "\n",
       "    .dataframe thead th {\n",
       "        text-align: right;\n",
       "    }\n",
       "</style>\n",
       "<table border=\"1\" class=\"dataframe\">\n",
       "  <thead>\n",
       "    <tr style=\"text-align: right;\">\n",
       "      <th></th>\n",
       "      <th>IL22RA1</th>\n",
       "      <th>IL22RA2</th>\n",
       "      <th>IL10RB</th>\n",
       "      <th>PVR</th>\n",
       "    </tr>\n",
       "  </thead>\n",
       "  <tbody>\n",
       "    <tr>\n",
       "      <th>count</th>\n",
       "      <td>1.100000e+02</td>\n",
       "      <td>1.100000e+02</td>\n",
       "      <td>1.100000e+02</td>\n",
       "      <td>1.100000e+02</td>\n",
       "    </tr>\n",
       "    <tr>\n",
       "      <th>mean</th>\n",
       "      <td>5.046468e-16</td>\n",
       "      <td>3.229740e-17</td>\n",
       "      <td>-3.157071e-15</td>\n",
       "      <td>2.926952e-16</td>\n",
       "    </tr>\n",
       "    <tr>\n",
       "      <th>std</th>\n",
       "      <td>1.004577e+00</td>\n",
       "      <td>1.004577e+00</td>\n",
       "      <td>1.004577e+00</td>\n",
       "      <td>1.004577e+00</td>\n",
       "    </tr>\n",
       "    <tr>\n",
       "      <th>min</th>\n",
       "      <td>-1.962366e+00</td>\n",
       "      <td>-1.245338e+00</td>\n",
       "      <td>-3.264063e+00</td>\n",
       "      <td>-2.740162e+00</td>\n",
       "    </tr>\n",
       "    <tr>\n",
       "      <th>25%</th>\n",
       "      <td>-6.919686e-01</td>\n",
       "      <td>-8.382486e-01</td>\n",
       "      <td>-7.054421e-01</td>\n",
       "      <td>-5.880092e-01</td>\n",
       "    </tr>\n",
       "    <tr>\n",
       "      <th>50%</th>\n",
       "      <td>-1.208754e-01</td>\n",
       "      <td>-1.224447e-01</td>\n",
       "      <td>-3.564290e-02</td>\n",
       "      <td>7.018932e-02</td>\n",
       "    </tr>\n",
       "    <tr>\n",
       "      <th>75%</th>\n",
       "      <td>8.129459e-01</td>\n",
       "      <td>7.082091e-01</td>\n",
       "      <td>7.714622e-01</td>\n",
       "      <td>6.880008e-01</td>\n",
       "    </tr>\n",
       "    <tr>\n",
       "      <th>max</th>\n",
       "      <td>2.508564e+00</td>\n",
       "      <td>2.627885e+00</td>\n",
       "      <td>2.313558e+00</td>\n",
       "      <td>2.350780e+00</td>\n",
       "    </tr>\n",
       "  </tbody>\n",
       "</table>\n",
       "</div>"
      ],
      "text/plain": [
       "            IL22RA1       IL22RA2        IL10RB           PVR\n",
       "count  1.100000e+02  1.100000e+02  1.100000e+02  1.100000e+02\n",
       "mean   5.046468e-16  3.229740e-17 -3.157071e-15  2.926952e-16\n",
       "std    1.004577e+00  1.004577e+00  1.004577e+00  1.004577e+00\n",
       "min   -1.962366e+00 -1.245338e+00 -3.264063e+00 -2.740162e+00\n",
       "25%   -6.919686e-01 -8.382486e-01 -7.054421e-01 -5.880092e-01\n",
       "50%   -1.208754e-01 -1.224447e-01 -3.564290e-02  7.018932e-02\n",
       "75%    8.129459e-01  7.082091e-01  7.714622e-01  6.880008e-01\n",
       "max    2.508564e+00  2.627885e+00  2.313558e+00  2.350780e+00"
      ]
     },
     "execution_count": 10,
     "metadata": {},
     "output_type": "execute_result"
    }
   ],
   "source": [
    "# Scaling the gene expression data \n",
    "\n",
    "scaler = StandardScaler() \n",
    "X_scaled = scaler.fit_transform(X)\n",
    "\n",
    "X_scaled =  pd.DataFrame(X_scaled, index = X.index, columns = X.columns)\n",
    "\n",
    "#density plots of the scaled dataset\n",
    "fig = sns.kdeplot(X_scaled[\"IL22RA1\"], color=\"r\")\n",
    "fig = sns.kdeplot(X_scaled[\"IL22RA2\"], color=\"g\")\n",
    "fig = sns.kdeplot(X_scaled[\"IL10RB\"], color=\"b\")\n",
    "fig = sns.kdeplot(X_scaled[\"PVR\"], color=\"y\")\n",
    "plt.show()"
   ]
  },
  {
   "cell_type": "markdown",
   "metadata": {},
   "source": [
    "## Dimensionality Reduction and Clustering\n",
    "\n",
    "We chose t-distributed nearest neighbour embedding (t-SNE) as our method of dimensionality reduction. \n",
    "\n",
    "Following this, we used an agglomerative clustering algorithm to visualize the clustering of the cohort. By examining the dendrogram, we chose to fit three clusters to the dataset (Fig. 7A). A two dimensional visualisation of the dimensionality reduced data with the fit clusters can be seen in the dotplot (Fig. 7B).\n",
    "We used the [agglomerative clustering](https://scikit-learn.org/stable/modules/generated/sklearn.cluster.AgglomerativeClustering.html) method of [sklearn](https://scikit-learn.org/stable/index.html) and the [hierarchical clustering](https://docs.scipy.org/doc/scipy/reference/cluster.hierarchy.html) from [scipy](https://scipy.org/)."
   ]
  },
  {
   "cell_type": "code",
   "execution_count": 168,
   "metadata": {},
   "outputs": [],
   "source": [
    "#TSNE dimensionality reduction\n",
    "\n",
    "tsne = TSNE(n_components=2, perplexity = 20)\n",
    "tsne_results = tsne.fit_transform(X_scaled).copy()\n",
    "\n",
    "df_TSNE = pd.DataFrame(tsne_results)\n",
    "df_TSNE.columns = ['D1', 'D2'] \n"
   ]
  },
  {
   "cell_type": "code",
   "execution_count": 190,
   "metadata": {},
   "outputs": [
    {
     "data": {
      "image/png": "[encoded data removed]",
      "text/plain": [
       "<Figure size 864x720 with 1 Axes>"
      ]
     },
     "metadata": {
      "needs_background": "light"
     },
     "output_type": "display_data"
    }
   ],
   "source": [
    "#dendrogram visulization of linkage of tsne reduced data\n",
    "\n",
    "plt.figure(figsize =(12, 10)) \n",
    "plt.title('Patient Clusters') \n",
    "\n",
    "Dendrogram = shc.dendrogram((shc.linkage(df_TSNE, method ='ward')))\n",
    "plt.savefig(fname = \"BRCA_HER2+_Main_Dendrogram_plt.svg\", format = \"svg\")"
   ]
  },
  {
   "cell_type": "code",
   "execution_count": 191,
   "metadata": {},
   "outputs": [
    {
     "data": {
      "image/png": "[encoded data removed]",
      "text/plain": [
       "<Figure size 432x432 with 1 Axes>"
      ]
     },
     "metadata": {
      "needs_background": "light"
     },
     "output_type": "display_data"
    }
   ],
   "source": [
    "# Visualizing the clustering of tsne reduced data, n clusters was determined after examination of the dendrogram\n",
    "ac = AgglomerativeClustering(n_clusters = 3) \n",
    "fig = plt.figure(figsize = (6,6))\n",
    "plt.scatter(df_TSNE[\"D1\"], df_TSNE[\"D2\"], \n",
    "           c = ac.fit_predict(df_TSNE), cmap ='Paired', alpha = 0.7)\n",
    "plt.savefig(fname = \"BRCA_HER2+_Main_TSNE_2D_plt.svg\", format = \"svg\")"
   ]
  },
  {
   "cell_type": "markdown",
   "metadata": {},
   "source": [
    "## General Properties of the Clusters\n",
    "\n",
    "By joining the cluster labels with the scaled high dimensional gene expression data, we were able to evaluate, whether the clustering resulted in distinct gene expression patterns. We plotted a heatmap, displaying the mean count of each gene per cluster (Fig. C). We then proceeded to analyze the proportion of each cluster within the LUAD cohort, which is visualized in the pie chart below (Fig. 7D)."
   ]
  },
  {
   "cell_type": "code",
   "execution_count": 192,
   "metadata": {},
   "outputs": [],
   "source": [
    "# Reassigning the patient codes to the TSNE transformed data, \n",
    "# fitting the cluster algorithm to the indexed data, and joining the predicted clusters with the scaled gene expression dataset\n",
    "\n",
    "df_TSNE_ind = df_TSNE.set_index(X.index)\n",
    "df_TSNE_ind[\"Cluster\"] = ac.fit_predict(df_TSNE_ind)\n",
    "df_clusters_tsne = X_scaled.join(df_TSNE_ind[\"Cluster\"])\n",
    "\n",
    "#Plotting the mean expression of each gene per cluster\n",
    "cluster_means_tsne = df_clusters_tsne.groupby(\"Cluster\").mean()\n",
    "sns.heatmap(cluster_means_tsne, cmap= \"coolwarm\")\n",
    "plt.savefig(fname = \"BRCA_HER2+_Main_Cluster_Means.svg\", format = \"svg\")\n"
   ]
  },
  {
   "cell_type": "code",
   "execution_count": 194,
   "metadata": {},
   "outputs": [
    {
     "data": {
      "text/html": [
       "<div>\n",
       "<style scoped>\n",
       "    .dataframe tbody tr th:only-of-type {\n",
       "        vertical-align: middle;\n",
       "    }\n",
       "\n",
       "    .dataframe tbody tr th {\n",
       "        vertical-align: top;\n",
       "    }\n",
       "\n",
       "    .dataframe thead th {\n",
       "        text-align: right;\n",
       "    }\n",
       "</style>\n",
       "<table border=\"1\" class=\"dataframe\">\n",
       "  <thead>\n",
       "    <tr style=\"text-align: right;\">\n",
       "      <th></th>\n",
       "      <th>IL22RA1</th>\n",
       "      <th>IL22RA2</th>\n",
       "      <th>IL10RB</th>\n",
       "      <th>PVR</th>\n",
       "    </tr>\n",
       "    <tr>\n",
       "      <th>sample</th>\n",
       "      <th></th>\n",
       "      <th></th>\n",
       "      <th></th>\n",
       "      <th></th>\n",
       "    </tr>\n",
       "  </thead>\n",
       "  <tbody>\n",
       "    <tr>\n",
       "      <th>TCGA-BH-A0C7-01</th>\n",
       "      <td>2.508564</td>\n",
       "      <td>-0.089387</td>\n",
       "      <td>-0.654097</td>\n",
       "      <td>0.061457</td>\n",
       "    </tr>\n",
       "    <tr>\n",
       "      <th>TCGA-C8-A138-01</th>\n",
       "      <td>2.307502</td>\n",
       "      <td>-0.053077</td>\n",
       "      <td>0.984344</td>\n",
       "      <td>-0.226710</td>\n",
       "    </tr>\n",
       "    <tr>\n",
       "      <th>TCGA-E2-A14Y-01</th>\n",
       "      <td>1.906055</td>\n",
       "      <td>1.034591</td>\n",
       "      <td>-0.377177</td>\n",
       "      <td>1.410600</td>\n",
       "    </tr>\n",
       "    <tr>\n",
       "      <th>TCGA-BH-A0EE-01</th>\n",
       "      <td>1.640462</td>\n",
       "      <td>1.667573</td>\n",
       "      <td>1.782795</td>\n",
       "      <td>-1.508905</td>\n",
       "    </tr>\n",
       "    <tr>\n",
       "      <th>TCGA-A8-A08G-01</th>\n",
       "      <td>1.512081</td>\n",
       "      <td>-0.755752</td>\n",
       "      <td>0.333583</td>\n",
       "      <td>0.026528</td>\n",
       "    </tr>\n",
       "    <tr>\n",
       "      <th>...</th>\n",
       "      <td>...</td>\n",
       "      <td>...</td>\n",
       "      <td>...</td>\n",
       "      <td>...</td>\n",
       "    </tr>\n",
       "    <tr>\n",
       "      <th>TCGA-AQ-A04L-01</th>\n",
       "      <td>-1.623277</td>\n",
       "      <td>1.619883</td>\n",
       "      <td>-0.051797</td>\n",
       "      <td>-0.440651</td>\n",
       "    </tr>\n",
       "    <tr>\n",
       "      <th>TCGA-A8-A09G-01</th>\n",
       "      <td>-1.700645</td>\n",
       "      <td>0.255285</td>\n",
       "      <td>-1.904850</td>\n",
       "      <td>-1.980450</td>\n",
       "    </tr>\n",
       "    <tr>\n",
       "      <th>TCGA-BH-A1F2-01</th>\n",
       "      <td>-1.962366</td>\n",
       "      <td>0.009246</td>\n",
       "      <td>-0.040258</td>\n",
       "      <td>-2.513122</td>\n",
       "    </tr>\n",
       "    <tr>\n",
       "      <th>TCGA-A8-A07P-01</th>\n",
       "      <td>-1.962366</td>\n",
       "      <td>-1.013335</td>\n",
       "      <td>-0.485637</td>\n",
       "      <td>-0.718630</td>\n",
       "    </tr>\n",
       "    <tr>\n",
       "      <th>TCGA-A8-A07B-01</th>\n",
       "      <td>-1.962366</td>\n",
       "      <td>-1.245338</td>\n",
       "      <td>-3.264063</td>\n",
       "      <td>0.949243</td>\n",
       "    </tr>\n",
       "  </tbody>\n",
       "</table>\n",
       "<p>110 rows × 4 columns</p>\n",
       "</div>"
      ],
      "text/plain": [
       "                  IL22RA1   IL22RA2    IL10RB       PVR\n",
       "sample                                                 \n",
       "TCGA-BH-A0C7-01  2.508564 -0.089387 -0.654097  0.061457\n",
       "TCGA-C8-A138-01  2.307502 -0.053077  0.984344 -0.226710\n",
       "TCGA-E2-A14Y-01  1.906055  1.034591 -0.377177  1.410600\n",
       "TCGA-BH-A0EE-01  1.640462  1.667573  1.782795 -1.508905\n",
       "TCGA-A8-A08G-01  1.512081 -0.755752  0.333583  0.026528\n",
       "...                   ...       ...       ...       ...\n",
       "TCGA-AQ-A04L-01 -1.623277  1.619883 -0.051797 -0.440651\n",
       "TCGA-A8-A09G-01 -1.700645  0.255285 -1.904850 -1.980450\n",
       "TCGA-BH-A1F2-01 -1.962366  0.009246 -0.040258 -2.513122\n",
       "TCGA-A8-A07P-01 -1.962366 -1.013335 -0.485637 -0.718630\n",
       "TCGA-A8-A07B-01 -1.962366 -1.245338 -3.264063  0.949243\n",
       "\n",
       "[110 rows x 4 columns]"
      ]
     },
     "execution_count": 194,
     "metadata": {},
     "output_type": "execute_result"
    }
   ],
   "source": [
    "df_clusters_tsne_d = df_clusters_tsne.drop(\"Cluster\", axis = 1).copy()\n",
    "df_clusters_tsne_d"
   ]
  },
  {
   "cell_type": "code",
   "execution_count": 199,
   "metadata": {},
   "outputs": [
    {
     "data": {
      "text/plain": [
       "Infiltrating Ductal Carcinoma       601\n",
       "Infiltrating Lobular Carcinoma       68\n",
       "Other, specify                       33\n",
       "Mixed Histology (please specify)     21\n",
       "Mucinous Carcinoma                    5\n",
       "Medullary Carcinoma                   3\n",
       "Name: histological_type, dtype: int64"
      ]
     },
     "execution_count": 199,
     "metadata": {},
     "output_type": "execute_result"
    }
   ],
   "source": []
  },
  {
   "cell_type": "code",
   "execution_count": 201,
   "metadata": {},
   "outputs": [
    {
     "data": {
      "image/png": "[encoded data removed]",
      "text/plain": [
       "<Figure size 432x288 with 1 Axes>"
      ]
     },
     "metadata": {},
     "output_type": "display_data"
    }
   ],
   "source": [
    "#Proportions of the clusters within the cohort\n",
    "data = df_clusters_tsne[\"Cluster\"].value_counts(normalize = True)*100\n",
    "labels = data.index\n",
    "explode = (0.01, 0.01, 0.01)\n",
    "colors = [\"#66b3ff\", \"#99ff99\", \"#ffcc99\"]\n",
    "\n",
    "fig1, ax1 = plt.subplots()\n",
    "ax1.pie(data, labels = labels, explode = explode, colors = colors, pctdistance = 0.83, autopct=\"%1.1f%%\")\n",
    "\n",
    "centre_circle = plt.Circle((0,0), 0.7, fc =\"white\")\n",
    "fig = plt.gcf()\n",
    "fig.gca().add_artist(centre_circle)\n",
    "\n",
    "ax1.axis(\"equal\")\n",
    "plt.tight_layout()\n",
    "plt.savefig(fname = \"BRCA_HER2+_Main_cluster_props.svg\", format = \"svg\")\n",
    "plt.show()\n"
   ]
  },
  {
   "cell_type": "code",
   "execution_count": 202,
   "metadata": {},
   "outputs": [],
   "source": [
    "# create a dataframe containing genetic, phenotypic and cluster information for further analyses\n",
    "\n",
    "df_pc = df_clean.join(df_clusters_tsne [\"Cluster\"])\n",
    "df_pc = df_pc.dropna()\n",
    "df_pc"
   ]
  },
  {
   "cell_type": "markdown",
   "metadata": {},
   "source": [
    "## Survival Analysis\n",
    "\n",
    "We used the Kaplan Meier model to asess whether the gene expression patterns correlate with different survival outcomes of LUAD patients. The overview plot was used for Fig. 7E. We used the [Lifelines Library](https://lifelines.readthedocs.io/en/latest/) for our survival analysis."
   ]
  },
  {
   "cell_type": "code",
   "execution_count": 239,
   "metadata": {},
   "outputs": [],
   "source": [
    "from lifelines import KaplanMeierFitter\n",
    "T = df_pc[\"OS_Time_nature2012\"]\n",
    "E = df_pc[\"OS_event_nature2012\"]\n",
    "kmf = KaplanMeierFitter()\n",
    "clusters = df_pc[\"Cluster\"]\n",
    "cl0 = (clusters == 0)\n",
    "cl1 = (clusters == 1) \n",
    "cl2 = (clusters == 2)\n",
    "\n",
    "#plotting kaplan meier plots for each cluster seperately for enhanced visibility\n",
    "\n",
    "fig, (ax0, ax1, ax2) = plt.subplots(nrows = 1, ncols = 3, sharex = True, figsize = (20,20))\n",
    "\n",
    "kmf= KaplanMeierFitter()\n",
    "ax0 = kmf.fit(T[cl0], E[cl0], label=\"Cluster 0\").plot(ax=ax0, figsize = (18, 6), at_risk_counts = True, color = \"#66b3ff\")\n",
    "ax1 = kmf.fit(T[cl1], E[cl1], label=\"Cluster 1\").plot(ax=ax1, figsize = (18, 6), at_risk_counts = True, color = \"#99ff99\")\n",
    "ax2 = kmf.fit(T[cl2], E[cl2], label=\"Cluster 2\").plot(ax=ax2, figsize = (18, 6), at_risk_counts = True, color = \"#ffcc99\")\n",
    "\n",
    "plt.savefig(fname = \"BRCA_Main_SurvivalbyCluster.svg\", format = \"svg\")\n",
    "plt.tight_layout()"
   ]
  },
  {
   "cell_type": "code",
   "execution_count": 241,
   "metadata": {},
   "outputs": [
    {
     "data": {
      "image/png": "[encoded data removed]",
      "text/plain": [
       "<Figure size 864x864 with 2 Axes>"
      ]
     },
     "metadata": {
      "needs_background": "light"
     },
     "output_type": "display_data"
    }
   ],
   "source": [
    "#plotting summary of all kaplan meier plots without confidence intervals to avoid overcrowding of the plot\n",
    "\n",
    "fig, (ax) = plt.subplots(nrows = 1, ncols = 1, sharex = True, figsize = (12, 12))\n",
    "\n",
    "kmf0= KaplanMeierFitter()\n",
    "ax = kmf0.fit(T[cl0], E[cl0], label=\"Cluster 0\").plot(ax=ax, figsize = (12, 12), ci_show = False, color = \"#66b3ff\")\n",
    "\n",
    "kmf1= KaplanMeierFitter()\n",
    "ax = kmf1.fit(T[cl1], E[cl1], label=\"Cluster 1\").plot(ax=ax, figsize = (12, 12), ci_show = False, color = \"#99ff99\")\n",
    "\n",
    "kmf2= KaplanMeierFitter()\n",
    "ax = kmf2.fit(T[cl2], E[cl2], label=\"Cluster 2\").plot(ax=ax, figsize = (12, 12), ci_show = False, color = \"#ffcc99\")\n",
    "\n",
    "\n",
    "from lifelines.plotting import add_at_risk_counts\n",
    "add_at_risk_counts(kmf0, kmf1, kmf2, ax=ax)\n",
    "\n",
    "fig.suptitle(\"Survival by Cluster\")\n",
    "plt.savefig(fname = \"BRCA_HER2+_Main_SurvivalbyCluster_summary.svg\", format = \"svg\")\n",
    "plt.tight_layout()\n",
    "\n",
    "\n"
   ]
  },
  {
   "cell_type": "code",
   "execution_count": 242,
   "metadata": {},
   "outputs": [
    {
     "data": {
      "image/png": "[encoded data removed]",
      "text/plain": [
       "<Figure size 864x864 with 2 Axes>"
      ]
     },
     "metadata": {
      "needs_background": "light"
     },
     "output_type": "display_data"
    }
   ],
   "source": [
    "#plotting cluster 0 and 1 survival times w/o confidence intervals for visibility\n",
    "\n",
    "fig, (ax) = plt.subplots(nrows = 1, ncols = 1, sharex = True, figsize = (12, 12))\n",
    "\n",
    "kmf0= KaplanMeierFitter()\n",
    "ax = kmf0.fit(T[cl0], E[cl0], label=\"Cluster 0\").plot(ax=ax, figsize = (12, 12), ci_show = False, color = \"#66b3ff\")\n",
    "\n",
    "kmf1= KaplanMeierFitter()\n",
    "ax = kmf1.fit(T[cl1], E[cl1], label=\"Cluster 1\").plot(ax=ax, figsize = (12, 12), ci_show = False, color = \"#99ff99\")\n",
    "\n",
    "from lifelines.plotting import add_at_risk_counts\n",
    "add_at_risk_counts(kmf0, kmf1, kmf2, ax=ax)\n",
    "\n",
    "fig.suptitle(\"Survival by Cluster\")\n",
    "plt.savefig(fname = \"BRCA_HER2+_Main_SurvivalbyCluster_1_2_summary.svg\", format = \"svg\")\n",
    "plt.tight_layout()\n",
    "\n"
   ]
  },
  {
   "cell_type": "markdown",
   "metadata": {},
   "source": [
    "### RMST\n",
    "\n",
    "We used the restricted mean survival time ([RMST](https://lifelines.readthedocs.io/en/latest/Examples.html)) to assess the survival differences (delta RMST) between the clusters. A selection of this analysis can be found in Fig. 7F. we decided to set the time limit to five years.  \"RMST is the average time free from an event up until a milestone time point, \n",
    "a numeric expression of the area under the Kaplan-Meier survival curve [...]. The comparison of RMSTs between treatment groups, \n",
    "the RMST difference (ΔRMST), is the mean absolute difference of event-free time associated with a therapy.\" [(Perego et. al. 2020)](https://doi.org/10.1016/j.jchf.2020.07.005), or in this case the gene expression cluster."
   ]
  },
  {
   "cell_type": "code",
   "execution_count": 243,
   "metadata": {},
   "outputs": [],
   "source": [
    "#Calculating the RMST (Restricted mean survival time)\n",
    "\n",
    "from lifelines.utils import restricted_mean_survival_time\n",
    "time_limit = 1825 #5 years\n",
    "\n",
    "kmf_0 = kmf0.fit(T[cl0], E[cl0], label=\"Cluster 0\")\n",
    "rmst_0 = restricted_mean_survival_time(kmf_0, t=time_limit)\n",
    "\n",
    "kmf_1 = kmf1.fit(T[cl1], E[cl1], label=\"Cluster 1\")\n",
    "rmst_1 = restricted_mean_survival_time(kmf_1, t=time_limit)\n",
    "\n",
    "kmf_2 = kmf2.fit(T[cl2], E[cl2], label=\"Cluster 2\")\n",
    "rmst_2 = restricted_mean_survival_time(kmf_2, t=time_limit)\n",
    "\n",
    "\n",
    "\n"
   ]
  },
  {
   "cell_type": "code",
   "execution_count": 244,
   "metadata": {},
   "outputs": [
    {
     "data": {
      "image/png": "[encoded data removed]",
      "text/plain": [
       "<Figure size 720x720 with 3 Axes>"
      ]
     },
     "metadata": {
      "needs_background": "light"
     },
     "output_type": "display_data"
    }
   ],
   "source": [
    "#Plotting RMSTs of Cluster 1 vs. Cluster 2 \n",
    "\n",
    "from lifelines.plotting import rmst_plot\n",
    "\n",
    "ax = plt.subplot(311)\n",
    "rmst_plot(kmf_0, t=time_limit, ax=ax, figsize = (10,10))\n",
    "\n",
    "\n",
    "ax = plt.subplot(312)\n",
    "rmst_plot(kmf_1, t=time_limit, ax=ax, figsize = (10,10))\n",
    "\n",
    "\n",
    "ax = plt.subplot(313)\n",
    "rmst_plot(kmf_0, model2=kmf_1, t=time_limit, ax=ax, figsize = (10,10))\n",
    "\n",
    "\n",
    "\n",
    "plt.tight_layout()\n",
    "plt.savefig(fname = \"BRCA_HER2+_Main_Cl1vs2_RMST.svg\", format = \"svg\")\n"
   ]
  },
  {
   "cell_type": "code",
   "execution_count": null,
   "metadata": {},
   "outputs": [],
   "source": [
    "#Plotting the delta of RMSTs of Cluster 0 vs. Cluster 2\n",
    "\n",
    "from lifelines.plotting import rmst_plot\n",
    "\n",
    "ax = plt.subplot(311)\n",
    "rmst_plot(kmf_0, t=time_limit, ax=ax, figsize = (10,10))\n",
    "\n",
    "\n",
    "ax = plt.subplot(312)\n",
    "rmst_plot(kmf_2, t=time_limit, ax=ax, figsize = (10,10))\n",
    "\n",
    "\n",
    "ax = plt.subplot(313)\n",
    "rmst_plot(kmf_0, model2=kmf_2, t=time_limit, ax=ax, figsize = (10,10))\n",
    "\n",
    "plt.savefig(fname = \"BRCA_HER2+_Main_Cl0vs2_RMST.svg\", format = \"svg\")\n",
    "\n",
    "plt.tight_layout()\n"
   ]
  },
  {
   "cell_type": "code",
   "execution_count": null,
   "metadata": {},
   "outputs": [],
   "source": [
    "#Plotting the delta of RMSTs of Cluster 0  vs. Cluster 1 \n",
    "\n",
    "from lifelines.plotting import rmst_plot\n",
    "\n",
    "ax = plt.subplot(311)\n",
    "rmst_plot(kmf_0, t=time_limit, ax=ax, figsize = (10,10))\n",
    "\n",
    "\n",
    "ax = plt.subplot(312)\n",
    "rmst_plot(kmf_1, t=time_limit, ax=ax, figsize = (10,10))\n",
    "\n",
    "\n",
    "ax = plt.subplot(313)\n",
    "rmst_plot(kmf_0, model2=kmf_1, t=time_limit, ax=ax, figsize = (10,10))\n",
    "\n",
    "plt.savefig(fname = \"BRCA_HER2+_Main_Cl0vs1_RMST.svg\", format = \"svg\")\n",
    "\n",
    "plt.tight_layout()\n"
   ]
  },
  {
   "cell_type": "markdown",
   "metadata": {},
   "source": [
    "## Statistical Testing of the Survival Curves\n",
    "\n",
    "We chose the [log rank test](https://lifelines.readthedocs.io/en/latest/Examples.html) to test whether the survival curves differ significantly from one another. Here, the p-values for Fig. 7E were calculated."
   ]
  },
  {
   "cell_type": "code",
   "execution_count": 245,
   "metadata": {},
   "outputs": [
    {
     "data": {
      "text/html": [
       "<div>\n",
       "<style scoped>\n",
       "    .dataframe tbody tr th:only-of-type {\n",
       "        vertical-align: middle;\n",
       "    }\n",
       "\n",
       "    .dataframe tbody tr th {\n",
       "        vertical-align: top;\n",
       "    }\n",
       "\n",
       "    .dataframe thead th {\n",
       "        text-align: right;\n",
       "    }\n",
       "</style>\n",
       "<table border=\"1\" class=\"dataframe\">\n",
       "  <tbody>\n",
       "    <tr>\n",
       "      <th>t_0</th>\n",
       "      <td>-1</td>\n",
       "    </tr>\n",
       "    <tr>\n",
       "      <th>null_distribution</th>\n",
       "      <td>chi squared</td>\n",
       "    </tr>\n",
       "    <tr>\n",
       "      <th>degrees_of_freedom</th>\n",
       "      <td>1</td>\n",
       "    </tr>\n",
       "    <tr>\n",
       "      <th>alpha</th>\n",
       "      <td>0.95</td>\n",
       "    </tr>\n",
       "    <tr>\n",
       "      <th>test_name</th>\n",
       "      <td>logrank_test</td>\n",
       "    </tr>\n",
       "  </tbody>\n",
       "</table>\n",
       "</div><table border=\"1\" class=\"dataframe\">\n",
       "  <thead>\n",
       "    <tr style=\"text-align: right;\">\n",
       "      <th></th>\n",
       "      <th>test_statistic</th>\n",
       "      <th>p</th>\n",
       "      <th>-log2(p)</th>\n",
       "    </tr>\n",
       "  </thead>\n",
       "  <tbody>\n",
       "    <tr>\n",
       "      <th>0</th>\n",
       "      <td>0.05</td>\n",
       "      <td>0.83</td>\n",
       "      <td>0.27</td>\n",
       "    </tr>\n",
       "  </tbody>\n",
       "</table>"
      ],
      "text/latex": [
       "\\begin{tabular}{lrrr}\n",
       "\\toprule\n",
       "{} &  test\\_statistic &         p &  -log2(p) \\\\\n",
       "\\midrule\n",
       "0 &        0.046016 &  0.830146 &  0.268563 \\\\\n",
       "\\bottomrule\n",
       "\\end{tabular}\n"
      ],
      "text/plain": [
       "<lifelines.StatisticalResult: logrank_test>\n",
       "               t_0 = -1\n",
       " null_distribution = chi squared\n",
       "degrees_of_freedom = 1\n",
       "             alpha = 0.95\n",
       "         test_name = logrank_test\n",
       "\n",
       "---\n",
       " test_statistic    p  -log2(p)\n",
       "           0.05 0.83      0.27"
      ]
     },
     "metadata": {},
     "output_type": "display_data"
    }
   ],
   "source": [
    "# logrank test of cluster 1 vs cluster 2\n",
    "from lifelines.statistics import logrank_test\n",
    "\n",
    "results = logrank_test(T[cl1], T[cl2], E[cl1], E[cl2], alpha=.95)\n",
    "\n",
    "results.print_summary()"
   ]
  },
  {
   "cell_type": "code",
   "execution_count": 246,
   "metadata": {},
   "outputs": [
    {
     "data": {
      "text/html": [
       "<div>\n",
       "<style scoped>\n",
       "    .dataframe tbody tr th:only-of-type {\n",
       "        vertical-align: middle;\n",
       "    }\n",
       "\n",
       "    .dataframe tbody tr th {\n",
       "        vertical-align: top;\n",
       "    }\n",
       "\n",
       "    .dataframe thead th {\n",
       "        text-align: right;\n",
       "    }\n",
       "</style>\n",
       "<table border=\"1\" class=\"dataframe\">\n",
       "  <tbody>\n",
       "    <tr>\n",
       "      <th>t_0</th>\n",
       "      <td>-1</td>\n",
       "    </tr>\n",
       "    <tr>\n",
       "      <th>null_distribution</th>\n",
       "      <td>chi squared</td>\n",
       "    </tr>\n",
       "    <tr>\n",
       "      <th>degrees_of_freedom</th>\n",
       "      <td>1</td>\n",
       "    </tr>\n",
       "    <tr>\n",
       "      <th>alpha</th>\n",
       "      <td>0.95</td>\n",
       "    </tr>\n",
       "    <tr>\n",
       "      <th>test_name</th>\n",
       "      <td>logrank_test</td>\n",
       "    </tr>\n",
       "  </tbody>\n",
       "</table>\n",
       "</div><table border=\"1\" class=\"dataframe\">\n",
       "  <thead>\n",
       "    <tr style=\"text-align: right;\">\n",
       "      <th></th>\n",
       "      <th>test_statistic</th>\n",
       "      <th>p</th>\n",
       "      <th>-log2(p)</th>\n",
       "    </tr>\n",
       "  </thead>\n",
       "  <tbody>\n",
       "    <tr>\n",
       "      <th>0</th>\n",
       "      <td>0.08</td>\n",
       "      <td>0.78</td>\n",
       "      <td>0.36</td>\n",
       "    </tr>\n",
       "  </tbody>\n",
       "</table>"
      ],
      "text/latex": [
       "\\begin{tabular}{lrrr}\n",
       "\\toprule\n",
       "{} &  test\\_statistic &         p &  -log2(p) \\\\\n",
       "\\midrule\n",
       "0 &        0.079862 &  0.777484 &  0.363114 \\\\\n",
       "\\bottomrule\n",
       "\\end{tabular}\n"
      ],
      "text/plain": [
       "<lifelines.StatisticalResult: logrank_test>\n",
       "               t_0 = -1\n",
       " null_distribution = chi squared\n",
       "degrees_of_freedom = 1\n",
       "             alpha = 0.95\n",
       "         test_name = logrank_test\n",
       "\n",
       "---\n",
       " test_statistic    p  -log2(p)\n",
       "           0.08 0.78      0.36"
      ]
     },
     "metadata": {},
     "output_type": "display_data"
    }
   ],
   "source": [
    "# logrank test of cluster 0 vs cluster 2\n",
    "from lifelines.statistics import logrank_test\n",
    "\n",
    "results = logrank_test(T[cl0], T[cl2], E[cl0], E[cl2], alpha=.95)\n",
    "\n",
    "results.print_summary()"
   ]
  },
  {
   "cell_type": "code",
   "execution_count": 247,
   "metadata": {},
   "outputs": [
    {
     "data": {
      "text/html": [
       "<div>\n",
       "<style scoped>\n",
       "    .dataframe tbody tr th:only-of-type {\n",
       "        vertical-align: middle;\n",
       "    }\n",
       "\n",
       "    .dataframe tbody tr th {\n",
       "        vertical-align: top;\n",
       "    }\n",
       "\n",
       "    .dataframe thead th {\n",
       "        text-align: right;\n",
       "    }\n",
       "</style>\n",
       "<table border=\"1\" class=\"dataframe\">\n",
       "  <tbody>\n",
       "    <tr>\n",
       "      <th>t_0</th>\n",
       "      <td>-1</td>\n",
       "    </tr>\n",
       "    <tr>\n",
       "      <th>null_distribution</th>\n",
       "      <td>chi squared</td>\n",
       "    </tr>\n",
       "    <tr>\n",
       "      <th>degrees_of_freedom</th>\n",
       "      <td>1</td>\n",
       "    </tr>\n",
       "    <tr>\n",
       "      <th>alpha</th>\n",
       "      <td>0.95</td>\n",
       "    </tr>\n",
       "    <tr>\n",
       "      <th>test_name</th>\n",
       "      <td>logrank_test</td>\n",
       "    </tr>\n",
       "  </tbody>\n",
       "</table>\n",
       "</div><table border=\"1\" class=\"dataframe\">\n",
       "  <thead>\n",
       "    <tr style=\"text-align: right;\">\n",
       "      <th></th>\n",
       "      <th>test_statistic</th>\n",
       "      <th>p</th>\n",
       "      <th>-log2(p)</th>\n",
       "    </tr>\n",
       "  </thead>\n",
       "  <tbody>\n",
       "    <tr>\n",
       "      <th>0</th>\n",
       "      <td>4.15</td>\n",
       "      <td>0.04</td>\n",
       "      <td>4.59</td>\n",
       "    </tr>\n",
       "  </tbody>\n",
       "</table>"
      ],
      "text/latex": [
       "\\begin{tabular}{lrrr}\n",
       "\\toprule\n",
       "{} &  test\\_statistic &         p &  -log2(p) \\\\\n",
       "\\midrule\n",
       "0 &        4.152493 &  0.041573 &    4.5882 \\\\\n",
       "\\bottomrule\n",
       "\\end{tabular}\n"
      ],
      "text/plain": [
       "<lifelines.StatisticalResult: logrank_test>\n",
       "               t_0 = -1\n",
       " null_distribution = chi squared\n",
       "degrees_of_freedom = 1\n",
       "             alpha = 0.95\n",
       "         test_name = logrank_test\n",
       "\n",
       "---\n",
       " test_statistic    p  -log2(p)\n",
       "           4.15 0.04      4.59"
      ]
     },
     "metadata": {},
     "output_type": "display_data"
    }
   ],
   "source": [
    "# logrank test of cluster 0 vs cluster 1\n",
    "from lifelines.statistics import logrank_test\n",
    "\n",
    "results = logrank_test(T[cl1], T[cl0], E[cl1], E[cl0], alpha=.95)\n",
    "\n",
    "results.print_summary()"
   ]
  },
  {
   "cell_type": "markdown",
   "metadata": {},
   "source": [
    "## Cox Proportional Hazards Model\n",
    "\n",
    "To see the impact of each gene of our IL-22 signature, we applied the [cox proportional hazards model](https://lifelines.readthedocs.io/en/latest/Survival%20Regression.html) (CoxPH). In a first step, we create a dataframe containing the scaled gene expression counts, the observation and the survival event information as an appropriate input for the model. "
   ]
  },
  {
   "cell_type": "code",
   "execution_count": 248,
   "metadata": {},
   "outputs": [
    {
     "data": {
      "text/html": [
       "<div>\n",
       "<style scoped>\n",
       "    .dataframe tbody tr th:only-of-type {\n",
       "        vertical-align: middle;\n",
       "    }\n",
       "\n",
       "    .dataframe tbody tr th {\n",
       "        vertical-align: top;\n",
       "    }\n",
       "\n",
       "    .dataframe thead th {\n",
       "        text-align: right;\n",
       "    }\n",
       "</style>\n",
       "<table border=\"1\" class=\"dataframe\">\n",
       "  <thead>\n",
       "    <tr style=\"text-align: right;\">\n",
       "      <th></th>\n",
       "      <th>IL22RA1</th>\n",
       "      <th>IL22RA2</th>\n",
       "      <th>IL10RB</th>\n",
       "      <th>PVR</th>\n",
       "      <th>OS_event_nature2012</th>\n",
       "    </tr>\n",
       "    <tr>\n",
       "      <th>sample</th>\n",
       "      <th></th>\n",
       "      <th></th>\n",
       "      <th></th>\n",
       "      <th></th>\n",
       "      <th></th>\n",
       "    </tr>\n",
       "  </thead>\n",
       "  <tbody>\n",
       "    <tr>\n",
       "      <th>TCGA-BH-A0C7-01</th>\n",
       "      <td>2.508564</td>\n",
       "      <td>-0.089387</td>\n",
       "      <td>-0.654097</td>\n",
       "      <td>0.061457</td>\n",
       "      <td>0</td>\n",
       "    </tr>\n",
       "    <tr>\n",
       "      <th>TCGA-C8-A138-01</th>\n",
       "      <td>2.307502</td>\n",
       "      <td>-0.053077</td>\n",
       "      <td>0.984344</td>\n",
       "      <td>-0.226710</td>\n",
       "      <td>0</td>\n",
       "    </tr>\n",
       "    <tr>\n",
       "      <th>TCGA-E2-A14Y-01</th>\n",
       "      <td>1.906055</td>\n",
       "      <td>1.034591</td>\n",
       "      <td>-0.377177</td>\n",
       "      <td>1.410600</td>\n",
       "      <td>0</td>\n",
       "    </tr>\n",
       "    <tr>\n",
       "      <th>TCGA-BH-A0EE-01</th>\n",
       "      <td>1.640462</td>\n",
       "      <td>1.667573</td>\n",
       "      <td>1.782795</td>\n",
       "      <td>-1.508905</td>\n",
       "      <td>0</td>\n",
       "    </tr>\n",
       "    <tr>\n",
       "      <th>TCGA-A8-A08G-01</th>\n",
       "      <td>1.512081</td>\n",
       "      <td>-0.755752</td>\n",
       "      <td>0.333583</td>\n",
       "      <td>0.026528</td>\n",
       "      <td>0</td>\n",
       "    </tr>\n",
       "    <tr>\n",
       "      <th>...</th>\n",
       "      <td>...</td>\n",
       "      <td>...</td>\n",
       "      <td>...</td>\n",
       "      <td>...</td>\n",
       "      <td>...</td>\n",
       "    </tr>\n",
       "    <tr>\n",
       "      <th>TCGA-AQ-A04L-01</th>\n",
       "      <td>-1.623277</td>\n",
       "      <td>1.619883</td>\n",
       "      <td>-0.051797</td>\n",
       "      <td>-0.440651</td>\n",
       "      <td>0</td>\n",
       "    </tr>\n",
       "    <tr>\n",
       "      <th>TCGA-A8-A09G-01</th>\n",
       "      <td>-1.700645</td>\n",
       "      <td>0.255285</td>\n",
       "      <td>-1.904850</td>\n",
       "      <td>-1.980450</td>\n",
       "      <td>0</td>\n",
       "    </tr>\n",
       "    <tr>\n",
       "      <th>TCGA-BH-A1F2-01</th>\n",
       "      <td>-1.962366</td>\n",
       "      <td>0.009246</td>\n",
       "      <td>-0.040258</td>\n",
       "      <td>-2.513122</td>\n",
       "      <td>1</td>\n",
       "    </tr>\n",
       "    <tr>\n",
       "      <th>TCGA-A8-A07P-01</th>\n",
       "      <td>-1.962366</td>\n",
       "      <td>-1.013335</td>\n",
       "      <td>-0.485637</td>\n",
       "      <td>-0.718630</td>\n",
       "      <td>0</td>\n",
       "    </tr>\n",
       "    <tr>\n",
       "      <th>TCGA-A8-A07B-01</th>\n",
       "      <td>-1.962366</td>\n",
       "      <td>-1.245338</td>\n",
       "      <td>-3.264063</td>\n",
       "      <td>0.949243</td>\n",
       "      <td>0</td>\n",
       "    </tr>\n",
       "  </tbody>\n",
       "</table>\n",
       "<p>110 rows × 5 columns</p>\n",
       "</div>"
      ],
      "text/plain": [
       "                  IL22RA1   IL22RA2    IL10RB       PVR  OS_event_nature2012\n",
       "sample                                                                      \n",
       "TCGA-BH-A0C7-01  2.508564 -0.089387 -0.654097  0.061457                    0\n",
       "TCGA-C8-A138-01  2.307502 -0.053077  0.984344 -0.226710                    0\n",
       "TCGA-E2-A14Y-01  1.906055  1.034591 -0.377177  1.410600                    0\n",
       "TCGA-BH-A0EE-01  1.640462  1.667573  1.782795 -1.508905                    0\n",
       "TCGA-A8-A08G-01  1.512081 -0.755752  0.333583  0.026528                    0\n",
       "...                   ...       ...       ...       ...                  ...\n",
       "TCGA-AQ-A04L-01 -1.623277  1.619883 -0.051797 -0.440651                    0\n",
       "TCGA-A8-A09G-01 -1.700645  0.255285 -1.904850 -1.980450                    0\n",
       "TCGA-BH-A1F2-01 -1.962366  0.009246 -0.040258 -2.513122                    1\n",
       "TCGA-A8-A07P-01 -1.962366 -1.013335 -0.485637 -0.718630                    0\n",
       "TCGA-A8-A07B-01 -1.962366 -1.245338 -3.264063  0.949243                    0\n",
       "\n",
       "[110 rows x 5 columns]"
      ]
     },
     "execution_count": 248,
     "metadata": {},
     "output_type": "execute_result"
    }
   ],
   "source": [
    "#create a dataframe as input for the CoxPH model\n",
    "\n",
    "df_cox = X_scaled.join(df_pc[\"OS_event_nature2012\"])\n",
    "df_cox_surv =df_cox.join(df_pc[\"OS_Time_nature2012\"])\n",
    "df_cox_surv"
   ]
  },
  {
   "cell_type": "code",
   "execution_count": 250,
   "metadata": {},
   "outputs": [
    {
     "data": {
      "text/html": [
       "<div>\n",
       "<style scoped>\n",
       "    .dataframe tbody tr th:only-of-type {\n",
       "        vertical-align: middle;\n",
       "    }\n",
       "\n",
       "    .dataframe tbody tr th {\n",
       "        vertical-align: top;\n",
       "    }\n",
       "\n",
       "    .dataframe thead th {\n",
       "        text-align: right;\n",
       "    }\n",
       "</style>\n",
       "<table border=\"1\" class=\"dataframe\">\n",
       "  <tbody>\n",
       "    <tr>\n",
       "      <th>model</th>\n",
       "      <td>lifelines.CoxPHFitter</td>\n",
       "    </tr>\n",
       "    <tr>\n",
       "      <th>duration col</th>\n",
       "      <td>'OS_Time_nature2012'</td>\n",
       "    </tr>\n",
       "    <tr>\n",
       "      <th>event col</th>\n",
       "      <td>'OS_event_nature2012'</td>\n",
       "    </tr>\n",
       "    <tr>\n",
       "      <th>baseline estimation</th>\n",
       "      <td>breslow</td>\n",
       "    </tr>\n",
       "    <tr>\n",
       "      <th>number of observations</th>\n",
       "      <td>110</td>\n",
       "    </tr>\n",
       "    <tr>\n",
       "      <th>number of events observed</th>\n",
       "      <td>10</td>\n",
       "    </tr>\n",
       "    <tr>\n",
       "      <th>partial log-likelihood</th>\n",
       "      <td>-27.78</td>\n",
       "    </tr>\n",
       "    <tr>\n",
       "      <th>time fit was run</th>\n",
       "      <td>2022-01-18 16:17:43 UTC</td>\n",
       "    </tr>\n",
       "  </tbody>\n",
       "</table>\n",
       "</div><table border=\"1\" class=\"dataframe\">\n",
       "  <thead>\n",
       "    <tr style=\"text-align: right;\">\n",
       "      <th style=\"min-width: 12px;\"></th>\n",
       "      <th style=\"min-width: 12px;\">coef</th>\n",
       "      <th style=\"min-width: 12px;\">exp(coef)</th>\n",
       "      <th style=\"min-width: 12px;\">se(coef)</th>\n",
       "      <th style=\"min-width: 12px;\">coef lower 95%</th>\n",
       "      <th style=\"min-width: 12px;\">coef upper 95%</th>\n",
       "      <th style=\"min-width: 12px;\">exp(coef) lower 95%</th>\n",
       "      <th style=\"min-width: 12px;\">exp(coef) upper 95%</th>\n",
       "      <th style=\"min-width: 12px;\">z</th>\n",
       "      <th style=\"min-width: 12px;\">p</th>\n",
       "      <th style=\"min-width: 12px;\">-log2(p)</th>\n",
       "    </tr>\n",
       "  </thead>\n",
       "  <tbody>\n",
       "    <tr>\n",
       "      <th>IL22RA1</th>\n",
       "      <td>0.11</td>\n",
       "      <td>1.11</td>\n",
       "      <td>0.30</td>\n",
       "      <td>-0.48</td>\n",
       "      <td>0.70</td>\n",
       "      <td>0.62</td>\n",
       "      <td>2.01</td>\n",
       "      <td>0.35</td>\n",
       "      <td>0.72</td>\n",
       "      <td>0.47</td>\n",
       "    </tr>\n",
       "    <tr>\n",
       "      <th>IL22RA2</th>\n",
       "      <td>0.15</td>\n",
       "      <td>1.17</td>\n",
       "      <td>0.36</td>\n",
       "      <td>-0.55</td>\n",
       "      <td>0.86</td>\n",
       "      <td>0.58</td>\n",
       "      <td>2.36</td>\n",
       "      <td>0.43</td>\n",
       "      <td>0.67</td>\n",
       "      <td>0.58</td>\n",
       "    </tr>\n",
       "    <tr>\n",
       "      <th>IL10RB</th>\n",
       "      <td>-0.93</td>\n",
       "      <td>0.40</td>\n",
       "      <td>0.41</td>\n",
       "      <td>-1.72</td>\n",
       "      <td>-0.13</td>\n",
       "      <td>0.18</td>\n",
       "      <td>0.88</td>\n",
       "      <td>-2.27</td>\n",
       "      <td>0.02</td>\n",
       "      <td>5.43</td>\n",
       "    </tr>\n",
       "    <tr>\n",
       "      <th>PVR</th>\n",
       "      <td>0.23</td>\n",
       "      <td>1.25</td>\n",
       "      <td>0.41</td>\n",
       "      <td>-0.57</td>\n",
       "      <td>1.02</td>\n",
       "      <td>0.57</td>\n",
       "      <td>2.79</td>\n",
       "      <td>0.56</td>\n",
       "      <td>0.58</td>\n",
       "      <td>0.79</td>\n",
       "    </tr>\n",
       "  </tbody>\n",
       "</table><br><div>\n",
       "<style scoped>\n",
       "    .dataframe tbody tr th:only-of-type {\n",
       "        vertical-align: middle;\n",
       "    }\n",
       "\n",
       "    .dataframe tbody tr th {\n",
       "        vertical-align: top;\n",
       "    }\n",
       "\n",
       "    .dataframe thead th {\n",
       "        text-align: right;\n",
       "    }\n",
       "</style>\n",
       "<table border=\"1\" class=\"dataframe\">\n",
       "  <tbody>\n",
       "    <tr>\n",
       "      <th>Concordance</th>\n",
       "      <td>0.72</td>\n",
       "    </tr>\n",
       "    <tr>\n",
       "      <th>Partial AIC</th>\n",
       "      <td>63.55</td>\n",
       "    </tr>\n",
       "    <tr>\n",
       "      <th>log-likelihood ratio test</th>\n",
       "      <td>7.40 on 4 df</td>\n",
       "    </tr>\n",
       "    <tr>\n",
       "      <th>-log2(p) of ll-ratio test</th>\n",
       "      <td>3.10</td>\n",
       "    </tr>\n",
       "  </tbody>\n",
       "</table>\n",
       "</div>"
      ],
      "text/latex": [
       "\\begin{tabular}{lrrrrrrrrrr}\n",
       "\\toprule\n",
       "{} &  coef &  exp(coef) &  se(coef) &  coef lower 95\\% &  coef upper 95\\% &  exp(coef) lower 95\\% &  exp(coef) upper 95\\% &     z &    p &  -log2(p) \\\\\n",
       "covariate &       &            &           &                 &                 &                      &                      &       &      &           \\\\\n",
       "\\midrule\n",
       "IL22RA1   &  0.11 &       1.11 &      0.30 &           -0.48 &            0.70 &                 0.62 &                 2.01 &  0.35 & 0.72 &      0.47 \\\\\n",
       "IL22RA2   &  0.15 &       1.17 &      0.36 &           -0.55 &            0.86 &                 0.58 &                 2.36 &  0.43 & 0.67 &      0.58 \\\\\n",
       "IL10RB    & -0.93 &       0.40 &      0.41 &           -1.72 &           -0.13 &                 0.18 &                 0.88 & -2.27 & 0.02 &      5.43 \\\\\n",
       "PVR       &  0.23 &       1.25 &      0.41 &           -0.57 &            1.02 &                 0.57 &                 2.79 &  0.56 & 0.58 &      0.79 \\\\\n",
       "\\bottomrule\n",
       "\\end{tabular}\n"
      ],
      "text/plain": [
       "<lifelines.CoxPHFitter: fitted with 110 total observations, 100 right-censored observations>\n",
       "             duration col = 'OS_Time_nature2012'\n",
       "                event col = 'OS_event_nature2012'\n",
       "      baseline estimation = breslow\n",
       "   number of observations = 110\n",
       "number of events observed = 10\n",
       "   partial log-likelihood = -27.78\n",
       "         time fit was run = 2022-01-18 16:17:43 UTC\n",
       "\n",
       "---\n",
       "            coef  exp(coef)   se(coef)   coef lower 95%   coef upper 95%  exp(coef) lower 95%  exp(coef) upper 95%\n",
       "covariate                                                                                                         \n",
       "IL22RA1     0.11       1.11       0.30            -0.48             0.70                 0.62                 2.01\n",
       "IL22RA2     0.15       1.17       0.36            -0.55             0.86                 0.58                 2.36\n",
       "IL10RB     -0.93       0.40       0.41            -1.72            -0.13                 0.18                 0.88\n",
       "PVR         0.23       1.25       0.41            -0.57             1.02                 0.57                 2.79\n",
       "\n",
       "              z    p   -log2(p)\n",
       "covariate                      \n",
       "IL22RA1    0.35 0.72       0.47\n",
       "IL22RA2    0.43 0.67       0.58\n",
       "IL10RB    -2.27 0.02       5.43\n",
       "PVR        0.56 0.58       0.79\n",
       "---\n",
       "Concordance = 0.72\n",
       "Partial AIC = 63.55\n",
       "log-likelihood ratio test = 7.40 on 4 df\n",
       "-log2(p) of ll-ratio test = 3.10"
      ]
     },
     "metadata": {},
     "output_type": "display_data"
    },
    {
     "data": {
      "image/png": "[encoded data removed]",
      "text/plain": [
       "<Figure size 432x288 with 1 Axes>"
      ]
     },
     "metadata": {
      "needs_background": "light"
     },
     "output_type": "display_data"
    }
   ],
   "source": [
    "# Using Cox Proportional Hazards model to see the impact of each gene on survival\n",
    "\n",
    "from lifelines import CoxPHFitter\n",
    "\n",
    "cph = CoxPHFitter()\n",
    "cph.fit(df_cox_surv, duration_col = \"OS_Time_nature2012\", event_col='OS_event_nature2012')\n",
    "cph.print_summary()\n",
    "cph.plot()\n",
    "plt.savefig(fname = \"BRCA_HER2+_Main_CoxPH_genes.svg\", format = \"svg\")"
   ]
  },
  {
   "cell_type": "markdown",
   "metadata": {},
   "source": [
    "## Clinical Phenotype\n",
    "\n",
    "To see the clinical impact of the gene signatures, we analyzed the prevalence of pathological cancer stages among the clusters. In a first step, we summarized stae subtypes (e.g. IIA and IIB) to the main stage (e.g. Stage II). We then created dataframes containing the relative proportion of each stage per cluster as input for the pie charts, which can be found in Fig. 7F."
   ]
  },
  {
   "cell_type": "code",
   "execution_count": 252,
   "metadata": {},
   "outputs": [
    {
     "name": "stderr",
     "output_type": "stream",
     "text": [
      "<ipython-input-252-77cfa92f14f5>:1: SettingWithCopyWarning: \n",
      "A value is trying to be set on a copy of a slice from a DataFrame.\n",
      "Try using .loc[row_indexer,col_indexer] = value instead\n",
      "\n",
      "See the caveats in the documentation: https://pandas.pydata.org/pandas-docs/stable/user_guide/indexing.html#returning-a-view-versus-a-copy\n",
      "  df_pc[\"AJCC_Stage_nature2012\"] = df_pc[\"AJCC_Stage_nature2012\"].replace({\"Stage IA\": \"Stage I\", \"Stage IB\": \"Stage I\", \"Stage IIA\": \"Stage II\", \"Stage IIB\": \"Stage II\",\n"
     ]
    },
    {
     "data": {
      "text/plain": [
       "Stage II     70\n",
       "Stage III    30\n",
       "Stage I       7\n",
       "Stage X       2\n",
       "Stage IV      1\n",
       "Name: AJCC_Stage_nature2012, dtype: int64"
      ]
     },
     "execution_count": 252,
     "metadata": {},
     "output_type": "execute_result"
    }
   ],
   "source": [
    "#summary of substages\n",
    "\n",
    "df_pc[\"AJCC_Stage_nature2012\"] = df_pc[\"AJCC_Stage_nature2012\"].replace({\"Stage IA\": \"Stage I\", \"Stage IB\": \"Stage I\", \"Stage IIA\": \"Stage II\", \"Stage IIB\": \"Stage II\",\n",
    "                                                              \"Stage IIIA\": \"Stage III\", \"Stage IIIB\": \"Stage III\", \"Stage IIIC\": \"Stage III\"})\n",
    "df_pc[\"AJCC_Stage_nature2012\"].value_counts()\n"
   ]
  },
  {
   "cell_type": "code",
   "execution_count": 253,
   "metadata": {},
   "outputs": [],
   "source": [
    "#removal of non essential information for the pie charts\n",
    "df_stage_cl = df_pc.drop([\"IL22RA1\", \"IL22RA2\", \"samples\", \"IL10RB\", \"PVR\", \"histological_type\", \"sample_type\", \"OS_event_nature2012\", \"OS_Time_nature2012\", \"ER_Status_nature2012\", \"HER2_Final_Status_nature2012\", \"PR_Status_nature2012\"], axis =1)"
   ]
  },
  {
   "cell_type": "code",
   "execution_count": 254,
   "metadata": {},
   "outputs": [],
   "source": [
    "#calculating the relative proportions of each cancer stage per cluster\n",
    "\n",
    "df_cl_0 = df_stage_cl.loc[df_stage_cl[\"Cluster\"]==0]\n",
    "df_cl_1 = df_stage_cl.loc[df_stage_cl[\"Cluster\"]==1]\n",
    "df_cl_2 = df_stage_cl.loc[df_stage_cl[\"Cluster\"]==2]\n",
    "\n",
    "data_sc_0 = pd.DataFrame(df_cl_0.groupby(\"Cluster\")[\"AJCC_Stage_nature2012\"].value_counts(normalize = True)*100)\n",
    "data_sc_1 = pd.DataFrame(df_cl_1.groupby(\"Cluster\")[\"AJCC_Stage_nature2012\"].value_counts(normalize = True)*100)\n",
    "data_sc_2 = pd.DataFrame(df_cl_2.groupby(\"Cluster\")[\"AJCC_Stage_nature2012\"].value_counts(normalize = True)*100)\n",
    "\n",
    "data_sc_0.reset_index(level=0, drop=True, inplace = True)\n",
    "data_sc_1.reset_index(level=0, drop=True, inplace = True)\n",
    "data_sc_2.reset_index(level=0, drop=True, inplace = True)\n",
    "\n",
    "data_sc_0.sort_index(inplace = True)\n",
    "data_sc_1.sort_index(inplace = True)\n",
    "data_sc_2.sort_index(inplace = True)"
   ]
  },
  {
   "cell_type": "code",
   "execution_count": 258,
   "metadata": {},
   "outputs": [
    {
     "name": "stderr",
     "output_type": "stream",
     "text": [
      "<ipython-input-258-6df45d49dd75>:8: MatplotlibDeprecationWarning: Non-1D inputs to pie() are currently squeeze()d, but this behavior is deprecated since 3.1 and will be removed in 3.3; pass a 1D array instead.\n",
      "  ax1.pie(data_sc_0, labels = labels, explode = explode, colors = colors, pctdistance = 0.85, autopct=\"%1.1f%%\")\n"
     ]
    },
    {
     "data": {
      "image/png": "[encoded data removed]",
      "text/plain": [
       "<Figure size 432x288 with 1 Axes>"
      ]
     },
     "metadata": {},
     "output_type": "display_data"
    }
   ],
   "source": [
    "#Proportions of stages within cluster 0\n",
    "data = data_sc_0\n",
    "labels = data_sc_0.index\n",
    "explode = [0.01 for record in data]\n",
    "colors = [\"#ebebeb\", \"#b3b3b3\", \"#8f2929\", \"#5c1717\", \"#f5f5f5\"]\n",
    "\n",
    "fig1, ax1 = plt.subplots()\n",
    "ax1.pie(data_sc_0, labels = labels, explode = explode, colors = colors, pctdistance = 0.85, autopct=\"%1.1f%%\")\n",
    "\n",
    "centre_circle = plt.Circle((0,0), 0.7, fc =\"white\")\n",
    "fig = plt.gcf()\n",
    "fig.gca().add_artist(centre_circle)\n",
    "\n",
    "ax1.axis(\"equal\")\n",
    "plt.tight_layout()\n",
    "plt.savefig(fname = \"BRCA_Main_Cl0_stages.svg\", format = \"svg\")\n",
    "plt.show()"
   ]
  },
  {
   "cell_type": "code",
   "execution_count": 259,
   "metadata": {},
   "outputs": [
    {
     "name": "stderr",
     "output_type": "stream",
     "text": [
      "<ipython-input-259-9d20557ae747>:8: MatplotlibDeprecationWarning: Non-1D inputs to pie() are currently squeeze()d, but this behavior is deprecated since 3.1 and will be removed in 3.3; pass a 1D array instead.\n",
      "  ax1.pie(data_sc_1, labels = labels, explode = explode, colors = colors, pctdistance = 0.85, autopct=\"%1.1f%%\")\n"
     ]
    },
    {
     "data": {
      "image/png": "[encoded data removed]",
      "text/plain": [
       "<Figure size 432x288 with 1 Axes>"
      ]
     },
     "metadata": {},
     "output_type": "display_data"
    }
   ],
   "source": [
    "#Proportions of stages within cluster 1\n",
    "data = data_sc_1\n",
    "labels = data_sc_1.index\n",
    "explode = [0.01 for record in data]\n",
    "colors = [\"#ebebeb\", \"#b3b3b3\", \"#8f2929\", \"#5c1717\", \"#f5f5f5\"]\n",
    "\n",
    "fig1, ax1 = plt.subplots()\n",
    "ax1.pie(data_sc_1, labels = labels, explode = explode, colors = colors, pctdistance = 0.85, autopct=\"%1.1f%%\")\n",
    "\n",
    "centre_circle = plt.Circle((0,0), 0.7, fc =\"white\")\n",
    "fig = plt.gcf()\n",
    "fig.gca().add_artist(centre_circle)\n",
    "\n",
    "ax1.axis(\"equal\")\n",
    "plt.tight_layout()\n",
    "plt.savefig(fname = \"BRCA_Main_Cl1_stages.svg\", format = \"svg\")\n",
    "plt.show()\n"
   ]
  },
  {
   "cell_type": "code",
   "execution_count": 260,
   "metadata": {},
   "outputs": [
    {
     "name": "stderr",
     "output_type": "stream",
     "text": [
      "<ipython-input-260-a8c68d17c041>:8: MatplotlibDeprecationWarning: Non-1D inputs to pie() are currently squeeze()d, but this behavior is deprecated since 3.1 and will be removed in 3.3; pass a 1D array instead.\n",
      "  ax1.pie(data_sc_2, labels = labels, explode = explode, colors = colors, pctdistance = 0.85, autopct=\"%1.1f%%\")\n"
     ]
    },
    {
     "data": {
      "image/png": "[encoded data removed]",
      "text/plain": [
       "<Figure size 432x288 with 1 Axes>"
      ]
     },
     "metadata": {},
     "output_type": "display_data"
    }
   ],
   "source": [
    "#Proportions of stages within cluster 2\n",
    "data = data_sc_2\n",
    "labels = data_sc_2.index\n",
    "explode = [0.01 for record in data]\n",
    "colors = [\"#ebebeb\", \"#b3b3b3\", \"#8f2929\", \"#5c1717\"]\n",
    "\n",
    "fig1, ax1 = plt.subplots()\n",
    "ax1.pie(data_sc_2, labels = labels, explode = explode, colors = colors, pctdistance = 0.85, autopct=\"%1.1f%%\")\n",
    "\n",
    "centre_circle = plt.Circle((0,0), 0.7, fc =\"white\")\n",
    "fig = plt.gcf()\n",
    "fig.gca().add_artist(centre_circle)\n",
    "\n",
    "ax1.axis(\"equal\")\n",
    "plt.tight_layout()\n",
    "plt.savefig(fname = \"BRCA_Main_Cl2_stages.svg\", format = \"svg\")\n",
    "plt.show()"
   ]
  },
  {
   "cell_type": "code",
   "execution_count": 261,
   "metadata": {},
   "outputs": [],
   "source": [
    "#export a summary of the absolute counts of each stage per cluster\n",
    "summary = pd.DataFrame(df_stage_cl.groupby(\"Cluster\")[\"AJCC_Stage_nature2012\"].value_counts())\n",
    "summary.to_excel(\"BRCA_HER2+_Main_summary_stages.xlsx\")"
   ]
  },
  {
   "cell_type": "code",
   "execution_count": 265,
   "metadata": {},
   "outputs": [],
   "source": [
    "#export a table with genomic, phenotypic and cluster information \n",
    "df_pc.to_excel(\"BRCA_HER2+_Main.xlsx\")"
   ]
  },
  {
   "cell_type": "code",
   "execution_count": null,
   "metadata": {},
   "outputs": [],
   "source": []
  },
  {
   "cell_type": "code",
   "execution_count": null,
   "metadata": {},
   "outputs": [],
   "source": []
  },
  {
   "cell_type": "code",
   "execution_count": null,
   "metadata": {},
   "outputs": [],
   "source": []
  },
  {
   "cell_type": "code",
   "execution_count": null,
   "metadata": {},
   "outputs": [],
   "source": []
  },
  {
   "cell_type": "code",
   "execution_count": null,
   "metadata": {},
   "outputs": [],
   "source": []
  },
  {
   "cell_type": "code",
   "execution_count": null,
   "metadata": {},
   "outputs": [],
   "source": []
  },
  {
   "cell_type": "code",
   "execution_count": null,
   "metadata": {},
   "outputs": [],
   "source": []
  },
  {
   "cell_type": "code",
   "execution_count": null,
   "metadata": {},
   "outputs": [],
   "source": []
  }
 ],
 "metadata": {
  "kernelspec": {
   "display_name": "Python 3",
   "language": "python",
   "name": "python3"
  },
  "language_info": {
   "codemirror_mode": {
    "name": "ipython",
    "version": 3
   },
   "file_extension": ".py",
   "mimetype": "text/x-python",
   "name": "python",
   "nbconvert_exporter": "python",
   "pygments_lexer": "ipython3",
   "version": "3.8.3"
  }
 },
 "nbformat": 4,
 "nbformat_minor": 4
}
